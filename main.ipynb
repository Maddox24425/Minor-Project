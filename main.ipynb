{
 "cells": [
  {
   "cell_type": "markdown",
   "id": "bb4b99a4",
   "metadata": {},
   "source": [
    "## **Sentiment Analysis**"
   ]
  },
  {
   "cell_type": "markdown",
   "id": "505107a1",
   "metadata": {},
   "source": [
    "## Importing Libraries"
   ]
  },
  {
   "cell_type": "code",
   "execution_count": null,
   "id": "61b9d7a9",
   "metadata": {},
   "outputs": [
    {
     "name": "stderr",
     "output_type": "stream",
     "text": [
      "d:\\Data Science\\myenv\\Lib\\site-packages\\tqdm\\auto.py:21: TqdmWarning: IProgress not found. Please update jupyter and ipywidgets. See https://ipywidgets.readthedocs.io/en/stable/user_install.html\n",
      "  from .autonotebook import tqdm as notebook_tqdm\n"
     ]
    }
   ],
   "source": [
    "import pandas as pd\n",
    "import numpy as np\n",
    "import os \n",
    "import matplotlib.pyplot as plt\n",
    "import seaborn as sns\n",
    "from sklearn.model_selection import train_test_split, cross_val_score, KFold\n",
    "from sklearn.preprocessing import OrdinalEncoder, OneHotEncoder, LabelEncoder\n",
    "from sklearn.metrics import accuracy_score, precision_score, confusion_matrix\n",
    "from sklearn.feature_extraction.text import TfidfVectorizer\n",
    "from sklearn.linear_model import LogisticRegression\n",
    "from sklearn.svm import LinearSVC\n",
    "from sklearn.ensemble import RandomForestClassifier, GradientBoostingClassifier, HistGradientBoostingClassifier\n",
    "from sklearn.naive_bayes import MultinomialNB\n",
    "import kagglehub\n",
    "import re\n",
    "from nltk.corpus import stopwords\n",
    "from nltk.stem.porter import PorterStemmer\n",
    "import warnings\n",
    "warnings.filterwarnings('ignore')"
   ]
  },
  {
   "cell_type": "markdown",
   "id": "6f066827",
   "metadata": {},
   "source": [
    "## Importing Data 1"
   ]
  },
  {
   "cell_type": "code",
   "execution_count": 2,
   "id": "65222d27",
   "metadata": {},
   "outputs": [
    {
     "name": "stdout",
     "output_type": "stream",
     "text": [
      "Warning: Looks like you're using an outdated `kagglehub` version (installed: 0.3.12), please consider upgrading to the latest version (0.3.13).\n",
      "Path to dataset files: C:\\Users\\Maddox\\.cache\\kagglehub\\datasets\\abhi8923shriv\\sentiment-analysis-dataset\\versions\\9\n"
     ]
    }
   ],
   "source": [
    "path = kagglehub.dataset_download(\"abhi8923shriv/sentiment-analysis-dataset\")\n",
    "\n",
    "print(\"Path to dataset files:\", path)"
   ]
  },
  {
   "cell_type": "code",
   "execution_count": 3,
   "id": "6a26c665",
   "metadata": {},
   "outputs": [
    {
     "data": {
      "text/plain": [
       "['test.csv',\n",
       " 'testdata.manual.2009.06.14.csv',\n",
       " 'train.csv',\n",
       " 'training.1600000.processed.noemoticon.csv']"
      ]
     },
     "execution_count": 3,
     "metadata": {},
     "output_type": "execute_result"
    }
   ],
   "source": [
    "import os\n",
    "files = os.listdir(path)\n",
    "files"
   ]
  },
  {
   "cell_type": "code",
   "execution_count": 4,
   "id": "5e92307d",
   "metadata": {},
   "outputs": [
    {
     "data": {
      "text/plain": [
       "'C:\\\\Users\\\\Maddox\\\\.cache\\\\kagglehub\\\\datasets\\\\abhi8923shriv\\\\sentiment-analysis-dataset\\\\versions\\\\9/test.csv'"
      ]
     },
     "metadata": {},
     "output_type": "display_data"
    }
   ],
   "source": [
    "path1=path+'/'+files[0]\n",
    "path2=path+'/'+files[1]\n",
    "path3=path+'/'+files[2]\n",
    "path4=path+'/'+files[3]\n",
    "display(path1)"
   ]
  },
  {
   "cell_type": "code",
   "execution_count": 5,
   "id": "fcdc3444",
   "metadata": {},
   "outputs": [],
   "source": [
    "import pandas as pd\n",
    "df1 = pd.read_csv(path1, encoding=\"iso-8859-1\")"
   ]
  },
  {
   "cell_type": "code",
   "execution_count": 6,
   "id": "d792d5bf",
   "metadata": {},
   "outputs": [
    {
     "data": {
      "application/vnd.microsoft.datawrangler.viewer.v0+json": {
       "columns": [
        {
         "name": "index",
         "rawType": "int64",
         "type": "integer"
        },
        {
         "name": "textID",
         "rawType": "object",
         "type": "unknown"
        },
        {
         "name": "text",
         "rawType": "object",
         "type": "unknown"
        },
        {
         "name": "sentiment",
         "rawType": "object",
         "type": "unknown"
        },
        {
         "name": "Time of Tweet",
         "rawType": "object",
         "type": "unknown"
        },
        {
         "name": "Age of User",
         "rawType": "object",
         "type": "unknown"
        },
        {
         "name": "Country",
         "rawType": "object",
         "type": "unknown"
        },
        {
         "name": "Population -2020",
         "rawType": "float64",
         "type": "float"
        },
        {
         "name": "Land Area (Km²)",
         "rawType": "float64",
         "type": "float"
        },
        {
         "name": "Density (P/Km²)",
         "rawType": "float64",
         "type": "float"
        }
       ],
       "ref": "b77e9cf1-8c0f-455b-b38c-59558e1b9b67",
       "rows": [
        [
         "2110",
         "52eaf44b44",
         "Good Morning. It`s Friday and the start of my work week  But... Lakers are going to take the 4th W tonight. Woohoo GO LAKERS!!!!",
         "positive",
         "noon",
         "21-30",
         "Montenegro",
         "628066.0",
         "13450.0",
         "47.0"
        ],
        [
         "4610",
         null,
         null,
         null,
         null,
         null,
         null,
         null,
         null,
         null
        ],
        [
         "1980",
         "587cf8a61e",
         " it is my honor",
         "positive",
         "morning",
         "46-60",
         "Turkmenistan",
         "6031200.0",
         "469930.0",
         "13.0"
        ],
        [
         "1212",
         "496abe9ad9",
         " no wonder you hate driving and country roads and stuff",
         "negative",
         "morning",
         "0-20",
         "Georgia",
         "3989167.0",
         "69490.0",
         "57.0"
        ],
        [
         "454",
         "4dd3339756",
         "just left & already misses Nashville  be back sunday",
         "negative",
         "noon",
         "60-70",
         "Germany",
         "83783942.0",
         "348560.0",
         "240.0"
        ]
       ],
       "shape": {
        "columns": 9,
        "rows": 5
       }
      },
      "text/html": [
       "<div>\n",
       "<style scoped>\n",
       "    .dataframe tbody tr th:only-of-type {\n",
       "        vertical-align: middle;\n",
       "    }\n",
       "\n",
       "    .dataframe tbody tr th {\n",
       "        vertical-align: top;\n",
       "    }\n",
       "\n",
       "    .dataframe thead th {\n",
       "        text-align: right;\n",
       "    }\n",
       "</style>\n",
       "<table border=\"1\" class=\"dataframe\">\n",
       "  <thead>\n",
       "    <tr style=\"text-align: right;\">\n",
       "      <th></th>\n",
       "      <th>textID</th>\n",
       "      <th>text</th>\n",
       "      <th>sentiment</th>\n",
       "      <th>Time of Tweet</th>\n",
       "      <th>Age of User</th>\n",
       "      <th>Country</th>\n",
       "      <th>Population -2020</th>\n",
       "      <th>Land Area (Km²)</th>\n",
       "      <th>Density (P/Km²)</th>\n",
       "    </tr>\n",
       "  </thead>\n",
       "  <tbody>\n",
       "    <tr>\n",
       "      <th>2110</th>\n",
       "      <td>52eaf44b44</td>\n",
       "      <td>Good Morning. It`s Friday and the start of my ...</td>\n",
       "      <td>positive</td>\n",
       "      <td>noon</td>\n",
       "      <td>21-30</td>\n",
       "      <td>Montenegro</td>\n",
       "      <td>628066.0</td>\n",
       "      <td>13450.0</td>\n",
       "      <td>47.0</td>\n",
       "    </tr>\n",
       "    <tr>\n",
       "      <th>4610</th>\n",
       "      <td>NaN</td>\n",
       "      <td>NaN</td>\n",
       "      <td>NaN</td>\n",
       "      <td>NaN</td>\n",
       "      <td>NaN</td>\n",
       "      <td>NaN</td>\n",
       "      <td>NaN</td>\n",
       "      <td>NaN</td>\n",
       "      <td>NaN</td>\n",
       "    </tr>\n",
       "    <tr>\n",
       "      <th>1980</th>\n",
       "      <td>587cf8a61e</td>\n",
       "      <td>it is my honor</td>\n",
       "      <td>positive</td>\n",
       "      <td>morning</td>\n",
       "      <td>46-60</td>\n",
       "      <td>Turkmenistan</td>\n",
       "      <td>6031200.0</td>\n",
       "      <td>469930.0</td>\n",
       "      <td>13.0</td>\n",
       "    </tr>\n",
       "    <tr>\n",
       "      <th>1212</th>\n",
       "      <td>496abe9ad9</td>\n",
       "      <td>no wonder you hate driving and country roads ...</td>\n",
       "      <td>negative</td>\n",
       "      <td>morning</td>\n",
       "      <td>0-20</td>\n",
       "      <td>Georgia</td>\n",
       "      <td>3989167.0</td>\n",
       "      <td>69490.0</td>\n",
       "      <td>57.0</td>\n",
       "    </tr>\n",
       "    <tr>\n",
       "      <th>454</th>\n",
       "      <td>4dd3339756</td>\n",
       "      <td>just left &amp; already misses Nashville  be back ...</td>\n",
       "      <td>negative</td>\n",
       "      <td>noon</td>\n",
       "      <td>60-70</td>\n",
       "      <td>Germany</td>\n",
       "      <td>83783942.0</td>\n",
       "      <td>348560.0</td>\n",
       "      <td>240.0</td>\n",
       "    </tr>\n",
       "  </tbody>\n",
       "</table>\n",
       "</div>"
      ],
      "text/plain": [
       "          textID                                               text sentiment  \\\n",
       "2110  52eaf44b44  Good Morning. It`s Friday and the start of my ...  positive   \n",
       "4610         NaN                                                NaN       NaN   \n",
       "1980  587cf8a61e                                     it is my honor  positive   \n",
       "1212  496abe9ad9   no wonder you hate driving and country roads ...  negative   \n",
       "454   4dd3339756  just left & already misses Nashville  be back ...  negative   \n",
       "\n",
       "     Time of Tweet Age of User       Country  Population -2020  \\\n",
       "2110          noon       21-30    Montenegro          628066.0   \n",
       "4610           NaN         NaN           NaN               NaN   \n",
       "1980       morning       46-60  Turkmenistan         6031200.0   \n",
       "1212       morning        0-20       Georgia         3989167.0   \n",
       "454           noon       60-70       Germany        83783942.0   \n",
       "\n",
       "      Land Area (Km²)  Density (P/Km²)  \n",
       "2110          13450.0             47.0  \n",
       "4610              NaN              NaN  \n",
       "1980         469930.0             13.0  \n",
       "1212          69490.0             57.0  \n",
       "454          348560.0            240.0  "
      ]
     },
     "metadata": {},
     "output_type": "display_data"
    },
    {
     "data": {
      "text/plain": [
       "(4815, 9)"
      ]
     },
     "metadata": {},
     "output_type": "display_data"
    },
    {
     "data": {
      "text/plain": [
       "Index(['textID', 'text', 'sentiment', 'Time of Tweet', 'Age of User',\n",
       "       'Country', 'Population -2020', 'Land Area (Km²)', 'Density (P/Km²)'],\n",
       "      dtype='object')"
      ]
     },
     "metadata": {},
     "output_type": "display_data"
    },
    {
     "name": "stdout",
     "output_type": "stream",
     "text": [
      "<class 'pandas.core.frame.DataFrame'>\n",
      "RangeIndex: 4815 entries, 0 to 4814\n",
      "Data columns (total 9 columns):\n",
      " #   Column            Non-Null Count  Dtype  \n",
      "---  ------            --------------  -----  \n",
      " 0   textID            3534 non-null   object \n",
      " 1   text              3534 non-null   object \n",
      " 2   sentiment         3534 non-null   object \n",
      " 3   Time of Tweet     3534 non-null   object \n",
      " 4   Age of User       3534 non-null   object \n",
      " 5   Country           3534 non-null   object \n",
      " 6   Population -2020  3534 non-null   float64\n",
      " 7   Land Area (Km²)   3534 non-null   float64\n",
      " 8   Density (P/Km²)   3534 non-null   float64\n",
      "dtypes: float64(3), object(6)\n",
      "memory usage: 338.7+ KB\n"
     ]
    },
    {
     "data": {
      "text/plain": [
       "None"
      ]
     },
     "metadata": {},
     "output_type": "display_data"
    }
   ],
   "source": [
    "display(df1.sample(5))\n",
    "display(df1.shape)\n",
    "display(df1.columns)\n",
    "display(df1.info())\n"
   ]
  },
  {
   "cell_type": "code",
   "execution_count": 7,
   "id": "3a56f448",
   "metadata": {},
   "outputs": [
    {
     "data": {
      "application/vnd.microsoft.datawrangler.viewer.v0+json": {
       "columns": [
        {
         "name": "index",
         "rawType": "int64",
         "type": "integer"
        },
        {
         "name": "4",
         "rawType": "int64",
         "type": "integer"
        },
        {
         "name": "3",
         "rawType": "int64",
         "type": "integer"
        },
        {
         "name": "Mon May 11 03:17:40 UTC 2009",
         "rawType": "object",
         "type": "string"
        },
        {
         "name": "kindle2",
         "rawType": "object",
         "type": "string"
        },
        {
         "name": "tpryan",
         "rawType": "object",
         "type": "string"
        },
        {
         "name": "@stellargirl I loooooooovvvvvveee my Kindle2. Not that the DX is cool, but the 2 is fantastic in its own right.",
         "rawType": "object",
         "type": "string"
        }
       ],
       "ref": "8371523b-af11-42a7-96df-208d063e1d35",
       "rows": [
        [
         "374",
         "2",
         "2369",
         "Tue Jun 02 03:00:51 UTC 2009",
         "gm",
         "economywire",
         "Obama: Nationalization of GM to be short-term   (AP) http://tinyurl.com/md347r"
        ],
        [
         "476",
         "4",
         "13053",
         "Sat Jun 13 16:24:12 UTC 2009",
         "Bobby Flay",
         "ZFilth",
         "Gonna go see Bobby Flay 2moro at Shoreline. Eat and drink. Gonna be good."
        ]
       ],
       "shape": {
        "columns": 6,
        "rows": 2
       }
      },
      "text/html": [
       "<div>\n",
       "<style scoped>\n",
       "    .dataframe tbody tr th:only-of-type {\n",
       "        vertical-align: middle;\n",
       "    }\n",
       "\n",
       "    .dataframe tbody tr th {\n",
       "        vertical-align: top;\n",
       "    }\n",
       "\n",
       "    .dataframe thead th {\n",
       "        text-align: right;\n",
       "    }\n",
       "</style>\n",
       "<table border=\"1\" class=\"dataframe\">\n",
       "  <thead>\n",
       "    <tr style=\"text-align: right;\">\n",
       "      <th></th>\n",
       "      <th>4</th>\n",
       "      <th>3</th>\n",
       "      <th>Mon May 11 03:17:40 UTC 2009</th>\n",
       "      <th>kindle2</th>\n",
       "      <th>tpryan</th>\n",
       "      <th>@stellargirl I loooooooovvvvvveee my Kindle2. Not that the DX is cool, but the 2 is fantastic in its own right.</th>\n",
       "    </tr>\n",
       "  </thead>\n",
       "  <tbody>\n",
       "    <tr>\n",
       "      <th>374</th>\n",
       "      <td>2</td>\n",
       "      <td>2369</td>\n",
       "      <td>Tue Jun 02 03:00:51 UTC 2009</td>\n",
       "      <td>gm</td>\n",
       "      <td>economywire</td>\n",
       "      <td>Obama: Nationalization of GM to be short-term ...</td>\n",
       "    </tr>\n",
       "    <tr>\n",
       "      <th>476</th>\n",
       "      <td>4</td>\n",
       "      <td>13053</td>\n",
       "      <td>Sat Jun 13 16:24:12 UTC 2009</td>\n",
       "      <td>Bobby Flay</td>\n",
       "      <td>ZFilth</td>\n",
       "      <td>Gonna go see Bobby Flay 2moro at Shoreline. Ea...</td>\n",
       "    </tr>\n",
       "  </tbody>\n",
       "</table>\n",
       "</div>"
      ],
      "text/plain": [
       "     4      3  Mon May 11 03:17:40 UTC 2009     kindle2       tpryan  \\\n",
       "374  2   2369  Tue Jun 02 03:00:51 UTC 2009          gm  economywire   \n",
       "476  4  13053  Sat Jun 13 16:24:12 UTC 2009  Bobby Flay       ZFilth   \n",
       "\n",
       "    @stellargirl I loooooooovvvvvveee my Kindle2. Not that the DX is cool, but the 2 is fantastic in its own right.  \n",
       "374  Obama: Nationalization of GM to be short-term ...                                                               \n",
       "476  Gonna go see Bobby Flay 2moro at Shoreline. Ea...                                                               "
      ]
     },
     "metadata": {},
     "output_type": "display_data"
    },
    {
     "data": {
      "text/plain": [
       "(515, 6)"
      ]
     },
     "metadata": {},
     "output_type": "display_data"
    },
    {
     "name": "stdout",
     "output_type": "stream",
     "text": [
      "<class 'pandas.core.frame.DataFrame'>\n",
      "RangeIndex: 515 entries, 0 to 514\n",
      "Data columns (total 6 columns):\n",
      " #   Column                                                                                                           Non-Null Count  Dtype \n",
      "---  ------                                                                                                           --------------  ----- \n",
      " 0   4                                                                                                                515 non-null    int64 \n",
      " 1   3                                                                                                                515 non-null    int64 \n",
      " 2   Mon May 11 03:17:40 UTC 2009                                                                                     515 non-null    object\n",
      " 3   kindle2                                                                                                          515 non-null    object\n",
      " 4   tpryan                                                                                                           515 non-null    object\n",
      " 5   @stellargirl I loooooooovvvvvveee my Kindle2. Not that the DX is cool, but the 2 is fantastic in its own right.  515 non-null    object\n",
      "dtypes: int64(2), object(4)\n",
      "memory usage: 24.3+ KB\n"
     ]
    },
    {
     "data": {
      "text/plain": [
       "None"
      ]
     },
     "metadata": {},
     "output_type": "display_data"
    }
   ],
   "source": [
    "df2 = pd.read_csv(path2, encoding='utf-8')\n",
    "display(df2.sample(2))\n",
    "display(df2.shape)\n",
    "display(df2.info())"
   ]
  },
  {
   "cell_type": "code",
   "execution_count": 8,
   "id": "1e5ddbfc",
   "metadata": {},
   "outputs": [
    {
     "data": {
      "application/vnd.microsoft.datawrangler.viewer.v0+json": {
       "columns": [
        {
         "name": "index",
         "rawType": "int64",
         "type": "integer"
        },
        {
         "name": "textID",
         "rawType": "object",
         "type": "string"
        },
        {
         "name": "text",
         "rawType": "object",
         "type": "string"
        },
        {
         "name": "selected_text",
         "rawType": "object",
         "type": "string"
        },
        {
         "name": "sentiment",
         "rawType": "object",
         "type": "string"
        },
        {
         "name": "Time of Tweet",
         "rawType": "object",
         "type": "string"
        },
        {
         "name": "Age of User",
         "rawType": "object",
         "type": "string"
        },
        {
         "name": "Country",
         "rawType": "object",
         "type": "string"
        },
        {
         "name": "Population -2020",
         "rawType": "int64",
         "type": "integer"
        },
        {
         "name": "Land Area (Km²)",
         "rawType": "float64",
         "type": "float"
        },
        {
         "name": "Density (P/Km²)",
         "rawType": "int64",
         "type": "integer"
        }
       ],
       "ref": "768732c0-bf2a-44ef-95a7-1c0c32cf93b4",
       "rows": [
        [
         "7059",
         "4e90230366",
         " cool and aww",
         "cool and aww",
         "positive",
         "morning",
         "46-60",
         "Vanuatu",
         "307145",
         "12200.0",
         "25"
        ],
        [
         "23384",
         "f42b29a222",
         " afternoon! u`ve got a new pic, nice specs",
         "nice",
         "positive",
         "night",
         "31-45",
         "Eswatini (fmr. \"Swaziland\")",
         "1160164",
         "17200.0",
         "67"
        ],
        [
         "8576",
         "f5dae9250d",
         "Going on 1,116 days still no new tattoo.",
         "Going on 1,116 days still no new tattoo.",
         "neutral",
         "night",
         "31-45",
         "Bolivia",
         "11673021",
         "1083300.0",
         "11"
        ],
        [
         "10375",
         "97f1a30e59",
         "hates continually getting sick whenever he has exams",
         "hates continually getting sick",
         "negative",
         "noon",
         "21-30",
         "Armenia",
         "2963243",
         "28470.0",
         "104"
        ],
        [
         "18468",
         "64e667eced",
         " Did they already get the tax money from Helio for his winning of the pole position! Ha ha!!",
         "Did they already get the tax money from Helio for his winning of the pole position! Ha ha!!",
         "neutral",
         "morning",
         "0-20",
         "Norway",
         "5421241",
         "365000.0",
         "15"
        ]
       ],
       "shape": {
        "columns": 10,
        "rows": 5
       }
      },
      "text/html": [
       "<div>\n",
       "<style scoped>\n",
       "    .dataframe tbody tr th:only-of-type {\n",
       "        vertical-align: middle;\n",
       "    }\n",
       "\n",
       "    .dataframe tbody tr th {\n",
       "        vertical-align: top;\n",
       "    }\n",
       "\n",
       "    .dataframe thead th {\n",
       "        text-align: right;\n",
       "    }\n",
       "</style>\n",
       "<table border=\"1\" class=\"dataframe\">\n",
       "  <thead>\n",
       "    <tr style=\"text-align: right;\">\n",
       "      <th></th>\n",
       "      <th>textID</th>\n",
       "      <th>text</th>\n",
       "      <th>selected_text</th>\n",
       "      <th>sentiment</th>\n",
       "      <th>Time of Tweet</th>\n",
       "      <th>Age of User</th>\n",
       "      <th>Country</th>\n",
       "      <th>Population -2020</th>\n",
       "      <th>Land Area (Km²)</th>\n",
       "      <th>Density (P/Km²)</th>\n",
       "    </tr>\n",
       "  </thead>\n",
       "  <tbody>\n",
       "    <tr>\n",
       "      <th>7059</th>\n",
       "      <td>4e90230366</td>\n",
       "      <td>cool and aww</td>\n",
       "      <td>cool and aww</td>\n",
       "      <td>positive</td>\n",
       "      <td>morning</td>\n",
       "      <td>46-60</td>\n",
       "      <td>Vanuatu</td>\n",
       "      <td>307145</td>\n",
       "      <td>12200.0</td>\n",
       "      <td>25</td>\n",
       "    </tr>\n",
       "    <tr>\n",
       "      <th>23384</th>\n",
       "      <td>f42b29a222</td>\n",
       "      <td>afternoon! u`ve got a new pic, nice specs</td>\n",
       "      <td>nice</td>\n",
       "      <td>positive</td>\n",
       "      <td>night</td>\n",
       "      <td>31-45</td>\n",
       "      <td>Eswatini (fmr. \"Swaziland\")</td>\n",
       "      <td>1160164</td>\n",
       "      <td>17200.0</td>\n",
       "      <td>67</td>\n",
       "    </tr>\n",
       "    <tr>\n",
       "      <th>8576</th>\n",
       "      <td>f5dae9250d</td>\n",
       "      <td>Going on 1,116 days still no new tattoo.</td>\n",
       "      <td>Going on 1,116 days still no new tattoo.</td>\n",
       "      <td>neutral</td>\n",
       "      <td>night</td>\n",
       "      <td>31-45</td>\n",
       "      <td>Bolivia</td>\n",
       "      <td>11673021</td>\n",
       "      <td>1083300.0</td>\n",
       "      <td>11</td>\n",
       "    </tr>\n",
       "    <tr>\n",
       "      <th>10375</th>\n",
       "      <td>97f1a30e59</td>\n",
       "      <td>hates continually getting sick whenever he has...</td>\n",
       "      <td>hates continually getting sick</td>\n",
       "      <td>negative</td>\n",
       "      <td>noon</td>\n",
       "      <td>21-30</td>\n",
       "      <td>Armenia</td>\n",
       "      <td>2963243</td>\n",
       "      <td>28470.0</td>\n",
       "      <td>104</td>\n",
       "    </tr>\n",
       "    <tr>\n",
       "      <th>18468</th>\n",
       "      <td>64e667eced</td>\n",
       "      <td>Did they already get the tax money from Helio...</td>\n",
       "      <td>Did they already get the tax money from Helio ...</td>\n",
       "      <td>neutral</td>\n",
       "      <td>morning</td>\n",
       "      <td>0-20</td>\n",
       "      <td>Norway</td>\n",
       "      <td>5421241</td>\n",
       "      <td>365000.0</td>\n",
       "      <td>15</td>\n",
       "    </tr>\n",
       "  </tbody>\n",
       "</table>\n",
       "</div>"
      ],
      "text/plain": [
       "           textID                                               text  \\\n",
       "7059   4e90230366                                       cool and aww   \n",
       "23384  f42b29a222          afternoon! u`ve got a new pic, nice specs   \n",
       "8576   f5dae9250d           Going on 1,116 days still no new tattoo.   \n",
       "10375  97f1a30e59  hates continually getting sick whenever he has...   \n",
       "18468  64e667eced   Did they already get the tax money from Helio...   \n",
       "\n",
       "                                           selected_text sentiment  \\\n",
       "7059                                        cool and aww  positive   \n",
       "23384                                               nice  positive   \n",
       "8576            Going on 1,116 days still no new tattoo.   neutral   \n",
       "10375                     hates continually getting sick  negative   \n",
       "18468  Did they already get the tax money from Helio ...   neutral   \n",
       "\n",
       "      Time of Tweet Age of User                      Country  \\\n",
       "7059        morning       46-60                      Vanuatu   \n",
       "23384         night       31-45  Eswatini (fmr. \"Swaziland\")   \n",
       "8576          night       31-45                      Bolivia   \n",
       "10375          noon       21-30                      Armenia   \n",
       "18468       morning        0-20                       Norway   \n",
       "\n",
       "       Population -2020  Land Area (Km²)  Density (P/Km²)  \n",
       "7059             307145          12200.0               25  \n",
       "23384           1160164          17200.0               67  \n",
       "8576           11673021        1083300.0               11  \n",
       "10375           2963243          28470.0              104  \n",
       "18468           5421241         365000.0               15  "
      ]
     },
     "metadata": {},
     "output_type": "display_data"
    },
    {
     "data": {
      "text/plain": [
       "(27481, 10)"
      ]
     },
     "metadata": {},
     "output_type": "display_data"
    },
    {
     "data": {
      "text/plain": [
       "Index(['textID', 'text', 'selected_text', 'sentiment', 'Time of Tweet',\n",
       "       'Age of User', 'Country', 'Population -2020', 'Land Area (Km²)',\n",
       "       'Density (P/Km²)'],\n",
       "      dtype='object')"
      ]
     },
     "metadata": {},
     "output_type": "display_data"
    },
    {
     "name": "stdout",
     "output_type": "stream",
     "text": [
      "<class 'pandas.core.frame.DataFrame'>\n",
      "RangeIndex: 27481 entries, 0 to 27480\n",
      "Data columns (total 10 columns):\n",
      " #   Column            Non-Null Count  Dtype  \n",
      "---  ------            --------------  -----  \n",
      " 0   textID            27481 non-null  object \n",
      " 1   text              27480 non-null  object \n",
      " 2   selected_text     27480 non-null  object \n",
      " 3   sentiment         27481 non-null  object \n",
      " 4   Time of Tweet     27481 non-null  object \n",
      " 5   Age of User       27481 non-null  object \n",
      " 6   Country           27481 non-null  object \n",
      " 7   Population -2020  27481 non-null  int64  \n",
      " 8   Land Area (Km²)   27481 non-null  float64\n",
      " 9   Density (P/Km²)   27481 non-null  int64  \n",
      "dtypes: float64(1), int64(2), object(7)\n",
      "memory usage: 2.1+ MB\n"
     ]
    },
    {
     "data": {
      "text/plain": [
       "None"
      ]
     },
     "metadata": {},
     "output_type": "display_data"
    }
   ],
   "source": [
    "df3 = pd.read_csv(path3, encoding=\"iso-8859-1\")\n",
    "display(df3.sample(5))\n",
    "display(df3.shape)\n",
    "display(df3.columns)\n",
    "display(df3.info())"
   ]
  },
  {
   "cell_type": "code",
   "execution_count": 9,
   "id": "a5609f4a",
   "metadata": {},
   "outputs": [
    {
     "data": {
      "application/vnd.microsoft.datawrangler.viewer.v0+json": {
       "columns": [
        {
         "name": "index",
         "rawType": "int64",
         "type": "integer"
        },
        {
         "name": "polarity of tweet ",
         "rawType": "int64",
         "type": "integer"
        },
        {
         "name": "id of the tweet",
         "rawType": "int64",
         "type": "integer"
        },
        {
         "name": "date of the tweet",
         "rawType": "object",
         "type": "string"
        },
        {
         "name": "query",
         "rawType": "object",
         "type": "string"
        },
        {
         "name": "user",
         "rawType": "object",
         "type": "string"
        },
        {
         "name": "text of the tweet ",
         "rawType": "object",
         "type": "string"
        }
       ],
       "ref": "db29b8fe-5d0a-406e-8abf-a68feec0ce6f",
       "rows": [
        [
         "539865",
         "0",
         "2199565499",
         "Tue Jun 16 17:41:07 PDT 2009",
         "NO_QUERY",
         "mahayhay_",
         "yay!! new phone and camera!!!!!!!!!!     dont txt me though cuz the month didnt start over yet....no unlimited txting "
        ],
        [
         "545667",
         "0",
         "2201512404",
         "Tue Jun 16 20:22:44 PDT 2009",
         "NO_QUERY",
         "blue_rose",
         "Oh, poor Doctor.  #42 #doctorwho"
        ],
        [
         "83300",
         "0",
         "1753306922",
         "Sun May 10 01:00:44 PDT 2009",
         "NO_QUERY",
         "MaxizPad",
         "@iluvium i'm eating so many snickers and coca colas, i have actually gained weight.  "
        ],
        [
         "816347",
         "4",
         "1551395974",
         "Sat Apr 18 08:56:56 PDT 2009",
         "NO_QUERY",
         "racwal",
         "Pancake house!! "
        ],
        [
         "668106",
         "0",
         "2245829773",
         "Fri Jun 19 16:42:00 PDT 2009",
         "NO_QUERY",
         "GothixHalo",
         "taking fishoil capsules is gross, the aftermath is even more disgusting "
        ]
       ],
       "shape": {
        "columns": 6,
        "rows": 5
       }
      },
      "text/html": [
       "<div>\n",
       "<style scoped>\n",
       "    .dataframe tbody tr th:only-of-type {\n",
       "        vertical-align: middle;\n",
       "    }\n",
       "\n",
       "    .dataframe tbody tr th {\n",
       "        vertical-align: top;\n",
       "    }\n",
       "\n",
       "    .dataframe thead th {\n",
       "        text-align: right;\n",
       "    }\n",
       "</style>\n",
       "<table border=\"1\" class=\"dataframe\">\n",
       "  <thead>\n",
       "    <tr style=\"text-align: right;\">\n",
       "      <th></th>\n",
       "      <th>polarity of tweet</th>\n",
       "      <th>id of the tweet</th>\n",
       "      <th>date of the tweet</th>\n",
       "      <th>query</th>\n",
       "      <th>user</th>\n",
       "      <th>text of the tweet</th>\n",
       "    </tr>\n",
       "  </thead>\n",
       "  <tbody>\n",
       "    <tr>\n",
       "      <th>539865</th>\n",
       "      <td>0</td>\n",
       "      <td>2199565499</td>\n",
       "      <td>Tue Jun 16 17:41:07 PDT 2009</td>\n",
       "      <td>NO_QUERY</td>\n",
       "      <td>mahayhay_</td>\n",
       "      <td>yay!! new phone and camera!!!!!!!!!!     dont ...</td>\n",
       "    </tr>\n",
       "    <tr>\n",
       "      <th>545667</th>\n",
       "      <td>0</td>\n",
       "      <td>2201512404</td>\n",
       "      <td>Tue Jun 16 20:22:44 PDT 2009</td>\n",
       "      <td>NO_QUERY</td>\n",
       "      <td>blue_rose</td>\n",
       "      <td>Oh, poor Doctor.  #42 #doctorwho</td>\n",
       "    </tr>\n",
       "    <tr>\n",
       "      <th>83300</th>\n",
       "      <td>0</td>\n",
       "      <td>1753306922</td>\n",
       "      <td>Sun May 10 01:00:44 PDT 2009</td>\n",
       "      <td>NO_QUERY</td>\n",
       "      <td>MaxizPad</td>\n",
       "      <td>@iluvium i'm eating so many snickers and coca ...</td>\n",
       "    </tr>\n",
       "    <tr>\n",
       "      <th>816347</th>\n",
       "      <td>4</td>\n",
       "      <td>1551395974</td>\n",
       "      <td>Sat Apr 18 08:56:56 PDT 2009</td>\n",
       "      <td>NO_QUERY</td>\n",
       "      <td>racwal</td>\n",
       "      <td>Pancake house!!</td>\n",
       "    </tr>\n",
       "    <tr>\n",
       "      <th>668106</th>\n",
       "      <td>0</td>\n",
       "      <td>2245829773</td>\n",
       "      <td>Fri Jun 19 16:42:00 PDT 2009</td>\n",
       "      <td>NO_QUERY</td>\n",
       "      <td>GothixHalo</td>\n",
       "      <td>taking fishoil capsules is gross, the aftermat...</td>\n",
       "    </tr>\n",
       "  </tbody>\n",
       "</table>\n",
       "</div>"
      ],
      "text/plain": [
       "        polarity of tweet   id of the tweet             date of the tweet  \\\n",
       "539865                   0       2199565499  Tue Jun 16 17:41:07 PDT 2009   \n",
       "545667                   0       2201512404  Tue Jun 16 20:22:44 PDT 2009   \n",
       "83300                    0       1753306922  Sun May 10 01:00:44 PDT 2009   \n",
       "816347                   4       1551395974  Sat Apr 18 08:56:56 PDT 2009   \n",
       "668106                   0       2245829773  Fri Jun 19 16:42:00 PDT 2009   \n",
       "\n",
       "           query        user  \\\n",
       "539865  NO_QUERY   mahayhay_   \n",
       "545667  NO_QUERY   blue_rose   \n",
       "83300   NO_QUERY    MaxizPad   \n",
       "816347  NO_QUERY      racwal   \n",
       "668106  NO_QUERY  GothixHalo   \n",
       "\n",
       "                                       text of the tweet   \n",
       "539865  yay!! new phone and camera!!!!!!!!!!     dont ...  \n",
       "545667                   Oh, poor Doctor.  #42 #doctorwho  \n",
       "83300   @iluvium i'm eating so many snickers and coca ...  \n",
       "816347                                   Pancake house!!   \n",
       "668106  taking fishoil capsules is gross, the aftermat...  "
      ]
     },
     "metadata": {},
     "output_type": "display_data"
    },
    {
     "data": {
      "text/plain": [
       "(1048572, 6)"
      ]
     },
     "metadata": {},
     "output_type": "display_data"
    },
    {
     "data": {
      "text/plain": [
       "Index(['polarity of tweet ', 'id of the tweet', 'date of the tweet', 'query',\n",
       "       'user', 'text of the tweet '],\n",
       "      dtype='object')"
      ]
     },
     "metadata": {},
     "output_type": "display_data"
    },
    {
     "name": "stdout",
     "output_type": "stream",
     "text": [
      "<class 'pandas.core.frame.DataFrame'>\n",
      "RangeIndex: 1048572 entries, 0 to 1048571\n",
      "Data columns (total 6 columns):\n",
      " #   Column              Non-Null Count    Dtype \n",
      "---  ------              --------------    ----- \n",
      " 0   polarity of tweet   1048572 non-null  int64 \n",
      " 1   id of the tweet     1048572 non-null  int64 \n",
      " 2   date of the tweet   1048572 non-null  object\n",
      " 3   query               1048572 non-null  object\n",
      " 4   user                1048572 non-null  object\n",
      " 5   text of the tweet   1048572 non-null  object\n",
      "dtypes: int64(2), object(4)\n",
      "memory usage: 48.0+ MB\n"
     ]
    },
    {
     "data": {
      "text/plain": [
       "None"
      ]
     },
     "metadata": {},
     "output_type": "display_data"
    }
   ],
   "source": [
    "df4 = pd.read_csv(path4, encoding=\"iso-8859-1\")\n",
    "display(df4.sample(5))\n",
    "display(df4.shape)\n",
    "display(df4.columns)\n",
    "display(df4.info())"
   ]
  },
  {
   "cell_type": "markdown",
   "id": "dd2cc446",
   "metadata": {},
   "source": [
    "## Importing Data 2 , 0-negative, 4=positive"
   ]
  },
  {
   "cell_type": "code",
   "execution_count": 10,
   "id": "f028cb5d",
   "metadata": {},
   "outputs": [
    {
     "name": "stdout",
     "output_type": "stream",
     "text": [
      "Warning: Looks like you're using an outdated `kagglehub` version (installed: 0.3.12), please consider upgrading to the latest version (0.3.13).\n",
      "Path to dataset files: C:\\Users\\Maddox\\.cache\\kagglehub\\datasets\\kazanova\\sentiment140\\versions\\2\n"
     ]
    }
   ],
   "source": [
    "path5 = kagglehub.dataset_download(\"kazanova/sentiment140\")\n",
    "\n",
    "print(\"Path to dataset files:\", path5)"
   ]
  },
  {
   "cell_type": "code",
   "execution_count": 11,
   "id": "f5c34edf",
   "metadata": {},
   "outputs": [
    {
     "data": {
      "application/vnd.microsoft.datawrangler.viewer.v0+json": {
       "columns": [
        {
         "name": "index",
         "rawType": "int64",
         "type": "integer"
        },
        {
         "name": "0",
         "rawType": "int64",
         "type": "integer"
        },
        {
         "name": "1467810369",
         "rawType": "int64",
         "type": "integer"
        },
        {
         "name": "Mon Apr 06 22:19:45 PDT 2009",
         "rawType": "object",
         "type": "string"
        },
        {
         "name": "NO_QUERY",
         "rawType": "object",
         "type": "string"
        },
        {
         "name": "_TheSpecialOne_",
         "rawType": "object",
         "type": "string"
        },
        {
         "name": "@switchfoot http://twitpic.com/2y1zl - Awww, that's a bummer.  You shoulda got David Carr of Third Day to do it. ;D",
         "rawType": "object",
         "type": "string"
        }
       ],
       "ref": "77a80cf8-10a3-4bee-a9bf-e159919a6d6e",
       "rows": [
        [
         "768009",
         "0",
         "2300776098",
         "Tue Jun 23 14:34:42 PDT 2009",
         "NO_QUERY",
         "Melina_Drake",
         "@LouDogOG lol! well i hate tower of terror.. but all the good rides have an hour wait "
        ],
        [
         "910606",
         "4",
         "1751645375",
         "Sat May 09 19:56:17 PDT 2009",
         "NO_QUERY",
         "TheRaj",
         "@EileenRight What phone do you have -- an old rotary? "
        ],
        [
         "356725",
         "0",
         "2044383557",
         "Fri Jun 05 09:16:40 PDT 2009",
         "NO_QUERY",
         "steph_davies",
         "Go online @dannymcfly and @TomFelton ! I want a tweet before I sleep. "
        ],
        [
         "1354407",
         "4",
         "2047050744",
         "Fri Jun 05 13:04:39 PDT 2009",
         "NO_QUERY",
         "MrsAlbadragon",
         "Trying to work this thing out, now what do I do "
        ],
        [
         "1016930",
         "4",
         "1881781901",
         "Fri May 22 05:32:42 PDT 2009",
         "NO_QUERY",
         "alifaan",
         "@thesleepy ??? ? ???? ?? ? ???????, ???? 5 ?????? ?? ?????, ??? ?????? ?? ?????. "
        ]
       ],
       "shape": {
        "columns": 6,
        "rows": 5
       }
      },
      "text/html": [
       "<div>\n",
       "<style scoped>\n",
       "    .dataframe tbody tr th:only-of-type {\n",
       "        vertical-align: middle;\n",
       "    }\n",
       "\n",
       "    .dataframe tbody tr th {\n",
       "        vertical-align: top;\n",
       "    }\n",
       "\n",
       "    .dataframe thead th {\n",
       "        text-align: right;\n",
       "    }\n",
       "</style>\n",
       "<table border=\"1\" class=\"dataframe\">\n",
       "  <thead>\n",
       "    <tr style=\"text-align: right;\">\n",
       "      <th></th>\n",
       "      <th>0</th>\n",
       "      <th>1467810369</th>\n",
       "      <th>Mon Apr 06 22:19:45 PDT 2009</th>\n",
       "      <th>NO_QUERY</th>\n",
       "      <th>_TheSpecialOne_</th>\n",
       "      <th>@switchfoot http://twitpic.com/2y1zl - Awww, that's a bummer.  You shoulda got David Carr of Third Day to do it. ;D</th>\n",
       "    </tr>\n",
       "  </thead>\n",
       "  <tbody>\n",
       "    <tr>\n",
       "      <th>768009</th>\n",
       "      <td>0</td>\n",
       "      <td>2300776098</td>\n",
       "      <td>Tue Jun 23 14:34:42 PDT 2009</td>\n",
       "      <td>NO_QUERY</td>\n",
       "      <td>Melina_Drake</td>\n",
       "      <td>@LouDogOG lol! well i hate tower of terror.. b...</td>\n",
       "    </tr>\n",
       "    <tr>\n",
       "      <th>910606</th>\n",
       "      <td>4</td>\n",
       "      <td>1751645375</td>\n",
       "      <td>Sat May 09 19:56:17 PDT 2009</td>\n",
       "      <td>NO_QUERY</td>\n",
       "      <td>TheRaj</td>\n",
       "      <td>@EileenRight What phone do you have -- an old ...</td>\n",
       "    </tr>\n",
       "    <tr>\n",
       "      <th>356725</th>\n",
       "      <td>0</td>\n",
       "      <td>2044383557</td>\n",
       "      <td>Fri Jun 05 09:16:40 PDT 2009</td>\n",
       "      <td>NO_QUERY</td>\n",
       "      <td>steph_davies</td>\n",
       "      <td>Go online @dannymcfly and @TomFelton ! I want ...</td>\n",
       "    </tr>\n",
       "    <tr>\n",
       "      <th>1354407</th>\n",
       "      <td>4</td>\n",
       "      <td>2047050744</td>\n",
       "      <td>Fri Jun 05 13:04:39 PDT 2009</td>\n",
       "      <td>NO_QUERY</td>\n",
       "      <td>MrsAlbadragon</td>\n",
       "      <td>Trying to work this thing out, now what do I do</td>\n",
       "    </tr>\n",
       "    <tr>\n",
       "      <th>1016930</th>\n",
       "      <td>4</td>\n",
       "      <td>1881781901</td>\n",
       "      <td>Fri May 22 05:32:42 PDT 2009</td>\n",
       "      <td>NO_QUERY</td>\n",
       "      <td>alifaan</td>\n",
       "      <td>@thesleepy ??? ? ???? ?? ? ???????, ???? 5 ???...</td>\n",
       "    </tr>\n",
       "  </tbody>\n",
       "</table>\n",
       "</div>"
      ],
      "text/plain": [
       "         0  1467810369  Mon Apr 06 22:19:45 PDT 2009  NO_QUERY  \\\n",
       "768009   0  2300776098  Tue Jun 23 14:34:42 PDT 2009  NO_QUERY   \n",
       "910606   4  1751645375  Sat May 09 19:56:17 PDT 2009  NO_QUERY   \n",
       "356725   0  2044383557  Fri Jun 05 09:16:40 PDT 2009  NO_QUERY   \n",
       "1354407  4  2047050744  Fri Jun 05 13:04:39 PDT 2009  NO_QUERY   \n",
       "1016930  4  1881781901  Fri May 22 05:32:42 PDT 2009  NO_QUERY   \n",
       "\n",
       "        _TheSpecialOne_  \\\n",
       "768009     Melina_Drake   \n",
       "910606           TheRaj   \n",
       "356725     steph_davies   \n",
       "1354407   MrsAlbadragon   \n",
       "1016930         alifaan   \n",
       "\n",
       "        @switchfoot http://twitpic.com/2y1zl - Awww, that's a bummer.  You shoulda got David Carr of Third Day to do it. ;D  \n",
       "768009   @LouDogOG lol! well i hate tower of terror.. b...                                                                   \n",
       "910606   @EileenRight What phone do you have -- an old ...                                                                   \n",
       "356725   Go online @dannymcfly and @TomFelton ! I want ...                                                                   \n",
       "1354407   Trying to work this thing out, now what do I do                                                                    \n",
       "1016930  @thesleepy ??? ? ???? ?? ? ???????, ???? 5 ???...                                                                   "
      ]
     },
     "metadata": {},
     "output_type": "display_data"
    },
    {
     "data": {
      "text/plain": [
       "(1599999, 6)"
      ]
     },
     "metadata": {},
     "output_type": "display_data"
    },
    {
     "data": {
      "text/plain": [
       "Index(['0', '1467810369', 'Mon Apr 06 22:19:45 PDT 2009', 'NO_QUERY',\n",
       "       '_TheSpecialOne_',\n",
       "       '@switchfoot http://twitpic.com/2y1zl - Awww, that's a bummer.  You shoulda got David Carr of Third Day to do it. ;D'],\n",
       "      dtype='object')"
      ]
     },
     "metadata": {},
     "output_type": "display_data"
    },
    {
     "name": "stdout",
     "output_type": "stream",
     "text": [
      "<class 'pandas.core.frame.DataFrame'>\n",
      "RangeIndex: 1599999 entries, 0 to 1599998\n",
      "Data columns (total 6 columns):\n",
      " #   Column                                                                                                               Non-Null Count    Dtype \n",
      "---  ------                                                                                                               --------------    ----- \n",
      " 0   0                                                                                                                    1599999 non-null  int64 \n",
      " 1   1467810369                                                                                                           1599999 non-null  int64 \n",
      " 2   Mon Apr 06 22:19:45 PDT 2009                                                                                         1599999 non-null  object\n",
      " 3   NO_QUERY                                                                                                             1599999 non-null  object\n",
      " 4   _TheSpecialOne_                                                                                                      1599999 non-null  object\n",
      " 5   @switchfoot http://twitpic.com/2y1zl - Awww, that's a bummer.  You shoulda got David Carr of Third Day to do it. ;D  1599999 non-null  object\n",
      "dtypes: int64(2), object(4)\n",
      "memory usage: 73.2+ MB\n"
     ]
    },
    {
     "data": {
      "text/plain": [
       "None"
      ]
     },
     "metadata": {},
     "output_type": "display_data"
    }
   ],
   "source": [
    "fullpath=path5+'/'+os.listdir(path5)[0]\n",
    "fullpath\n",
    "df5 = pd.read_csv(fullpath, encoding=\"iso-8859-1\")\n",
    "display(df5.sample(5))\n",
    "display(df5.shape)\n",
    "display(df5.columns)\n",
    "display(df5.info())"
   ]
  },
  {
   "cell_type": "code",
   "execution_count": 12,
   "id": "6c4d0a50",
   "metadata": {},
   "outputs": [
    {
     "data": {
      "application/vnd.microsoft.datawrangler.viewer.v0+json": {
       "columns": [
        {
         "name": "index",
         "rawType": "int64",
         "type": "integer"
        },
        {
         "name": "target",
         "rawType": "int64",
         "type": "integer"
        },
        {
         "name": "id",
         "rawType": "int64",
         "type": "integer"
        },
        {
         "name": "date",
         "rawType": "object",
         "type": "string"
        },
        {
         "name": "flag",
         "rawType": "object",
         "type": "string"
        },
        {
         "name": "user",
         "rawType": "object",
         "type": "string"
        },
        {
         "name": "text",
         "rawType": "object",
         "type": "string"
        }
       ],
       "ref": "ed4bdcb1-50da-41e2-bbe1-526b4fcb29f9",
       "rows": [
        [
         "1102853",
         "4",
         "1970973577",
         "Sat May 30 05:50:10 PDT 2009",
         "NO_QUERY",
         "momoferrari88",
         "http://tinyurl.com/ry9wap Hey! I am first time here.  Let`s be friends! I can send you my private pics. Send me your email! Or write m ..."
        ]
       ],
       "shape": {
        "columns": 6,
        "rows": 1
       }
      },
      "text/html": [
       "<div>\n",
       "<style scoped>\n",
       "    .dataframe tbody tr th:only-of-type {\n",
       "        vertical-align: middle;\n",
       "    }\n",
       "\n",
       "    .dataframe tbody tr th {\n",
       "        vertical-align: top;\n",
       "    }\n",
       "\n",
       "    .dataframe thead th {\n",
       "        text-align: right;\n",
       "    }\n",
       "</style>\n",
       "<table border=\"1\" class=\"dataframe\">\n",
       "  <thead>\n",
       "    <tr style=\"text-align: right;\">\n",
       "      <th></th>\n",
       "      <th>target</th>\n",
       "      <th>id</th>\n",
       "      <th>date</th>\n",
       "      <th>flag</th>\n",
       "      <th>user</th>\n",
       "      <th>text</th>\n",
       "    </tr>\n",
       "  </thead>\n",
       "  <tbody>\n",
       "    <tr>\n",
       "      <th>1102853</th>\n",
       "      <td>4</td>\n",
       "      <td>1970973577</td>\n",
       "      <td>Sat May 30 05:50:10 PDT 2009</td>\n",
       "      <td>NO_QUERY</td>\n",
       "      <td>momoferrari88</td>\n",
       "      <td>http://tinyurl.com/ry9wap Hey! I am first time...</td>\n",
       "    </tr>\n",
       "  </tbody>\n",
       "</table>\n",
       "</div>"
      ],
      "text/plain": [
       "         target          id                          date      flag  \\\n",
       "1102853       4  1970973577  Sat May 30 05:50:10 PDT 2009  NO_QUERY   \n",
       "\n",
       "                  user                                               text  \n",
       "1102853  momoferrari88  http://tinyurl.com/ry9wap Hey! I am first time...  "
      ]
     },
     "metadata": {},
     "output_type": "display_data"
    }
   ],
   "source": [
    "#renaming columns\n",
    "cols=['target','id','date', 'flag', 'user','text']\n",
    "df5 = pd.read_csv(fullpath, names=cols, encoding=\"iso-8859-1\")\n",
    "df_data=df5\n",
    "display(df_data.sample())"
   ]
  },
  {
   "cell_type": "code",
   "execution_count": 13,
   "id": "98dcf04d",
   "metadata": {},
   "outputs": [
    {
     "name": "stderr",
     "output_type": "stream",
     "text": [
      "[nltk_data] Downloading package stopwords to\n",
      "[nltk_data]     C:\\Users\\Maddox\\AppData\\Roaming\\nltk_data...\n",
      "[nltk_data]   Package stopwords is already up-to-date!\n"
     ]
    },
    {
     "data": {
      "text/plain": [
       "True"
      ]
     },
     "execution_count": 13,
     "metadata": {},
     "output_type": "execute_result"
    }
   ],
   "source": [
    "import nltk\n",
    "nltk.download('stopwords')"
   ]
  },
  {
   "cell_type": "code",
   "execution_count": 14,
   "id": "0ef97cbd",
   "metadata": {},
   "outputs": [
    {
     "name": "stdout",
     "output_type": "stream",
     "text": [
      "['a', 'about', 'above', 'after', 'again', 'against', 'ain', 'all', 'am', 'an', 'and', 'any', 'are', 'aren', \"aren't\", 'as', 'at', 'be', 'because', 'been', 'before', 'being', 'below', 'between', 'both', 'but', 'by', 'can', 'couldn', \"couldn't\", 'd', 'did', 'didn', \"didn't\", 'do', 'does', 'doesn', \"doesn't\", 'doing', 'don', \"don't\", 'down', 'during', 'each', 'few', 'for', 'from', 'further', 'had', 'hadn', \"hadn't\", 'has', 'hasn', \"hasn't\", 'have', 'haven', \"haven't\", 'having', 'he', \"he'd\", \"he'll\", 'her', 'here', 'hers', 'herself', \"he's\", 'him', 'himself', 'his', 'how', 'i', \"i'd\", 'if', \"i'll\", \"i'm\", 'in', 'into', 'is', 'isn', \"isn't\", 'it', \"it'd\", \"it'll\", \"it's\", 'its', 'itself', \"i've\", 'just', 'll', 'm', 'ma', 'me', 'mightn', \"mightn't\", 'more', 'most', 'mustn', \"mustn't\", 'my', 'myself', 'needn', \"needn't\", 'no', 'nor', 'not', 'now', 'o', 'of', 'off', 'on', 'once', 'only', 'or', 'other', 'our', 'ours', 'ourselves', 'out', 'over', 'own', 're', 's', 'same', 'shan', \"shan't\", 'she', \"she'd\", \"she'll\", \"she's\", 'should', 'shouldn', \"shouldn't\", \"should've\", 'so', 'some', 'such', 't', 'than', 'that', \"that'll\", 'the', 'their', 'theirs', 'them', 'themselves', 'then', 'there', 'these', 'they', \"they'd\", \"they'll\", \"they're\", \"they've\", 'this', 'those', 'through', 'to', 'too', 'under', 'until', 'up', 've', 'very', 'was', 'wasn', \"wasn't\", 'we', \"we'd\", \"we'll\", \"we're\", 'were', 'weren', \"weren't\", \"we've\", 'what', 'when', 'where', 'which', 'while', 'who', 'whom', 'why', 'will', 'with', 'won', \"won't\", 'wouldn', \"wouldn't\", 'y', 'you', \"you'd\", \"you'll\", 'your', \"you're\", 'yours', 'yourself', 'yourselves', \"you've\"]\n"
     ]
    }
   ],
   "source": [
    "#we can remove these words\n",
    "print(stopwords.words('english')) #These words will not add any context to understand(for ML model)"
   ]
  },
  {
   "cell_type": "markdown",
   "id": "49872631",
   "metadata": {},
   "source": [
    "## EDA"
   ]
  },
  {
   "cell_type": "code",
   "execution_count": 15,
   "id": "358d9e7d",
   "metadata": {},
   "outputs": [
    {
     "data": {
      "application/vnd.microsoft.datawrangler.viewer.v0+json": {
       "columns": [
        {
         "name": "index",
         "rawType": "object",
         "type": "string"
        },
        {
         "name": "0",
         "rawType": "int64",
         "type": "integer"
        }
       ],
       "ref": "35fb4933-5e0a-4b31-a237-ae4e4bfe65c3",
       "rows": [
        [
         "target",
         "0"
        ],
        [
         "id",
         "0"
        ],
        [
         "date",
         "0"
        ],
        [
         "flag",
         "0"
        ],
        [
         "user",
         "0"
        ],
        [
         "text",
         "0"
        ]
       ],
       "shape": {
        "columns": 1,
        "rows": 6
       }
      },
      "text/plain": [
       "target    0\n",
       "id        0\n",
       "date      0\n",
       "flag      0\n",
       "user      0\n",
       "text      0\n",
       "dtype: int64"
      ]
     },
     "execution_count": 15,
     "metadata": {},
     "output_type": "execute_result"
    }
   ],
   "source": [
    "df_data.isnull().sum()"
   ]
  },
  {
   "cell_type": "code",
   "execution_count": 16,
   "id": "e2654923",
   "metadata": {},
   "outputs": [
    {
     "data": {
      "text/plain": [
       "<Axes: >"
      ]
     },
     "execution_count": 16,
     "metadata": {},
     "output_type": "execute_result"
    },
    {
     "data": {
      "image/png": "[encoded data removed]",
      "text/plain": [
       "<Figure size 640x480 with 1 Axes>"
      ]
     },
     "metadata": {},
     "output_type": "display_data"
    }
   ],
   "source": [
    "#visualize missing values for all columns\n",
    "sns.heatmap(df_data.isna(), cbar=False)"
   ]
  },
  {
   "cell_type": "code",
   "execution_count": 17,
   "id": "5e044fc7",
   "metadata": {},
   "outputs": [
    {
     "data": {
      "text/plain": [
       "np.int64(0)"
      ]
     },
     "execution_count": 17,
     "metadata": {},
     "output_type": "execute_result"
    }
   ],
   "source": [
    "df_data.duplicated().sum()"
   ]
  },
  {
   "cell_type": "code",
   "execution_count": 18,
   "id": "c391d1f7",
   "metadata": {},
   "outputs": [
    {
     "name": "stdout",
     "output_type": "stream",
     "text": [
      "number of unique values in the dataset:\n",
      "target : 2\n",
      "id : 1598315\n",
      "date : 774363\n",
      "flag : 1\n",
      "user : 659775\n",
      "text : 1581466\n"
     ]
    },
    {
     "data": {
      "application/vnd.microsoft.datawrangler.viewer.v0+json": {
       "columns": [
        {
         "name": "target",
         "rawType": "int64",
         "type": "integer"
        },
        {
         "name": "count",
         "rawType": "int64",
         "type": "integer"
        }
       ],
       "ref": "bf0353b3-1add-4503-b920-17214141dc58",
       "rows": [
        [
         "0",
         "800000"
        ],
        [
         "4",
         "800000"
        ]
       ],
       "shape": {
        "columns": 1,
        "rows": 2
       }
      },
      "text/plain": [
       "target\n",
       "0    800000\n",
       "4    800000\n",
       "Name: count, dtype: int64"
      ]
     },
     "metadata": {},
     "output_type": "display_data"
    },
    {
     "data": {
      "application/vnd.microsoft.datawrangler.viewer.v0+json": {
       "columns": [
        {
         "name": "flag",
         "rawType": "object",
         "type": "string"
        },
        {
         "name": "count",
         "rawType": "int64",
         "type": "integer"
        }
       ],
       "ref": "827bfa3c-3930-45d3-b60f-76382de77773",
       "rows": [
        [
         "NO_QUERY",
         "1600000"
        ]
       ],
       "shape": {
        "columns": 1,
        "rows": 1
       }
      },
      "text/plain": [
       "flag\n",
       "NO_QUERY    1600000\n",
       "Name: count, dtype: int64"
      ]
     },
     "metadata": {},
     "output_type": "display_data"
    }
   ],
   "source": [
    "print(\"number of unique values in the dataset:\")\n",
    "for i in cols:\n",
    "    print(f'{i} : {df_data[i].value_counts().count()}')\n",
    "display(df_data['target'].value_counts())\n",
    "display(df_data['flag'].value_counts())"
   ]
  },
  {
   "cell_type": "markdown",
   "id": "ee6dc8bc",
   "metadata": {},
   "source": [
    "lets just change the label from 4 -> 1"
   ]
  },
  {
   "cell_type": "code",
   "execution_count": 19,
   "id": "e60a8c56",
   "metadata": {},
   "outputs": [],
   "source": [
    "df_data['target']=df_data['target'].replace(4,1)"
   ]
  },
  {
   "cell_type": "code",
   "execution_count": 20,
   "id": "cd6e1e60",
   "metadata": {},
   "outputs": [
    {
     "data": {
      "application/vnd.microsoft.datawrangler.viewer.v0+json": {
       "columns": [
        {
         "name": "target",
         "rawType": "int64",
         "type": "integer"
        },
        {
         "name": "count",
         "rawType": "int64",
         "type": "integer"
        }
       ],
       "ref": "e1541855-dcef-4c02-9cfd-056d11d1d22c",
       "rows": [
        [
         "0",
         "800000"
        ],
        [
         "1",
         "800000"
        ]
       ],
       "shape": {
        "columns": 1,
        "rows": 2
       }
      },
      "text/plain": [
       "target\n",
       "0    800000\n",
       "1    800000\n",
       "Name: count, dtype: int64"
      ]
     },
     "execution_count": 20,
     "metadata": {},
     "output_type": "execute_result"
    }
   ],
   "source": [
    "df_data['target'].value_counts()"
   ]
  },
  {
   "cell_type": "markdown",
   "id": "39eaef69",
   "metadata": {},
   "source": [
    "removing flag,user,id column because there in nothing in there which is relevent to outr project"
   ]
  },
  {
   "cell_type": "code",
   "execution_count": 21,
   "id": "ba7193ac",
   "metadata": {},
   "outputs": [],
   "source": [
    "df_data=df_data.drop('flag', axis=1)"
   ]
  },
  {
   "cell_type": "code",
   "execution_count": 22,
   "id": "c15a9225",
   "metadata": {},
   "outputs": [
    {
     "data": {
      "application/vnd.microsoft.datawrangler.viewer.v0+json": {
       "columns": [
        {
         "name": "index",
         "rawType": "int64",
         "type": "integer"
        },
        {
         "name": "target",
         "rawType": "int64",
         "type": "integer"
        },
        {
         "name": "id",
         "rawType": "int64",
         "type": "integer"
        },
        {
         "name": "date",
         "rawType": "object",
         "type": "string"
        },
        {
         "name": "user",
         "rawType": "object",
         "type": "string"
        },
        {
         "name": "text",
         "rawType": "object",
         "type": "string"
        }
       ],
       "ref": "bbf70fb9-caa4-4b8a-8311-45538c0c9ee1",
       "rows": [
        [
         "960369",
         "1",
         "1826381414",
         "Sun May 17 08:22:30 PDT 2009",
         "Justinsceneable",
         "Work at 4. Going back to bed "
        ]
       ],
       "shape": {
        "columns": 5,
        "rows": 1
       }
      },
      "text/html": [
       "<div>\n",
       "<style scoped>\n",
       "    .dataframe tbody tr th:only-of-type {\n",
       "        vertical-align: middle;\n",
       "    }\n",
       "\n",
       "    .dataframe tbody tr th {\n",
       "        vertical-align: top;\n",
       "    }\n",
       "\n",
       "    .dataframe thead th {\n",
       "        text-align: right;\n",
       "    }\n",
       "</style>\n",
       "<table border=\"1\" class=\"dataframe\">\n",
       "  <thead>\n",
       "    <tr style=\"text-align: right;\">\n",
       "      <th></th>\n",
       "      <th>target</th>\n",
       "      <th>id</th>\n",
       "      <th>date</th>\n",
       "      <th>user</th>\n",
       "      <th>text</th>\n",
       "    </tr>\n",
       "  </thead>\n",
       "  <tbody>\n",
       "    <tr>\n",
       "      <th>960369</th>\n",
       "      <td>1</td>\n",
       "      <td>1826381414</td>\n",
       "      <td>Sun May 17 08:22:30 PDT 2009</td>\n",
       "      <td>Justinsceneable</td>\n",
       "      <td>Work at 4. Going back to bed</td>\n",
       "    </tr>\n",
       "  </tbody>\n",
       "</table>\n",
       "</div>"
      ],
      "text/plain": [
       "        target          id                          date             user  \\\n",
       "960369       1  1826381414  Sun May 17 08:22:30 PDT 2009  Justinsceneable   \n",
       "\n",
       "                                 text  \n",
       "960369  Work at 4. Going back to bed   "
      ]
     },
     "metadata": {},
     "output_type": "display_data"
    },
    {
     "data": {
      "text/plain": [
       "Index(['target', 'id', 'date', 'user', 'text'], dtype='object')"
      ]
     },
     "execution_count": 22,
     "metadata": {},
     "output_type": "execute_result"
    }
   ],
   "source": [
    "display(df_data.sample())\n",
    "df_data.columns"
   ]
  },
  {
   "cell_type": "markdown",
   "id": "3178efd4",
   "metadata": {},
   "source": [
    "## Stemming\n",
    "just removing stopwords, keep the keywords for classification"
   ]
  },
  {
   "cell_type": "code",
   "execution_count": 23,
   "id": "069494c4",
   "metadata": {},
   "outputs": [],
   "source": [
    "port_stem=PorterStemmer()"
   ]
  },
  {
   "cell_type": "code",
   "execution_count": 24,
   "id": "99e8a85b",
   "metadata": {},
   "outputs": [],
   "source": [
    "def stemming(input):\n",
    "    stemmed_input=re.sub('[^a-zA-Z]', ' ', input) #Regular Expression function already imported above\n",
    "    stemmed_input=stemmed_input.lower() #Standardizing the input\n",
    "    stemmed_input=stemmed_input.split()\n",
    "    stemmed_input=[port_stem.stem(word) for word in stemmed_input if not word in stopwords.words('english')]\n",
    "    stemmed_input=' '.join(stemmed_input)\n",
    "\n",
    "    return stemmed_input"
   ]
  },
  {
   "cell_type": "code",
   "execution_count": 25,
   "id": "a852e222",
   "metadata": {},
   "outputs": [],
   "source": [
    "# df_data['stemmed_content']=df_data['text'].apply(stemming)"
   ]
  },
  {
   "cell_type": "code",
   "execution_count": 26,
   "id": "31323bb6",
   "metadata": {},
   "outputs": [],
   "source": [
    "# df_data.to_csv(\"Stemmed_Data_Sentiment.csv\", index=False)"
   ]
  },
  {
   "cell_type": "code",
   "execution_count": 27,
   "id": "4cf9da43",
   "metadata": {},
   "outputs": [],
   "source": [
    "df_data=pd.read_csv(r'D:\\Data Science\\Minor-Project\\Stemmed_Data_Sentiment.csv')"
   ]
  },
  {
   "cell_type": "code",
   "execution_count": 28,
   "id": "9a2c9f07",
   "metadata": {},
   "outputs": [
    {
     "data": {
      "application/vnd.microsoft.datawrangler.viewer.v0+json": {
       "columns": [
        {
         "name": "index",
         "rawType": "int64",
         "type": "integer"
        },
        {
         "name": "target",
         "rawType": "int64",
         "type": "integer"
        },
        {
         "name": "id",
         "rawType": "int64",
         "type": "integer"
        },
        {
         "name": "date",
         "rawType": "object",
         "type": "string"
        },
        {
         "name": "user",
         "rawType": "object",
         "type": "string"
        },
        {
         "name": "text",
         "rawType": "object",
         "type": "string"
        },
        {
         "name": "stemmed_content",
         "rawType": "object",
         "type": "string"
        }
       ],
       "ref": "32846bd7-2849-44a8-a7be-8fed24b5bd07",
       "rows": [
        [
         "935097",
         "1",
         "1792645071",
         "Wed May 13 23:46:37 PDT 2009",
         "iElguera",
         "GOODNIGHT!  Church was SO good. Then @Juliamark's dance was SICK!  Now, im going to call her, and talk to her!  I'll tweet...",
         "goodnight church good juliamark danc sick im go call talk tweet"
        ],
        [
         "950748",
         "1",
         "1824067083",
         "Sat May 16 23:55:45 PDT 2009",
         "pauloprototype",
         "Going to bed, night ",
         "go bed night"
        ]
       ],
       "shape": {
        "columns": 6,
        "rows": 2
       }
      },
      "text/html": [
       "<div>\n",
       "<style scoped>\n",
       "    .dataframe tbody tr th:only-of-type {\n",
       "        vertical-align: middle;\n",
       "    }\n",
       "\n",
       "    .dataframe tbody tr th {\n",
       "        vertical-align: top;\n",
       "    }\n",
       "\n",
       "    .dataframe thead th {\n",
       "        text-align: right;\n",
       "    }\n",
       "</style>\n",
       "<table border=\"1\" class=\"dataframe\">\n",
       "  <thead>\n",
       "    <tr style=\"text-align: right;\">\n",
       "      <th></th>\n",
       "      <th>target</th>\n",
       "      <th>id</th>\n",
       "      <th>date</th>\n",
       "      <th>user</th>\n",
       "      <th>text</th>\n",
       "      <th>stemmed_content</th>\n",
       "    </tr>\n",
       "  </thead>\n",
       "  <tbody>\n",
       "    <tr>\n",
       "      <th>935097</th>\n",
       "      <td>1</td>\n",
       "      <td>1792645071</td>\n",
       "      <td>Wed May 13 23:46:37 PDT 2009</td>\n",
       "      <td>iElguera</td>\n",
       "      <td>GOODNIGHT!  Church was SO good. Then @Juliamar...</td>\n",
       "      <td>goodnight church good juliamark danc sick im g...</td>\n",
       "    </tr>\n",
       "    <tr>\n",
       "      <th>950748</th>\n",
       "      <td>1</td>\n",
       "      <td>1824067083</td>\n",
       "      <td>Sat May 16 23:55:45 PDT 2009</td>\n",
       "      <td>pauloprototype</td>\n",
       "      <td>Going to bed, night</td>\n",
       "      <td>go bed night</td>\n",
       "    </tr>\n",
       "  </tbody>\n",
       "</table>\n",
       "</div>"
      ],
      "text/plain": [
       "        target          id                          date            user  \\\n",
       "935097       1  1792645071  Wed May 13 23:46:37 PDT 2009        iElguera   \n",
       "950748       1  1824067083  Sat May 16 23:55:45 PDT 2009  pauloprototype   \n",
       "\n",
       "                                                     text  \\\n",
       "935097  GOODNIGHT!  Church was SO good. Then @Juliamar...   \n",
       "950748                               Going to bed, night    \n",
       "\n",
       "                                          stemmed_content  \n",
       "935097  goodnight church good juliamark danc sick im g...  \n",
       "950748                                       go bed night  "
      ]
     },
     "execution_count": 28,
     "metadata": {},
     "output_type": "execute_result"
    }
   ],
   "source": [
    "df_data.sample(2)"
   ]
  },
  {
   "cell_type": "markdown",
   "id": "e934d60c",
   "metadata": {},
   "source": [
    "Let's just keep the columns we need to train our model"
   ]
  },
  {
   "cell_type": "code",
   "execution_count": 31,
   "id": "85586eea",
   "metadata": {},
   "outputs": [
    {
     "name": "stdout",
     "output_type": "stream",
     "text": [
      "0          0\n",
      "1          0\n",
      "2          0\n",
      "3          0\n",
      "4          0\n",
      "          ..\n",
      "1599995    1\n",
      "1599996    1\n",
      "1599997    1\n",
      "1599998    1\n",
      "1599999    1\n",
      "Name: target, Length: 1600000, dtype: int64\n",
      "0          switchfoot http twitpic com zl awww bummer sho...\n",
      "1          upset updat facebook text might cri result sch...\n",
      "2          kenichan dive mani time ball manag save rest g...\n",
      "3                            whole bodi feel itchi like fire\n",
      "4                              nationwideclass behav mad see\n",
      "                                 ...                        \n",
      "1599995                           woke school best feel ever\n",
      "1599996    thewdb com cool hear old walt interview http b...\n",
      "1599997                         readi mojo makeov ask detail\n",
      "1599998    happi th birthday boo alll time tupac amaru sh...\n",
      "1599999    happi charitytuesday thenspcc sparkschar speak...\n",
      "Name: stemmed_content, Length: 1600000, dtype: object\n"
     ]
    }
   ],
   "source": [
    "X=df_data['stemmed_content']\n",
    "y=df_data['target']\n",
    "print(y)\n",
    "print(X)"
   ]
  },
  {
   "cell_type": "code",
   "execution_count": 34,
   "id": "e388dda4",
   "metadata": {},
   "outputs": [
    {
     "name": "stdout",
     "output_type": "stream",
     "text": [
      "(1360000,) (240000,)\n",
      "(1360000,) (240000,)\n"
     ]
    }
   ],
   "source": [
    "X_train, X_test, y_train, y_test=train_test_split(X,y,test_size=0.15, stratify=y,random_state=40)\n",
    "print(X_train.shape, X_test.shape)\n",
    "print(y_train.shape, y_test.shape)"
   ]
  },
  {
   "cell_type": "markdown",
   "id": "cc6bb5f6",
   "metadata": {},
   "source": [
    "### Feature Extraction (Vectorizer): \n",
    "Converting text data into numerical data"
   ]
  },
  {
   "cell_type": "code",
   "execution_count": 35,
   "id": "61e0dd74",
   "metadata": {},
   "outputs": [
    {
     "ename": "ValueError",
     "evalue": "np.nan is an invalid document, expected byte or unicode string.",
     "output_type": "error",
     "traceback": [
      "\u001b[31m---------------------------------------------------------------------------\u001b[39m",
      "\u001b[31mValueError\u001b[39m                                Traceback (most recent call last)",
      "\u001b[36mCell\u001b[39m\u001b[36m \u001b[39m\u001b[32mIn[35]\u001b[39m\u001b[32m, line 3\u001b[39m\n\u001b[32m      1\u001b[39m vectorizer=TfidfVectorizer()\n\u001b[32m----> \u001b[39m\u001b[32m3\u001b[39m X_train=\u001b[43mvectorizer\u001b[49m\u001b[43m.\u001b[49m\u001b[43mfit_transform\u001b[49m\u001b[43m(\u001b[49m\u001b[43mX_train\u001b[49m\u001b[43m)\u001b[49m\n\u001b[32m      4\u001b[39m X_test=vectorizer.transform(X_test)\n",
      "\u001b[36mFile \u001b[39m\u001b[32md:\\Data Science\\myenv\\Lib\\site-packages\\sklearn\\feature_extraction\\text.py:2104\u001b[39m, in \u001b[36mTfidfVectorizer.fit_transform\u001b[39m\u001b[34m(self, raw_documents, y)\u001b[39m\n\u001b[32m   2097\u001b[39m \u001b[38;5;28mself\u001b[39m._check_params()\n\u001b[32m   2098\u001b[39m \u001b[38;5;28mself\u001b[39m._tfidf = TfidfTransformer(\n\u001b[32m   2099\u001b[39m     norm=\u001b[38;5;28mself\u001b[39m.norm,\n\u001b[32m   2100\u001b[39m     use_idf=\u001b[38;5;28mself\u001b[39m.use_idf,\n\u001b[32m   2101\u001b[39m     smooth_idf=\u001b[38;5;28mself\u001b[39m.smooth_idf,\n\u001b[32m   2102\u001b[39m     sublinear_tf=\u001b[38;5;28mself\u001b[39m.sublinear_tf,\n\u001b[32m   2103\u001b[39m )\n\u001b[32m-> \u001b[39m\u001b[32m2104\u001b[39m X = \u001b[38;5;28;43msuper\u001b[39;49m\u001b[43m(\u001b[49m\u001b[43m)\u001b[49m\u001b[43m.\u001b[49m\u001b[43mfit_transform\u001b[49m\u001b[43m(\u001b[49m\u001b[43mraw_documents\u001b[49m\u001b[43m)\u001b[49m\n\u001b[32m   2105\u001b[39m \u001b[38;5;28mself\u001b[39m._tfidf.fit(X)\n\u001b[32m   2106\u001b[39m \u001b[38;5;66;03m# X is already a transformed view of raw_documents so\u001b[39;00m\n\u001b[32m   2107\u001b[39m \u001b[38;5;66;03m# we set copy to False\u001b[39;00m\n",
      "\u001b[36mFile \u001b[39m\u001b[32md:\\Data Science\\myenv\\Lib\\site-packages\\sklearn\\base.py:1363\u001b[39m, in \u001b[36m_fit_context.<locals>.decorator.<locals>.wrapper\u001b[39m\u001b[34m(estimator, *args, **kwargs)\u001b[39m\n\u001b[32m   1356\u001b[39m     estimator._validate_params()\n\u001b[32m   1358\u001b[39m \u001b[38;5;28;01mwith\u001b[39;00m config_context(\n\u001b[32m   1359\u001b[39m     skip_parameter_validation=(\n\u001b[32m   1360\u001b[39m         prefer_skip_nested_validation \u001b[38;5;129;01mor\u001b[39;00m global_skip_validation\n\u001b[32m   1361\u001b[39m     )\n\u001b[32m   1362\u001b[39m ):\n\u001b[32m-> \u001b[39m\u001b[32m1363\u001b[39m     \u001b[38;5;28;01mreturn\u001b[39;00m \u001b[43mfit_method\u001b[49m\u001b[43m(\u001b[49m\u001b[43mestimator\u001b[49m\u001b[43m,\u001b[49m\u001b[43m \u001b[49m\u001b[43m*\u001b[49m\u001b[43margs\u001b[49m\u001b[43m,\u001b[49m\u001b[43m \u001b[49m\u001b[43m*\u001b[49m\u001b[43m*\u001b[49m\u001b[43mkwargs\u001b[49m\u001b[43m)\u001b[49m\n",
      "\u001b[36mFile \u001b[39m\u001b[32md:\\Data Science\\myenv\\Lib\\site-packages\\sklearn\\feature_extraction\\text.py:1376\u001b[39m, in \u001b[36mCountVectorizer.fit_transform\u001b[39m\u001b[34m(self, raw_documents, y)\u001b[39m\n\u001b[32m   1368\u001b[39m             warnings.warn(\n\u001b[32m   1369\u001b[39m                 \u001b[33m\"\u001b[39m\u001b[33mUpper case characters found in\u001b[39m\u001b[33m\"\u001b[39m\n\u001b[32m   1370\u001b[39m                 \u001b[33m\"\u001b[39m\u001b[33m vocabulary while \u001b[39m\u001b[33m'\u001b[39m\u001b[33mlowercase\u001b[39m\u001b[33m'\u001b[39m\u001b[33m\"\u001b[39m\n\u001b[32m   1371\u001b[39m                 \u001b[33m\"\u001b[39m\u001b[33m is True. These entries will not\u001b[39m\u001b[33m\"\u001b[39m\n\u001b[32m   1372\u001b[39m                 \u001b[33m\"\u001b[39m\u001b[33m be matched with any documents\u001b[39m\u001b[33m\"\u001b[39m\n\u001b[32m   1373\u001b[39m             )\n\u001b[32m   1374\u001b[39m             \u001b[38;5;28;01mbreak\u001b[39;00m\n\u001b[32m-> \u001b[39m\u001b[32m1376\u001b[39m vocabulary, X = \u001b[38;5;28;43mself\u001b[39;49m\u001b[43m.\u001b[49m\u001b[43m_count_vocab\u001b[49m\u001b[43m(\u001b[49m\u001b[43mraw_documents\u001b[49m\u001b[43m,\u001b[49m\u001b[43m \u001b[49m\u001b[38;5;28;43mself\u001b[39;49m\u001b[43m.\u001b[49m\u001b[43mfixed_vocabulary_\u001b[49m\u001b[43m)\u001b[49m\n\u001b[32m   1378\u001b[39m \u001b[38;5;28;01mif\u001b[39;00m \u001b[38;5;28mself\u001b[39m.binary:\n\u001b[32m   1379\u001b[39m     X.data.fill(\u001b[32m1\u001b[39m)\n",
      "\u001b[36mFile \u001b[39m\u001b[32md:\\Data Science\\myenv\\Lib\\site-packages\\sklearn\\feature_extraction\\text.py:1263\u001b[39m, in \u001b[36mCountVectorizer._count_vocab\u001b[39m\u001b[34m(self, raw_documents, fixed_vocab)\u001b[39m\n\u001b[32m   1261\u001b[39m \u001b[38;5;28;01mfor\u001b[39;00m doc \u001b[38;5;129;01min\u001b[39;00m raw_documents:\n\u001b[32m   1262\u001b[39m     feature_counter = {}\n\u001b[32m-> \u001b[39m\u001b[32m1263\u001b[39m     \u001b[38;5;28;01mfor\u001b[39;00m feature \u001b[38;5;129;01min\u001b[39;00m \u001b[43manalyze\u001b[49m\u001b[43m(\u001b[49m\u001b[43mdoc\u001b[49m\u001b[43m)\u001b[49m:\n\u001b[32m   1264\u001b[39m         \u001b[38;5;28;01mtry\u001b[39;00m:\n\u001b[32m   1265\u001b[39m             feature_idx = vocabulary[feature]\n",
      "\u001b[36mFile \u001b[39m\u001b[32md:\\Data Science\\myenv\\Lib\\site-packages\\sklearn\\feature_extraction\\text.py:99\u001b[39m, in \u001b[36m_analyze\u001b[39m\u001b[34m(doc, analyzer, tokenizer, ngrams, preprocessor, decoder, stop_words)\u001b[39m\n\u001b[32m     77\u001b[39m \u001b[38;5;250m\u001b[39m\u001b[33;03m\"\"\"Chain together an optional series of text processing steps to go from\u001b[39;00m\n\u001b[32m     78\u001b[39m \u001b[33;03ma single document to ngrams, with or without tokenizing or preprocessing.\u001b[39;00m\n\u001b[32m     79\u001b[39m \n\u001b[32m   (...)\u001b[39m\u001b[32m     95\u001b[39m \u001b[33;03m    A sequence of tokens, possibly with pairs, triples, etc.\u001b[39;00m\n\u001b[32m     96\u001b[39m \u001b[33;03m\"\"\"\u001b[39;00m\n\u001b[32m     98\u001b[39m \u001b[38;5;28;01mif\u001b[39;00m decoder \u001b[38;5;129;01mis\u001b[39;00m \u001b[38;5;129;01mnot\u001b[39;00m \u001b[38;5;28;01mNone\u001b[39;00m:\n\u001b[32m---> \u001b[39m\u001b[32m99\u001b[39m     doc = \u001b[43mdecoder\u001b[49m\u001b[43m(\u001b[49m\u001b[43mdoc\u001b[49m\u001b[43m)\u001b[49m\n\u001b[32m    100\u001b[39m \u001b[38;5;28;01mif\u001b[39;00m analyzer \u001b[38;5;129;01mis\u001b[39;00m \u001b[38;5;129;01mnot\u001b[39;00m \u001b[38;5;28;01mNone\u001b[39;00m:\n\u001b[32m    101\u001b[39m     doc = analyzer(doc)\n",
      "\u001b[36mFile \u001b[39m\u001b[32md:\\Data Science\\myenv\\Lib\\site-packages\\sklearn\\feature_extraction\\text.py:232\u001b[39m, in \u001b[36m_VectorizerMixin.decode\u001b[39m\u001b[34m(self, doc)\u001b[39m\n\u001b[32m    229\u001b[39m     doc = doc.decode(\u001b[38;5;28mself\u001b[39m.encoding, \u001b[38;5;28mself\u001b[39m.decode_error)\n\u001b[32m    231\u001b[39m \u001b[38;5;28;01mif\u001b[39;00m doc \u001b[38;5;129;01mis\u001b[39;00m np.nan:\n\u001b[32m--> \u001b[39m\u001b[32m232\u001b[39m     \u001b[38;5;28;01mraise\u001b[39;00m \u001b[38;5;167;01mValueError\u001b[39;00m(\n\u001b[32m    233\u001b[39m         \u001b[33m\"\u001b[39m\u001b[33mnp.nan is an invalid document, expected byte or unicode string.\u001b[39m\u001b[33m\"\u001b[39m\n\u001b[32m    234\u001b[39m     )\n\u001b[32m    236\u001b[39m \u001b[38;5;28;01mreturn\u001b[39;00m doc\n",
      "\u001b[31mValueError\u001b[39m: np.nan is an invalid document, expected byte or unicode string."
     ]
    }
   ],
   "source": [
    "vectorizer=TfidfVectorizer()\n",
    "\n",
    "X_train=vectorizer.fit_transform(X_train)\n",
    "X_test=vectorizer.transform(X_test)"
   ]
  }
 ],
 "metadata": {
  "kernelspec": {
   "display_name": "myenv (3.13.5)",
   "language": "python",
   "name": "python3"
  },
  "language_info": {
   "codemirror_mode": {
    "name": "ipython",
    "version": 3
   },
   "file_extension": ".py",
   "mimetype": "text/x-python",
   "name": "python",
   "nbconvert_exporter": "python",
   "pygments_lexer": "ipython3",
   "version": "3.13.7"
  }
 },
 "nbformat": 4,
 "nbformat_minor": 5
}
