{
 "cells": [
  {
   "cell_type": "markdown",
   "id": "bb4b99a4",
   "metadata": {},
   "source": [
    "## **Sentiment Analysis**"
   ]
  },
  {
   "cell_type": "markdown",
   "id": "505107a1",
   "metadata": {},
   "source": [
    "## Importing Libraries"
   ]
  },
  {
   "cell_type": "code",
   "execution_count": 1,
   "id": "61b9d7a9",
   "metadata": {},
   "outputs": [
    {
     "name": "stderr",
     "output_type": "stream",
     "text": [
      "d:\\Data Science\\myenv\\Lib\\site-packages\\tqdm\\auto.py:21: TqdmWarning: IProgress not found. Please update jupyter and ipywidgets. See https://ipywidgets.readthedocs.io/en/stable/user_install.html\n",
      "  from .autonotebook import tqdm as notebook_tqdm\n"
     ]
    }
   ],
   "source": [
    "import pandas as pd\n",
    "import numpy as np\n",
    "import os \n",
    "import matplotlib.pyplot as plt\n",
    "import seaborn as sns\n",
    "from sklearn.model_selection import train_test_split, cross_val_score\n",
    "from sklearn.preprocessing import OrdinalEncoder, OneHotEncoder, LabelEncoder\n",
    "from sklearn.metrics import accuracy_score, precision_score, confusion_matrix\n",
    "import kagglehub\n",
    "import warnings\n",
    "warnings.filterwarnings('ignore')"
   ]
  },
  {
   "cell_type": "markdown",
   "id": "6f066827",
   "metadata": {},
   "source": [
    "## Importing Data"
   ]
  },
  {
   "cell_type": "code",
   "execution_count": 2,
   "id": "65222d27",
   "metadata": {},
   "outputs": [
    {
     "name": "stdout",
     "output_type": "stream",
     "text": [
      "Warning: Looks like you're using an outdated `kagglehub` version (installed: 0.3.12), please consider upgrading to the latest version (0.3.13).\n",
      "Path to dataset files: C:\\Users\\Maddox\\.cache\\kagglehub\\datasets\\abhi8923shriv\\sentiment-analysis-dataset\\versions\\9\n"
     ]
    }
   ],
   "source": [
    "path = kagglehub.dataset_download(\"abhi8923shriv/sentiment-analysis-dataset\")\n",
    "\n",
    "print(\"Path to dataset files:\", path)"
   ]
  },
  {
   "cell_type": "code",
   "execution_count": 3,
   "id": "6a26c665",
   "metadata": {},
   "outputs": [
    {
     "data": {
      "text/plain": [
       "['test.csv',\n",
       " 'testdata.manual.2009.06.14.csv',\n",
       " 'train.csv',\n",
       " 'training.1600000.processed.noemoticon.csv']"
      ]
     },
     "execution_count": 3,
     "metadata": {},
     "output_type": "execute_result"
    }
   ],
   "source": [
    "import os\n",
    "files = os.listdir(path)\n",
    "files"
   ]
  },
  {
   "cell_type": "code",
   "execution_count": 4,
   "id": "5e92307d",
   "metadata": {},
   "outputs": [
    {
     "data": {
      "text/plain": [
       "'C:\\\\Users\\\\Maddox\\\\.cache\\\\kagglehub\\\\datasets\\\\abhi8923shriv\\\\sentiment-analysis-dataset\\\\versions\\\\9/test.csv'"
      ]
     },
     "metadata": {},
     "output_type": "display_data"
    }
   ],
   "source": [
    "path1=path+'/'+files[0]\n",
    "path2=path+'/'+files[1]\n",
    "path3=path+'/'+files[2]\n",
    "path4=path+'/'+files[3]\n",
    "display(path1)"
   ]
  },
  {
   "cell_type": "code",
   "execution_count": 5,
   "id": "fcdc3444",
   "metadata": {},
   "outputs": [],
   "source": [
    "import pandas as pd\n",
    "df1 = pd.read_csv(path1, encoding=\"iso-8859-1\")"
   ]
  },
  {
   "cell_type": "code",
   "execution_count": 6,
   "id": "d792d5bf",
   "metadata": {},
   "outputs": [
    {
     "data": {
      "application/vnd.microsoft.datawrangler.viewer.v0+json": {
       "columns": [
        {
         "name": "index",
         "rawType": "int64",
         "type": "integer"
        },
        {
         "name": "textID",
         "rawType": "object",
         "type": "unknown"
        },
        {
         "name": "text",
         "rawType": "object",
         "type": "unknown"
        },
        {
         "name": "sentiment",
         "rawType": "object",
         "type": "unknown"
        },
        {
         "name": "Time of Tweet",
         "rawType": "object",
         "type": "unknown"
        },
        {
         "name": "Age of User",
         "rawType": "object",
         "type": "unknown"
        },
        {
         "name": "Country",
         "rawType": "object",
         "type": "unknown"
        },
        {
         "name": "Population -2020",
         "rawType": "float64",
         "type": "float"
        },
        {
         "name": "Land Area (Km²)",
         "rawType": "float64",
         "type": "float"
        },
        {
         "name": "Density (P/Km²)",
         "rawType": "float64",
         "type": "float"
        }
       ],
       "ref": "2bc6cbbf-bf69-4821-bf73-92d2d4264238",
       "rows": [
        [
         "4773",
         null,
         null,
         null,
         null,
         null,
         null,
         null,
         null,
         null
        ],
        [
         "4594",
         null,
         null,
         null,
         null,
         null,
         null,
         null,
         null,
         null
        ],
        [
         "2221",
         "4d21d7611c",
         " He`s an amazing jockey! Saw that Clydesdale commercial too..loved it!",
         "positive",
         "noon",
         "60-70",
         "Cameroon",
         "26545863.0",
         "472710.0",
         "56.0"
        ],
        [
         "1168",
         "aab1caabf0",
         " im sorry  i wish that i was there instead (it would give you a good excuse to get away from him) hehe...i love you <3",
         "neutral",
         "noon",
         "60-70",
         "Bhutan",
         "771608.0",
         "38100.0",
         "20.0"
        ],
        [
         "167",
         "0e8aa10a4e",
         " that`s a very cute picture ... but you don`t get fat from licking BBQs ... he must have found some chops on someone else`s ...",
         "positive",
         "night",
         "70-100",
         "Suriname",
         "586632.0",
         "156000.0",
         "4.0"
        ]
       ],
       "shape": {
        "columns": 9,
        "rows": 5
       }
      },
      "text/html": [
       "<div>\n",
       "<style scoped>\n",
       "    .dataframe tbody tr th:only-of-type {\n",
       "        vertical-align: middle;\n",
       "    }\n",
       "\n",
       "    .dataframe tbody tr th {\n",
       "        vertical-align: top;\n",
       "    }\n",
       "\n",
       "    .dataframe thead th {\n",
       "        text-align: right;\n",
       "    }\n",
       "</style>\n",
       "<table border=\"1\" class=\"dataframe\">\n",
       "  <thead>\n",
       "    <tr style=\"text-align: right;\">\n",
       "      <th></th>\n",
       "      <th>textID</th>\n",
       "      <th>text</th>\n",
       "      <th>sentiment</th>\n",
       "      <th>Time of Tweet</th>\n",
       "      <th>Age of User</th>\n",
       "      <th>Country</th>\n",
       "      <th>Population -2020</th>\n",
       "      <th>Land Area (Km²)</th>\n",
       "      <th>Density (P/Km²)</th>\n",
       "    </tr>\n",
       "  </thead>\n",
       "  <tbody>\n",
       "    <tr>\n",
       "      <th>4773</th>\n",
       "      <td>NaN</td>\n",
       "      <td>NaN</td>\n",
       "      <td>NaN</td>\n",
       "      <td>NaN</td>\n",
       "      <td>NaN</td>\n",
       "      <td>NaN</td>\n",
       "      <td>NaN</td>\n",
       "      <td>NaN</td>\n",
       "      <td>NaN</td>\n",
       "    </tr>\n",
       "    <tr>\n",
       "      <th>4594</th>\n",
       "      <td>NaN</td>\n",
       "      <td>NaN</td>\n",
       "      <td>NaN</td>\n",
       "      <td>NaN</td>\n",
       "      <td>NaN</td>\n",
       "      <td>NaN</td>\n",
       "      <td>NaN</td>\n",
       "      <td>NaN</td>\n",
       "      <td>NaN</td>\n",
       "    </tr>\n",
       "    <tr>\n",
       "      <th>2221</th>\n",
       "      <td>4d21d7611c</td>\n",
       "      <td>He`s an amazing jockey! Saw that Clydesdale c...</td>\n",
       "      <td>positive</td>\n",
       "      <td>noon</td>\n",
       "      <td>60-70</td>\n",
       "      <td>Cameroon</td>\n",
       "      <td>26545863.0</td>\n",
       "      <td>472710.0</td>\n",
       "      <td>56.0</td>\n",
       "    </tr>\n",
       "    <tr>\n",
       "      <th>1168</th>\n",
       "      <td>aab1caabf0</td>\n",
       "      <td>im sorry  i wish that i was there instead (it...</td>\n",
       "      <td>neutral</td>\n",
       "      <td>noon</td>\n",
       "      <td>60-70</td>\n",
       "      <td>Bhutan</td>\n",
       "      <td>771608.0</td>\n",
       "      <td>38100.0</td>\n",
       "      <td>20.0</td>\n",
       "    </tr>\n",
       "    <tr>\n",
       "      <th>167</th>\n",
       "      <td>0e8aa10a4e</td>\n",
       "      <td>that`s a very cute picture ... but you don`t ...</td>\n",
       "      <td>positive</td>\n",
       "      <td>night</td>\n",
       "      <td>70-100</td>\n",
       "      <td>Suriname</td>\n",
       "      <td>586632.0</td>\n",
       "      <td>156000.0</td>\n",
       "      <td>4.0</td>\n",
       "    </tr>\n",
       "  </tbody>\n",
       "</table>\n",
       "</div>"
      ],
      "text/plain": [
       "          textID                                               text sentiment  \\\n",
       "4773         NaN                                                NaN       NaN   \n",
       "4594         NaN                                                NaN       NaN   \n",
       "2221  4d21d7611c   He`s an amazing jockey! Saw that Clydesdale c...  positive   \n",
       "1168  aab1caabf0   im sorry  i wish that i was there instead (it...   neutral   \n",
       "167   0e8aa10a4e   that`s a very cute picture ... but you don`t ...  positive   \n",
       "\n",
       "     Time of Tweet Age of User   Country  Population -2020  Land Area (Km²)  \\\n",
       "4773           NaN         NaN       NaN               NaN              NaN   \n",
       "4594           NaN         NaN       NaN               NaN              NaN   \n",
       "2221          noon       60-70  Cameroon        26545863.0         472710.0   \n",
       "1168          noon       60-70    Bhutan          771608.0          38100.0   \n",
       "167          night      70-100  Suriname          586632.0         156000.0   \n",
       "\n",
       "      Density (P/Km²)  \n",
       "4773              NaN  \n",
       "4594              NaN  \n",
       "2221             56.0  \n",
       "1168             20.0  \n",
       "167               4.0  "
      ]
     },
     "metadata": {},
     "output_type": "display_data"
    },
    {
     "data": {
      "text/plain": [
       "(4815, 9)"
      ]
     },
     "metadata": {},
     "output_type": "display_data"
    },
    {
     "data": {
      "text/plain": [
       "Index(['textID', 'text', 'sentiment', 'Time of Tweet', 'Age of User',\n",
       "       'Country', 'Population -2020', 'Land Area (Km²)', 'Density (P/Km²)'],\n",
       "      dtype='object')"
      ]
     },
     "metadata": {},
     "output_type": "display_data"
    },
    {
     "name": "stdout",
     "output_type": "stream",
     "text": [
      "<class 'pandas.core.frame.DataFrame'>\n",
      "RangeIndex: 4815 entries, 0 to 4814\n",
      "Data columns (total 9 columns):\n",
      " #   Column            Non-Null Count  Dtype  \n",
      "---  ------            --------------  -----  \n",
      " 0   textID            3534 non-null   object \n",
      " 1   text              3534 non-null   object \n",
      " 2   sentiment         3534 non-null   object \n",
      " 3   Time of Tweet     3534 non-null   object \n",
      " 4   Age of User       3534 non-null   object \n",
      " 5   Country           3534 non-null   object \n",
      " 6   Population -2020  3534 non-null   float64\n",
      " 7   Land Area (Km²)   3534 non-null   float64\n",
      " 8   Density (P/Km²)   3534 non-null   float64\n",
      "dtypes: float64(3), object(6)\n",
      "memory usage: 338.7+ KB\n"
     ]
    },
    {
     "data": {
      "text/plain": [
       "None"
      ]
     },
     "metadata": {},
     "output_type": "display_data"
    }
   ],
   "source": [
    "display(df1.sample(5))\n",
    "display(df1.shape)\n",
    "display(df1.columns)\n",
    "display(df1.info())\n"
   ]
  },
  {
   "cell_type": "code",
   "execution_count": 7,
   "id": "3a56f448",
   "metadata": {},
   "outputs": [
    {
     "data": {
      "application/vnd.microsoft.datawrangler.viewer.v0+json": {
       "columns": [
        {
         "name": "index",
         "rawType": "int64",
         "type": "integer"
        },
        {
         "name": "4",
         "rawType": "int64",
         "type": "integer"
        },
        {
         "name": "3",
         "rawType": "int64",
         "type": "integer"
        },
        {
         "name": "Mon May 11 03:17:40 UTC 2009",
         "rawType": "object",
         "type": "string"
        },
        {
         "name": "kindle2",
         "rawType": "object",
         "type": "string"
        },
        {
         "name": "tpryan",
         "rawType": "object",
         "type": "string"
        },
        {
         "name": "@stellargirl I loooooooovvvvvveee my Kindle2. Not that the DX is cool, but the 2 is fantastic in its own right.",
         "rawType": "object",
         "type": "string"
        }
       ],
       "ref": "3962849d-5b9d-4d6b-9d19-020253874fe4",
       "rows": [
        [
         "414",
         "2",
         "2409",
         "Tue Jun 02 04:29:28 UTC 2009",
         "baseball",
         "Oregon_Live",
         "Portland city politics may undo baseball park http://tinyurl.com/lpjquj"
        ],
        [
         "245",
         "4",
         "1011",
         "Mon May 11 03:32:35 UTC 2009",
         "obama",
         "meggentile",
         "Obama's speech was pretty awesome last night! http://bit.ly/IMXUM"
        ]
       ],
       "shape": {
        "columns": 6,
        "rows": 2
       }
      },
      "text/html": [
       "<div>\n",
       "<style scoped>\n",
       "    .dataframe tbody tr th:only-of-type {\n",
       "        vertical-align: middle;\n",
       "    }\n",
       "\n",
       "    .dataframe tbody tr th {\n",
       "        vertical-align: top;\n",
       "    }\n",
       "\n",
       "    .dataframe thead th {\n",
       "        text-align: right;\n",
       "    }\n",
       "</style>\n",
       "<table border=\"1\" class=\"dataframe\">\n",
       "  <thead>\n",
       "    <tr style=\"text-align: right;\">\n",
       "      <th></th>\n",
       "      <th>4</th>\n",
       "      <th>3</th>\n",
       "      <th>Mon May 11 03:17:40 UTC 2009</th>\n",
       "      <th>kindle2</th>\n",
       "      <th>tpryan</th>\n",
       "      <th>@stellargirl I loooooooovvvvvveee my Kindle2. Not that the DX is cool, but the 2 is fantastic in its own right.</th>\n",
       "    </tr>\n",
       "  </thead>\n",
       "  <tbody>\n",
       "    <tr>\n",
       "      <th>414</th>\n",
       "      <td>2</td>\n",
       "      <td>2409</td>\n",
       "      <td>Tue Jun 02 04:29:28 UTC 2009</td>\n",
       "      <td>baseball</td>\n",
       "      <td>Oregon_Live</td>\n",
       "      <td>Portland city politics may undo baseball park ...</td>\n",
       "    </tr>\n",
       "    <tr>\n",
       "      <th>245</th>\n",
       "      <td>4</td>\n",
       "      <td>1011</td>\n",
       "      <td>Mon May 11 03:32:35 UTC 2009</td>\n",
       "      <td>obama</td>\n",
       "      <td>meggentile</td>\n",
       "      <td>Obama's speech was pretty awesome last night! ...</td>\n",
       "    </tr>\n",
       "  </tbody>\n",
       "</table>\n",
       "</div>"
      ],
      "text/plain": [
       "     4     3  Mon May 11 03:17:40 UTC 2009   kindle2       tpryan  \\\n",
       "414  2  2409  Tue Jun 02 04:29:28 UTC 2009  baseball  Oregon_Live   \n",
       "245  4  1011  Mon May 11 03:32:35 UTC 2009     obama   meggentile   \n",
       "\n",
       "    @stellargirl I loooooooovvvvvveee my Kindle2. Not that the DX is cool, but the 2 is fantastic in its own right.  \n",
       "414  Portland city politics may undo baseball park ...                                                               \n",
       "245  Obama's speech was pretty awesome last night! ...                                                               "
      ]
     },
     "metadata": {},
     "output_type": "display_data"
    },
    {
     "data": {
      "text/plain": [
       "(515, 6)"
      ]
     },
     "metadata": {},
     "output_type": "display_data"
    },
    {
     "name": "stdout",
     "output_type": "stream",
     "text": [
      "<class 'pandas.core.frame.DataFrame'>\n",
      "RangeIndex: 515 entries, 0 to 514\n",
      "Data columns (total 6 columns):\n",
      " #   Column                                                                                                           Non-Null Count  Dtype \n",
      "---  ------                                                                                                           --------------  ----- \n",
      " 0   4                                                                                                                515 non-null    int64 \n",
      " 1   3                                                                                                                515 non-null    int64 \n",
      " 2   Mon May 11 03:17:40 UTC 2009                                                                                     515 non-null    object\n",
      " 3   kindle2                                                                                                          515 non-null    object\n",
      " 4   tpryan                                                                                                           515 non-null    object\n",
      " 5   @stellargirl I loooooooovvvvvveee my Kindle2. Not that the DX is cool, but the 2 is fantastic in its own right.  515 non-null    object\n",
      "dtypes: int64(2), object(4)\n",
      "memory usage: 24.3+ KB\n"
     ]
    },
    {
     "data": {
      "text/plain": [
       "None"
      ]
     },
     "metadata": {},
     "output_type": "display_data"
    }
   ],
   "source": [
    "df2 = pd.read_csv(path2, encoding='utf-8')\n",
    "display(df2.sample(2))\n",
    "display(df2.shape)\n",
    "display(df2.info())"
   ]
  },
  {
   "cell_type": "code",
   "execution_count": 8,
   "id": "1e5ddbfc",
   "metadata": {},
   "outputs": [
    {
     "data": {
      "application/vnd.microsoft.datawrangler.viewer.v0+json": {
       "columns": [
        {
         "name": "index",
         "rawType": "int64",
         "type": "integer"
        },
        {
         "name": "textID",
         "rawType": "object",
         "type": "string"
        },
        {
         "name": "text",
         "rawType": "object",
         "type": "string"
        },
        {
         "name": "selected_text",
         "rawType": "object",
         "type": "string"
        },
        {
         "name": "sentiment",
         "rawType": "object",
         "type": "string"
        },
        {
         "name": "Time of Tweet",
         "rawType": "object",
         "type": "string"
        },
        {
         "name": "Age of User",
         "rawType": "object",
         "type": "string"
        },
        {
         "name": "Country",
         "rawType": "object",
         "type": "string"
        },
        {
         "name": "Population -2020",
         "rawType": "int64",
         "type": "integer"
        },
        {
         "name": "Land Area (Km²)",
         "rawType": "float64",
         "type": "float"
        },
        {
         "name": "Density (P/Km²)",
         "rawType": "int64",
         "type": "integer"
        }
       ],
       "ref": "ceaa3f04-3d85-48f7-8ec4-212886ef8043",
       "rows": [
        [
         "20927",
         "b2443b3da4",
         "Just put all the original art for my comics into an album.  Its really nice, except it shows how much I liked to cut corners to finish.",
         "nice,",
         "positive",
         "night",
         "70-100",
         "Vietnam",
         "97338579",
         "310070.0",
         "314"
        ],
        [
         "2551",
         "5fca2e236a",
         " lmao! You baked non-stop? Sounds like yummy fun!",
         "Sounds like yummy fun!",
         "positive",
         "noon",
         "21-30",
         "Japan",
         "126476461",
         "364555.0",
         "347"
        ],
        [
         "23155",
         "5a1c2ce495",
         " i think i`ll pass the worm! haha, but good morning!",
         "i think i`ll pass the worm! haha, but good morning!",
         "neutral",
         "noon",
         "21-30",
         "Samoa",
         "198414",
         "2830.0",
         "70"
        ],
        [
         "20853",
         "c3d2323026",
         " i`m on twitter! go me. i have no idea how to work it.",
         "i`m on twitter! go me. i have no idea how to work it.",
         "neutral",
         "morning",
         "46-60",
         "Mozambique",
         "31255435",
         "786380.0",
         "40"
        ],
        [
         "10259",
         "4af640d32a",
         "_de_B You have to email her - she only gets what people want in so they aren`t on the site. Shame about the trousers",
         "Shame ab",
         "negative",
         "night",
         "70-100",
         "Belize",
         "397628",
         "22810.0",
         "17"
        ]
       ],
       "shape": {
        "columns": 10,
        "rows": 5
       }
      },
      "text/html": [
       "<div>\n",
       "<style scoped>\n",
       "    .dataframe tbody tr th:only-of-type {\n",
       "        vertical-align: middle;\n",
       "    }\n",
       "\n",
       "    .dataframe tbody tr th {\n",
       "        vertical-align: top;\n",
       "    }\n",
       "\n",
       "    .dataframe thead th {\n",
       "        text-align: right;\n",
       "    }\n",
       "</style>\n",
       "<table border=\"1\" class=\"dataframe\">\n",
       "  <thead>\n",
       "    <tr style=\"text-align: right;\">\n",
       "      <th></th>\n",
       "      <th>textID</th>\n",
       "      <th>text</th>\n",
       "      <th>selected_text</th>\n",
       "      <th>sentiment</th>\n",
       "      <th>Time of Tweet</th>\n",
       "      <th>Age of User</th>\n",
       "      <th>Country</th>\n",
       "      <th>Population -2020</th>\n",
       "      <th>Land Area (Km²)</th>\n",
       "      <th>Density (P/Km²)</th>\n",
       "    </tr>\n",
       "  </thead>\n",
       "  <tbody>\n",
       "    <tr>\n",
       "      <th>20927</th>\n",
       "      <td>b2443b3da4</td>\n",
       "      <td>Just put all the original art for my comics in...</td>\n",
       "      <td>nice,</td>\n",
       "      <td>positive</td>\n",
       "      <td>night</td>\n",
       "      <td>70-100</td>\n",
       "      <td>Vietnam</td>\n",
       "      <td>97338579</td>\n",
       "      <td>310070.0</td>\n",
       "      <td>314</td>\n",
       "    </tr>\n",
       "    <tr>\n",
       "      <th>2551</th>\n",
       "      <td>5fca2e236a</td>\n",
       "      <td>lmao! You baked non-stop? Sounds like yummy fun!</td>\n",
       "      <td>Sounds like yummy fun!</td>\n",
       "      <td>positive</td>\n",
       "      <td>noon</td>\n",
       "      <td>21-30</td>\n",
       "      <td>Japan</td>\n",
       "      <td>126476461</td>\n",
       "      <td>364555.0</td>\n",
       "      <td>347</td>\n",
       "    </tr>\n",
       "    <tr>\n",
       "      <th>23155</th>\n",
       "      <td>5a1c2ce495</td>\n",
       "      <td>i think i`ll pass the worm! haha, but good mo...</td>\n",
       "      <td>i think i`ll pass the worm! haha, but good mor...</td>\n",
       "      <td>neutral</td>\n",
       "      <td>noon</td>\n",
       "      <td>21-30</td>\n",
       "      <td>Samoa</td>\n",
       "      <td>198414</td>\n",
       "      <td>2830.0</td>\n",
       "      <td>70</td>\n",
       "    </tr>\n",
       "    <tr>\n",
       "      <th>20853</th>\n",
       "      <td>c3d2323026</td>\n",
       "      <td>i`m on twitter! go me. i have no idea how to ...</td>\n",
       "      <td>i`m on twitter! go me. i have no idea how to w...</td>\n",
       "      <td>neutral</td>\n",
       "      <td>morning</td>\n",
       "      <td>46-60</td>\n",
       "      <td>Mozambique</td>\n",
       "      <td>31255435</td>\n",
       "      <td>786380.0</td>\n",
       "      <td>40</td>\n",
       "    </tr>\n",
       "    <tr>\n",
       "      <th>10259</th>\n",
       "      <td>4af640d32a</td>\n",
       "      <td>_de_B You have to email her - she only gets wh...</td>\n",
       "      <td>Shame ab</td>\n",
       "      <td>negative</td>\n",
       "      <td>night</td>\n",
       "      <td>70-100</td>\n",
       "      <td>Belize</td>\n",
       "      <td>397628</td>\n",
       "      <td>22810.0</td>\n",
       "      <td>17</td>\n",
       "    </tr>\n",
       "  </tbody>\n",
       "</table>\n",
       "</div>"
      ],
      "text/plain": [
       "           textID                                               text  \\\n",
       "20927  b2443b3da4  Just put all the original art for my comics in...   \n",
       "2551   5fca2e236a   lmao! You baked non-stop? Sounds like yummy fun!   \n",
       "23155  5a1c2ce495   i think i`ll pass the worm! haha, but good mo...   \n",
       "20853  c3d2323026   i`m on twitter! go me. i have no idea how to ...   \n",
       "10259  4af640d32a  _de_B You have to email her - she only gets wh...   \n",
       "\n",
       "                                           selected_text sentiment  \\\n",
       "20927                                              nice,  positive   \n",
       "2551                              Sounds like yummy fun!  positive   \n",
       "23155  i think i`ll pass the worm! haha, but good mor...   neutral   \n",
       "20853  i`m on twitter! go me. i have no idea how to w...   neutral   \n",
       "10259                                           Shame ab  negative   \n",
       "\n",
       "      Time of Tweet Age of User     Country  Population -2020  \\\n",
       "20927         night      70-100     Vietnam          97338579   \n",
       "2551           noon       21-30       Japan         126476461   \n",
       "23155          noon       21-30       Samoa            198414   \n",
       "20853       morning       46-60  Mozambique          31255435   \n",
       "10259         night      70-100      Belize            397628   \n",
       "\n",
       "       Land Area (Km²)  Density (P/Km²)  \n",
       "20927         310070.0              314  \n",
       "2551          364555.0              347  \n",
       "23155           2830.0               70  \n",
       "20853         786380.0               40  \n",
       "10259          22810.0               17  "
      ]
     },
     "metadata": {},
     "output_type": "display_data"
    },
    {
     "data": {
      "text/plain": [
       "(27481, 10)"
      ]
     },
     "metadata": {},
     "output_type": "display_data"
    },
    {
     "data": {
      "text/plain": [
       "Index(['textID', 'text', 'selected_text', 'sentiment', 'Time of Tweet',\n",
       "       'Age of User', 'Country', 'Population -2020', 'Land Area (Km²)',\n",
       "       'Density (P/Km²)'],\n",
       "      dtype='object')"
      ]
     },
     "metadata": {},
     "output_type": "display_data"
    },
    {
     "name": "stdout",
     "output_type": "stream",
     "text": [
      "<class 'pandas.core.frame.DataFrame'>\n",
      "RangeIndex: 27481 entries, 0 to 27480\n",
      "Data columns (total 10 columns):\n",
      " #   Column            Non-Null Count  Dtype  \n",
      "---  ------            --------------  -----  \n",
      " 0   textID            27481 non-null  object \n",
      " 1   text              27480 non-null  object \n",
      " 2   selected_text     27480 non-null  object \n",
      " 3   sentiment         27481 non-null  object \n",
      " 4   Time of Tweet     27481 non-null  object \n",
      " 5   Age of User       27481 non-null  object \n",
      " 6   Country           27481 non-null  object \n",
      " 7   Population -2020  27481 non-null  int64  \n",
      " 8   Land Area (Km²)   27481 non-null  float64\n",
      " 9   Density (P/Km²)   27481 non-null  int64  \n",
      "dtypes: float64(1), int64(2), object(7)\n",
      "memory usage: 2.1+ MB\n"
     ]
    },
    {
     "data": {
      "text/plain": [
       "None"
      ]
     },
     "metadata": {},
     "output_type": "display_data"
    }
   ],
   "source": [
    "df3 = pd.read_csv(path3, encoding=\"iso-8859-1\")\n",
    "display(df3.sample(5))\n",
    "display(df3.shape)\n",
    "display(df3.columns)\n",
    "display(df3.info())"
   ]
  },
  {
   "cell_type": "code",
   "execution_count": 9,
   "id": "a5609f4a",
   "metadata": {},
   "outputs": [
    {
     "data": {
      "application/vnd.microsoft.datawrangler.viewer.v0+json": {
       "columns": [
        {
         "name": "index",
         "rawType": "int64",
         "type": "integer"
        },
        {
         "name": "polarity of tweet ",
         "rawType": "int64",
         "type": "integer"
        },
        {
         "name": "id of the tweet",
         "rawType": "int64",
         "type": "integer"
        },
        {
         "name": "date of the tweet",
         "rawType": "object",
         "type": "string"
        },
        {
         "name": "query",
         "rawType": "object",
         "type": "string"
        },
        {
         "name": "user",
         "rawType": "object",
         "type": "string"
        },
        {
         "name": "text of the tweet ",
         "rawType": "object",
         "type": "string"
        }
       ],
       "ref": "35ee1196-de71-4669-9095-e0c5ac3a589a",
       "rows": [
        [
         "32039",
         "0",
         "1564159612",
         "Mon Apr 20 02:04:40 PDT 2009",
         "NO_QUERY",
         "nuttychris",
         "@Sasha_xx yeah but was just making sure lolm and nowt sat at college bored  wbu?"
        ],
        [
         "61703",
         "0",
         "1686820816",
         "Sun May 03 06:53:14 PDT 2009",
         "NO_QUERY",
         "aristeia",
         "@LizB18 I sent a message asking for the pswrd and never heard back.  "
        ],
        [
         "733933",
         "0",
         "2264434243",
         "Sun Jun 21 03:51:38 PDT 2009",
         "NO_QUERY",
         "MedJ911",
         "@MMM definitely not!!! he (or i) would be disappointed "
        ],
        [
         "874257",
         "4",
         "1679949586",
         "Sat May 02 10:33:14 PDT 2009",
         "NO_QUERY",
         "peterdstraw",
         "Making pizzas from scratch and just made chiili sauce  Getting hungry now."
        ],
        [
         "778868",
         "0",
         "2322793894",
         "Wed Jun 24 23:17:09 PDT 2009",
         "NO_QUERY",
         "jravanos",
         "sh#t !! i wanted to see shaq and thebron together, just in ny knicks jerseys.... is this playoff drought going to be forever??????? "
        ]
       ],
       "shape": {
        "columns": 6,
        "rows": 5
       }
      },
      "text/html": [
       "<div>\n",
       "<style scoped>\n",
       "    .dataframe tbody tr th:only-of-type {\n",
       "        vertical-align: middle;\n",
       "    }\n",
       "\n",
       "    .dataframe tbody tr th {\n",
       "        vertical-align: top;\n",
       "    }\n",
       "\n",
       "    .dataframe thead th {\n",
       "        text-align: right;\n",
       "    }\n",
       "</style>\n",
       "<table border=\"1\" class=\"dataframe\">\n",
       "  <thead>\n",
       "    <tr style=\"text-align: right;\">\n",
       "      <th></th>\n",
       "      <th>polarity of tweet</th>\n",
       "      <th>id of the tweet</th>\n",
       "      <th>date of the tweet</th>\n",
       "      <th>query</th>\n",
       "      <th>user</th>\n",
       "      <th>text of the tweet</th>\n",
       "    </tr>\n",
       "  </thead>\n",
       "  <tbody>\n",
       "    <tr>\n",
       "      <th>32039</th>\n",
       "      <td>0</td>\n",
       "      <td>1564159612</td>\n",
       "      <td>Mon Apr 20 02:04:40 PDT 2009</td>\n",
       "      <td>NO_QUERY</td>\n",
       "      <td>nuttychris</td>\n",
       "      <td>@Sasha_xx yeah but was just making sure lolm a...</td>\n",
       "    </tr>\n",
       "    <tr>\n",
       "      <th>61703</th>\n",
       "      <td>0</td>\n",
       "      <td>1686820816</td>\n",
       "      <td>Sun May 03 06:53:14 PDT 2009</td>\n",
       "      <td>NO_QUERY</td>\n",
       "      <td>aristeia</td>\n",
       "      <td>@LizB18 I sent a message asking for the pswrd ...</td>\n",
       "    </tr>\n",
       "    <tr>\n",
       "      <th>733933</th>\n",
       "      <td>0</td>\n",
       "      <td>2264434243</td>\n",
       "      <td>Sun Jun 21 03:51:38 PDT 2009</td>\n",
       "      <td>NO_QUERY</td>\n",
       "      <td>MedJ911</td>\n",
       "      <td>@MMM definitely not!!! he (or i) would be disa...</td>\n",
       "    </tr>\n",
       "    <tr>\n",
       "      <th>874257</th>\n",
       "      <td>4</td>\n",
       "      <td>1679949586</td>\n",
       "      <td>Sat May 02 10:33:14 PDT 2009</td>\n",
       "      <td>NO_QUERY</td>\n",
       "      <td>peterdstraw</td>\n",
       "      <td>Making pizzas from scratch and just made chiil...</td>\n",
       "    </tr>\n",
       "    <tr>\n",
       "      <th>778868</th>\n",
       "      <td>0</td>\n",
       "      <td>2322793894</td>\n",
       "      <td>Wed Jun 24 23:17:09 PDT 2009</td>\n",
       "      <td>NO_QUERY</td>\n",
       "      <td>jravanos</td>\n",
       "      <td>sh#t !! i wanted to see shaq and thebron toget...</td>\n",
       "    </tr>\n",
       "  </tbody>\n",
       "</table>\n",
       "</div>"
      ],
      "text/plain": [
       "        polarity of tweet   id of the tweet             date of the tweet  \\\n",
       "32039                    0       1564159612  Mon Apr 20 02:04:40 PDT 2009   \n",
       "61703                    0       1686820816  Sun May 03 06:53:14 PDT 2009   \n",
       "733933                   0       2264434243  Sun Jun 21 03:51:38 PDT 2009   \n",
       "874257                   4       1679949586  Sat May 02 10:33:14 PDT 2009   \n",
       "778868                   0       2322793894  Wed Jun 24 23:17:09 PDT 2009   \n",
       "\n",
       "           query         user  \\\n",
       "32039   NO_QUERY   nuttychris   \n",
       "61703   NO_QUERY     aristeia   \n",
       "733933  NO_QUERY      MedJ911   \n",
       "874257  NO_QUERY  peterdstraw   \n",
       "778868  NO_QUERY     jravanos   \n",
       "\n",
       "                                       text of the tweet   \n",
       "32039   @Sasha_xx yeah but was just making sure lolm a...  \n",
       "61703   @LizB18 I sent a message asking for the pswrd ...  \n",
       "733933  @MMM definitely not!!! he (or i) would be disa...  \n",
       "874257  Making pizzas from scratch and just made chiil...  \n",
       "778868  sh#t !! i wanted to see shaq and thebron toget...  "
      ]
     },
     "metadata": {},
     "output_type": "display_data"
    },
    {
     "data": {
      "text/plain": [
       "(1048572, 6)"
      ]
     },
     "metadata": {},
     "output_type": "display_data"
    },
    {
     "data": {
      "text/plain": [
       "Index(['polarity of tweet ', 'id of the tweet', 'date of the tweet', 'query',\n",
       "       'user', 'text of the tweet '],\n",
       "      dtype='object')"
      ]
     },
     "metadata": {},
     "output_type": "display_data"
    },
    {
     "name": "stdout",
     "output_type": "stream",
     "text": [
      "<class 'pandas.core.frame.DataFrame'>\n",
      "RangeIndex: 1048572 entries, 0 to 1048571\n",
      "Data columns (total 6 columns):\n",
      " #   Column              Non-Null Count    Dtype \n",
      "---  ------              --------------    ----- \n",
      " 0   polarity of tweet   1048572 non-null  int64 \n",
      " 1   id of the tweet     1048572 non-null  int64 \n",
      " 2   date of the tweet   1048572 non-null  object\n",
      " 3   query               1048572 non-null  object\n",
      " 4   user                1048572 non-null  object\n",
      " 5   text of the tweet   1048572 non-null  object\n",
      "dtypes: int64(2), object(4)\n",
      "memory usage: 48.0+ MB\n"
     ]
    },
    {
     "data": {
      "text/plain": [
       "None"
      ]
     },
     "metadata": {},
     "output_type": "display_data"
    }
   ],
   "source": [
    "df4 = pd.read_csv(path4, encoding=\"iso-8859-1\")\n",
    "display(df4.sample(5))\n",
    "display(df4.shape)\n",
    "display(df4.columns)\n",
    "display(df4.info())"
   ]
  }
 ],
 "metadata": {
  "kernelspec": {
   "display_name": "myenv (3.13.5)",
   "language": "python",
   "name": "python3"
  },
  "language_info": {
   "codemirror_mode": {
    "name": "ipython",
    "version": 3
   },
   "file_extension": ".py",
   "mimetype": "text/x-python",
   "name": "python",
   "nbconvert_exporter": "python",
   "pygments_lexer": "ipython3",
   "version": "3.13.7"
  }
 },
 "nbformat": 4,
 "nbformat_minor": 5
}
