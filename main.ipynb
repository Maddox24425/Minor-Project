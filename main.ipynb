{
 "cells": [
  {
   "cell_type": "markdown",
   "id": "bb4b99a4",
   "metadata": {},
   "source": [
    "## **Sentiment Analysis**"
   ]
  },
  {
   "cell_type": "markdown",
   "id": "505107a1",
   "metadata": {},
   "source": [
    "## Importing Libraries"
   ]
  },
  {
   "cell_type": "code",
   "execution_count": 25,
   "id": "61b9d7a9",
   "metadata": {},
   "outputs": [],
   "source": [
    "import pandas as pd\n",
    "import numpy as np\n",
    "import os \n",
    "import matplotlib.pyplot as plt\n",
    "import seaborn as sns\n",
    "from sklearn.model_selection import train_test_split, cross_val_score\n",
    "from sklearn.preprocessing import OrdinalEncoder, OneHotEncoder, LabelEncoder\n",
    "from sklearn.metrics import accuracy_score, precision_score, confusion_matrix\n",
    "from sklearn.feature_extraction.text import TfidfVectorizer\n",
    "from sklearn.linear_model import LogisticRegression\n",
    "from sklearn.svm import LinearSVC\n",
    "from sklearn.ensemble import RandomForestClassifier, GradientBoostingClassifier, HistGradientBoostingClassifier\n",
    "from sklearn.naive_bayes import MultinomialNB\n",
    "import kagglehub\n",
    "import re\n",
    "from nltk.corpus import stopwords\n",
    "from nltk.stem.porter import PorterStemmer\n",
    "import warnings\n",
    "warnings.filterwarnings('ignore')"
   ]
  },
  {
   "cell_type": "markdown",
   "id": "6f066827",
   "metadata": {},
   "source": [
    "## Importing Data 1"
   ]
  },
  {
   "cell_type": "code",
   "execution_count": 26,
   "id": "65222d27",
   "metadata": {},
   "outputs": [
    {
     "name": "stdout",
     "output_type": "stream",
     "text": [
      "Warning: Looks like you're using an outdated `kagglehub` version (installed: 0.3.12), please consider upgrading to the latest version (0.3.13).\n",
      "Path to dataset files: C:\\Users\\Maddox\\.cache\\kagglehub\\datasets\\abhi8923shriv\\sentiment-analysis-dataset\\versions\\9\n"
     ]
    }
   ],
   "source": [
    "path = kagglehub.dataset_download(\"abhi8923shriv/sentiment-analysis-dataset\")\n",
    "\n",
    "print(\"Path to dataset files:\", path)"
   ]
  },
  {
   "cell_type": "code",
   "execution_count": 27,
   "id": "6a26c665",
   "metadata": {},
   "outputs": [
    {
     "data": {
      "text/plain": [
       "['test.csv',\n",
       " 'testdata.manual.2009.06.14.csv',\n",
       " 'train.csv',\n",
       " 'training.1600000.processed.noemoticon.csv']"
      ]
     },
     "execution_count": 27,
     "metadata": {},
     "output_type": "execute_result"
    }
   ],
   "source": [
    "import os\n",
    "files = os.listdir(path)\n",
    "files"
   ]
  },
  {
   "cell_type": "code",
   "execution_count": 28,
   "id": "5e92307d",
   "metadata": {},
   "outputs": [
    {
     "data": {
      "text/plain": [
       "'C:\\\\Users\\\\Maddox\\\\.cache\\\\kagglehub\\\\datasets\\\\abhi8923shriv\\\\sentiment-analysis-dataset\\\\versions\\\\9/test.csv'"
      ]
     },
     "metadata": {},
     "output_type": "display_data"
    }
   ],
   "source": [
    "path1=path+'/'+files[0]\n",
    "path2=path+'/'+files[1]\n",
    "path3=path+'/'+files[2]\n",
    "path4=path+'/'+files[3]\n",
    "display(path1)"
   ]
  },
  {
   "cell_type": "code",
   "execution_count": 29,
   "id": "fcdc3444",
   "metadata": {},
   "outputs": [],
   "source": [
    "import pandas as pd\n",
    "df1 = pd.read_csv(path1, encoding=\"iso-8859-1\")"
   ]
  },
  {
   "cell_type": "code",
   "execution_count": 30,
   "id": "d792d5bf",
   "metadata": {},
   "outputs": [
    {
     "data": {
      "text/html": [
       "<div>\n",
       "<style scoped>\n",
       "    .dataframe tbody tr th:only-of-type {\n",
       "        vertical-align: middle;\n",
       "    }\n",
       "\n",
       "    .dataframe tbody tr th {\n",
       "        vertical-align: top;\n",
       "    }\n",
       "\n",
       "    .dataframe thead th {\n",
       "        text-align: right;\n",
       "    }\n",
       "</style>\n",
       "<table border=\"1\" class=\"dataframe\">\n",
       "  <thead>\n",
       "    <tr style=\"text-align: right;\">\n",
       "      <th></th>\n",
       "      <th>textID</th>\n",
       "      <th>text</th>\n",
       "      <th>sentiment</th>\n",
       "      <th>Time of Tweet</th>\n",
       "      <th>Age of User</th>\n",
       "      <th>Country</th>\n",
       "      <th>Population -2020</th>\n",
       "      <th>Land Area (Km²)</th>\n",
       "      <th>Density (P/Km²)</th>\n",
       "    </tr>\n",
       "  </thead>\n",
       "  <tbody>\n",
       "    <tr>\n",
       "      <th>4204</th>\n",
       "      <td>NaN</td>\n",
       "      <td>NaN</td>\n",
       "      <td>NaN</td>\n",
       "      <td>NaN</td>\n",
       "      <td>NaN</td>\n",
       "      <td>NaN</td>\n",
       "      <td>NaN</td>\n",
       "      <td>NaN</td>\n",
       "      <td>NaN</td>\n",
       "    </tr>\n",
       "    <tr>\n",
       "      <th>1884</th>\n",
       "      <td>dd7a9fb210</td>\n",
       "      <td>spirit week! Tuesday have to be in make up by ...</td>\n",
       "      <td>negative</td>\n",
       "      <td>morning</td>\n",
       "      <td>46-60</td>\n",
       "      <td>Jamaica</td>\n",
       "      <td>2961167.0</td>\n",
       "      <td>10830.0</td>\n",
       "      <td>273.0</td>\n",
       "    </tr>\n",
       "    <tr>\n",
       "      <th>2280</th>\n",
       "      <td>5bdecb0d75</td>\n",
       "      <td>is still craving for a cheeseburger.</td>\n",
       "      <td>neutral</td>\n",
       "      <td>morning</td>\n",
       "      <td>46-60</td>\n",
       "      <td>Kuwait</td>\n",
       "      <td>4270571.0</td>\n",
       "      <td>17820.0</td>\n",
       "      <td>240.0</td>\n",
       "    </tr>\n",
       "    <tr>\n",
       "      <th>4150</th>\n",
       "      <td>NaN</td>\n",
       "      <td>NaN</td>\n",
       "      <td>NaN</td>\n",
       "      <td>NaN</td>\n",
       "      <td>NaN</td>\n",
       "      <td>NaN</td>\n",
       "      <td>NaN</td>\n",
       "      <td>NaN</td>\n",
       "      <td>NaN</td>\n",
       "    </tr>\n",
       "    <tr>\n",
       "      <th>3738</th>\n",
       "      <td>NaN</td>\n",
       "      <td>NaN</td>\n",
       "      <td>NaN</td>\n",
       "      <td>NaN</td>\n",
       "      <td>NaN</td>\n",
       "      <td>NaN</td>\n",
       "      <td>NaN</td>\n",
       "      <td>NaN</td>\n",
       "      <td>NaN</td>\n",
       "    </tr>\n",
       "  </tbody>\n",
       "</table>\n",
       "</div>"
      ],
      "text/plain": [
       "          textID                                               text sentiment  \\\n",
       "4204         NaN                                                NaN       NaN   \n",
       "1884  dd7a9fb210  spirit week! Tuesday have to be in make up by ...  negative   \n",
       "2280  5bdecb0d75               is still craving for a cheeseburger.   neutral   \n",
       "4150         NaN                                                NaN       NaN   \n",
       "3738         NaN                                                NaN       NaN   \n",
       "\n",
       "     Time of Tweet Age of User  Country  Population -2020  Land Area (Km²)  \\\n",
       "4204           NaN         NaN      NaN               NaN              NaN   \n",
       "1884       morning       46-60  Jamaica         2961167.0          10830.0   \n",
       "2280       morning       46-60   Kuwait         4270571.0          17820.0   \n",
       "4150           NaN         NaN      NaN               NaN              NaN   \n",
       "3738           NaN         NaN      NaN               NaN              NaN   \n",
       "\n",
       "      Density (P/Km²)  \n",
       "4204              NaN  \n",
       "1884            273.0  \n",
       "2280            240.0  \n",
       "4150              NaN  \n",
       "3738              NaN  "
      ]
     },
     "metadata": {},
     "output_type": "display_data"
    },
    {
     "data": {
      "text/plain": [
       "(4815, 9)"
      ]
     },
     "metadata": {},
     "output_type": "display_data"
    },
    {
     "data": {
      "text/plain": [
       "Index(['textID', 'text', 'sentiment', 'Time of Tweet', 'Age of User',\n",
       "       'Country', 'Population -2020', 'Land Area (Km²)', 'Density (P/Km²)'],\n",
       "      dtype='object')"
      ]
     },
     "metadata": {},
     "output_type": "display_data"
    },
    {
     "name": "stdout",
     "output_type": "stream",
     "text": [
      "<class 'pandas.core.frame.DataFrame'>\n",
      "RangeIndex: 4815 entries, 0 to 4814\n",
      "Data columns (total 9 columns):\n",
      " #   Column            Non-Null Count  Dtype  \n",
      "---  ------            --------------  -----  \n",
      " 0   textID            3534 non-null   object \n",
      " 1   text              3534 non-null   object \n",
      " 2   sentiment         3534 non-null   object \n",
      " 3   Time of Tweet     3534 non-null   object \n",
      " 4   Age of User       3534 non-null   object \n",
      " 5   Country           3534 non-null   object \n",
      " 6   Population -2020  3534 non-null   float64\n",
      " 7   Land Area (Km²)   3534 non-null   float64\n",
      " 8   Density (P/Km²)   3534 non-null   float64\n",
      "dtypes: float64(3), object(6)\n",
      "memory usage: 338.7+ KB\n"
     ]
    },
    {
     "data": {
      "text/plain": [
       "None"
      ]
     },
     "metadata": {},
     "output_type": "display_data"
    }
   ],
   "source": [
    "display(df1.sample(5))\n",
    "display(df1.shape)\n",
    "display(df1.columns)\n",
    "display(df1.info())\n"
   ]
  },
  {
   "cell_type": "code",
   "execution_count": 31,
   "id": "3a56f448",
   "metadata": {},
   "outputs": [
    {
     "data": {
      "text/html": [
       "<div>\n",
       "<style scoped>\n",
       "    .dataframe tbody tr th:only-of-type {\n",
       "        vertical-align: middle;\n",
       "    }\n",
       "\n",
       "    .dataframe tbody tr th {\n",
       "        vertical-align: top;\n",
       "    }\n",
       "\n",
       "    .dataframe thead th {\n",
       "        text-align: right;\n",
       "    }\n",
       "</style>\n",
       "<table border=\"1\" class=\"dataframe\">\n",
       "  <thead>\n",
       "    <tr style=\"text-align: right;\">\n",
       "      <th></th>\n",
       "      <th>4</th>\n",
       "      <th>3</th>\n",
       "      <th>Mon May 11 03:17:40 UTC 2009</th>\n",
       "      <th>kindle2</th>\n",
       "      <th>tpryan</th>\n",
       "      <th>@stellargirl I loooooooovvvvvveee my Kindle2. Not that the DX is cool, but the 2 is fantastic in its own right.</th>\n",
       "    </tr>\n",
       "  </thead>\n",
       "  <tbody>\n",
       "    <tr>\n",
       "      <th>88</th>\n",
       "      <td>0</td>\n",
       "      <td>211</td>\n",
       "      <td>Mon May 25 17:21:08 UTC 2009</td>\n",
       "      <td>pelosi</td>\n",
       "      <td>zed01</td>\n",
       "      <td>Why the hell is Pelosi in freakin China? and o...</td>\n",
       "    </tr>\n",
       "    <tr>\n",
       "      <th>137</th>\n",
       "      <td>0</td>\n",
       "      <td>402</td>\n",
       "      <td>Tue Jun 02 03:01:10 UTC 2009</td>\n",
       "      <td>gm</td>\n",
       "      <td>mshbrown</td>\n",
       "      <td>It's unfortunate that after the Stimulus plan ...</td>\n",
       "    </tr>\n",
       "  </tbody>\n",
       "</table>\n",
       "</div>"
      ],
      "text/plain": [
       "     4    3  Mon May 11 03:17:40 UTC 2009 kindle2    tpryan  \\\n",
       "88   0  211  Mon May 25 17:21:08 UTC 2009  pelosi     zed01   \n",
       "137  0  402  Tue Jun 02 03:01:10 UTC 2009      gm  mshbrown   \n",
       "\n",
       "    @stellargirl I loooooooovvvvvveee my Kindle2. Not that the DX is cool, but the 2 is fantastic in its own right.  \n",
       "88   Why the hell is Pelosi in freakin China? and o...                                                               \n",
       "137  It's unfortunate that after the Stimulus plan ...                                                               "
      ]
     },
     "metadata": {},
     "output_type": "display_data"
    },
    {
     "data": {
      "text/plain": [
       "(515, 6)"
      ]
     },
     "metadata": {},
     "output_type": "display_data"
    },
    {
     "name": "stdout",
     "output_type": "stream",
     "text": [
      "<class 'pandas.core.frame.DataFrame'>\n",
      "RangeIndex: 515 entries, 0 to 514\n",
      "Data columns (total 6 columns):\n",
      " #   Column                                                                                                           Non-Null Count  Dtype \n",
      "---  ------                                                                                                           --------------  ----- \n",
      " 0   4                                                                                                                515 non-null    int64 \n",
      " 1   3                                                                                                                515 non-null    int64 \n",
      " 2   Mon May 11 03:17:40 UTC 2009                                                                                     515 non-null    object\n",
      " 3   kindle2                                                                                                          515 non-null    object\n",
      " 4   tpryan                                                                                                           515 non-null    object\n",
      " 5   @stellargirl I loooooooovvvvvveee my Kindle2. Not that the DX is cool, but the 2 is fantastic in its own right.  515 non-null    object\n",
      "dtypes: int64(2), object(4)\n",
      "memory usage: 24.3+ KB\n"
     ]
    },
    {
     "data": {
      "text/plain": [
       "None"
      ]
     },
     "metadata": {},
     "output_type": "display_data"
    }
   ],
   "source": [
    "df2 = pd.read_csv(path2, encoding='utf-8')\n",
    "display(df2.sample(2))\n",
    "display(df2.shape)\n",
    "display(df2.info())"
   ]
  },
  {
   "cell_type": "code",
   "execution_count": 32,
   "id": "1e5ddbfc",
   "metadata": {},
   "outputs": [
    {
     "data": {
      "text/html": [
       "<div>\n",
       "<style scoped>\n",
       "    .dataframe tbody tr th:only-of-type {\n",
       "        vertical-align: middle;\n",
       "    }\n",
       "\n",
       "    .dataframe tbody tr th {\n",
       "        vertical-align: top;\n",
       "    }\n",
       "\n",
       "    .dataframe thead th {\n",
       "        text-align: right;\n",
       "    }\n",
       "</style>\n",
       "<table border=\"1\" class=\"dataframe\">\n",
       "  <thead>\n",
       "    <tr style=\"text-align: right;\">\n",
       "      <th></th>\n",
       "      <th>textID</th>\n",
       "      <th>text</th>\n",
       "      <th>selected_text</th>\n",
       "      <th>sentiment</th>\n",
       "      <th>Time of Tweet</th>\n",
       "      <th>Age of User</th>\n",
       "      <th>Country</th>\n",
       "      <th>Population -2020</th>\n",
       "      <th>Land Area (Km²)</th>\n",
       "      <th>Density (P/Km²)</th>\n",
       "    </tr>\n",
       "  </thead>\n",
       "  <tbody>\n",
       "    <tr>\n",
       "      <th>14129</th>\n",
       "      <td>baa4c5ad2b</td>\n",
       "      <td>Goin 2 eat some SMACKS 4 breakfast then gettin...</td>\n",
       "      <td>wish</td>\n",
       "      <td>positive</td>\n",
       "      <td>night</td>\n",
       "      <td>70-100</td>\n",
       "      <td>Zimbabwe</td>\n",
       "      <td>14862924</td>\n",
       "      <td>386850.0</td>\n",
       "      <td>38</td>\n",
       "    </tr>\n",
       "    <tr>\n",
       "      <th>5</th>\n",
       "      <td>28b57f3990</td>\n",
       "      <td>http://www.dothebouncy.com/smf - some shameles...</td>\n",
       "      <td>http://www.dothebouncy.com/smf - some shameles...</td>\n",
       "      <td>neutral</td>\n",
       "      <td>night</td>\n",
       "      <td>70-100</td>\n",
       "      <td>Antigua and Barbuda</td>\n",
       "      <td>97929</td>\n",
       "      <td>440.0</td>\n",
       "      <td>223</td>\n",
       "    </tr>\n",
       "    <tr>\n",
       "      <th>6044</th>\n",
       "      <td>ee267131b1</td>\n",
       "      <td>ok... twitter I almost pass out because of you...</td>\n",
       "      <td>****</td>\n",
       "      <td>negative</td>\n",
       "      <td>night</td>\n",
       "      <td>31-45</td>\n",
       "      <td>Iraq</td>\n",
       "      <td>40222493</td>\n",
       "      <td>434320.0</td>\n",
       "      <td>93</td>\n",
       "    </tr>\n",
       "    <tr>\n",
       "      <th>8636</th>\n",
       "      <td>89867c41e7</td>\n",
       "      <td>boston needs one too</td>\n",
       "      <td>boston needs one too</td>\n",
       "      <td>neutral</td>\n",
       "      <td>night</td>\n",
       "      <td>31-45</td>\n",
       "      <td>Iraq</td>\n",
       "      <td>40222493</td>\n",
       "      <td>434320.0</td>\n",
       "      <td>93</td>\n",
       "    </tr>\n",
       "    <tr>\n",
       "      <th>23761</th>\n",
       "      <td>e9c80bc8be</td>\n",
       "      <td>Just found out my kitty isn`t pregnant  its a ...</td>\n",
       "      <td>good</td>\n",
       "      <td>positive</td>\n",
       "      <td>noon</td>\n",
       "      <td>21-30</td>\n",
       "      <td>Cyprus</td>\n",
       "      <td>1207359</td>\n",
       "      <td>9240.0</td>\n",
       "      <td>131</td>\n",
       "    </tr>\n",
       "  </tbody>\n",
       "</table>\n",
       "</div>"
      ],
      "text/plain": [
       "           textID                                               text  \\\n",
       "14129  baa4c5ad2b  Goin 2 eat some SMACKS 4 breakfast then gettin...   \n",
       "5      28b57f3990  http://www.dothebouncy.com/smf - some shameles...   \n",
       "6044   ee267131b1  ok... twitter I almost pass out because of you...   \n",
       "8636   89867c41e7                               boston needs one too   \n",
       "23761  e9c80bc8be  Just found out my kitty isn`t pregnant  its a ...   \n",
       "\n",
       "                                           selected_text sentiment  \\\n",
       "14129                                               wish  positive   \n",
       "5      http://www.dothebouncy.com/smf - some shameles...   neutral   \n",
       "6044                                                ****  negative   \n",
       "8636                                boston needs one too   neutral   \n",
       "23761                                               good  positive   \n",
       "\n",
       "      Time of Tweet Age of User              Country  Population -2020  \\\n",
       "14129         night      70-100             Zimbabwe          14862924   \n",
       "5             night      70-100  Antigua and Barbuda             97929   \n",
       "6044          night       31-45                 Iraq          40222493   \n",
       "8636          night       31-45                 Iraq          40222493   \n",
       "23761          noon       21-30               Cyprus           1207359   \n",
       "\n",
       "       Land Area (Km²)  Density (P/Km²)  \n",
       "14129         386850.0               38  \n",
       "5                440.0              223  \n",
       "6044          434320.0               93  \n",
       "8636          434320.0               93  \n",
       "23761           9240.0              131  "
      ]
     },
     "metadata": {},
     "output_type": "display_data"
    },
    {
     "data": {
      "text/plain": [
       "(27481, 10)"
      ]
     },
     "metadata": {},
     "output_type": "display_data"
    },
    {
     "data": {
      "text/plain": [
       "Index(['textID', 'text', 'selected_text', 'sentiment', 'Time of Tweet',\n",
       "       'Age of User', 'Country', 'Population -2020', 'Land Area (Km²)',\n",
       "       'Density (P/Km²)'],\n",
       "      dtype='object')"
      ]
     },
     "metadata": {},
     "output_type": "display_data"
    },
    {
     "name": "stdout",
     "output_type": "stream",
     "text": [
      "<class 'pandas.core.frame.DataFrame'>\n",
      "RangeIndex: 27481 entries, 0 to 27480\n",
      "Data columns (total 10 columns):\n",
      " #   Column            Non-Null Count  Dtype  \n",
      "---  ------            --------------  -----  \n",
      " 0   textID            27481 non-null  object \n",
      " 1   text              27480 non-null  object \n",
      " 2   selected_text     27480 non-null  object \n",
      " 3   sentiment         27481 non-null  object \n",
      " 4   Time of Tweet     27481 non-null  object \n",
      " 5   Age of User       27481 non-null  object \n",
      " 6   Country           27481 non-null  object \n",
      " 7   Population -2020  27481 non-null  int64  \n",
      " 8   Land Area (Km²)   27481 non-null  float64\n",
      " 9   Density (P/Km²)   27481 non-null  int64  \n",
      "dtypes: float64(1), int64(2), object(7)\n",
      "memory usage: 2.1+ MB\n"
     ]
    },
    {
     "data": {
      "text/plain": [
       "None"
      ]
     },
     "metadata": {},
     "output_type": "display_data"
    }
   ],
   "source": [
    "df3 = pd.read_csv(path3, encoding=\"iso-8859-1\")\n",
    "display(df3.sample(5))\n",
    "display(df3.shape)\n",
    "display(df3.columns)\n",
    "display(df3.info())"
   ]
  },
  {
   "cell_type": "code",
   "execution_count": 33,
   "id": "a5609f4a",
   "metadata": {},
   "outputs": [
    {
     "data": {
      "text/html": [
       "<div>\n",
       "<style scoped>\n",
       "    .dataframe tbody tr th:only-of-type {\n",
       "        vertical-align: middle;\n",
       "    }\n",
       "\n",
       "    .dataframe tbody tr th {\n",
       "        vertical-align: top;\n",
       "    }\n",
       "\n",
       "    .dataframe thead th {\n",
       "        text-align: right;\n",
       "    }\n",
       "</style>\n",
       "<table border=\"1\" class=\"dataframe\">\n",
       "  <thead>\n",
       "    <tr style=\"text-align: right;\">\n",
       "      <th></th>\n",
       "      <th>polarity of tweet</th>\n",
       "      <th>id of the tweet</th>\n",
       "      <th>date of the tweet</th>\n",
       "      <th>query</th>\n",
       "      <th>user</th>\n",
       "      <th>text of the tweet</th>\n",
       "    </tr>\n",
       "  </thead>\n",
       "  <tbody>\n",
       "    <tr>\n",
       "      <th>442293</th>\n",
       "      <td>0</td>\n",
       "      <td>2067236702</td>\n",
       "      <td>Sun Jun 07 11:59:41 PDT 2009</td>\n",
       "      <td>NO_QUERY</td>\n",
       "      <td>KCSuzy</td>\n",
       "      <td>I was watching diamond demos on MLB Network - ...</td>\n",
       "    </tr>\n",
       "    <tr>\n",
       "      <th>47484</th>\n",
       "      <td>0</td>\n",
       "      <td>1677646899</td>\n",
       "      <td>Sat May 02 03:12:56 PDT 2009</td>\n",
       "      <td>NO_QUERY</td>\n",
       "      <td>crunchybunny</td>\n",
       "      <td>wanting to go to my auntie's friend's despedid...</td>\n",
       "    </tr>\n",
       "    <tr>\n",
       "      <th>945695</th>\n",
       "      <td>4</td>\n",
       "      <td>1822395487</td>\n",
       "      <td>Sat May 16 19:28:50 PDT 2009</td>\n",
       "      <td>NO_QUERY</td>\n",
       "      <td>magza_</td>\n",
       "      <td>@amyyfrantz I assume that I am receiving one. ...</td>\n",
       "    </tr>\n",
       "    <tr>\n",
       "      <th>515985</th>\n",
       "      <td>0</td>\n",
       "      <td>2190964094</td>\n",
       "      <td>Tue Jun 16 04:11:25 PDT 2009</td>\n",
       "      <td>NO_QUERY</td>\n",
       "      <td>ClaireJulian</td>\n",
       "      <td>is still sore today and still bleeding!</td>\n",
       "    </tr>\n",
       "    <tr>\n",
       "      <th>981057</th>\n",
       "      <td>4</td>\n",
       "      <td>1834080192</td>\n",
       "      <td>Mon May 18 01:33:07 PDT 2009</td>\n",
       "      <td>NO_QUERY</td>\n",
       "      <td>Laura_McKay2009</td>\n",
       "      <td>@arengrimshaw Happy Monday at new desk!</td>\n",
       "    </tr>\n",
       "  </tbody>\n",
       "</table>\n",
       "</div>"
      ],
      "text/plain": [
       "        polarity of tweet   id of the tweet             date of the tweet  \\\n",
       "442293                   0       2067236702  Sun Jun 07 11:59:41 PDT 2009   \n",
       "47484                    0       1677646899  Sat May 02 03:12:56 PDT 2009   \n",
       "945695                   4       1822395487  Sat May 16 19:28:50 PDT 2009   \n",
       "515985                   0       2190964094  Tue Jun 16 04:11:25 PDT 2009   \n",
       "981057                   4       1834080192  Mon May 18 01:33:07 PDT 2009   \n",
       "\n",
       "           query             user  \\\n",
       "442293  NO_QUERY           KCSuzy   \n",
       "47484   NO_QUERY     crunchybunny   \n",
       "945695  NO_QUERY           magza_   \n",
       "515985  NO_QUERY     ClaireJulian   \n",
       "981057  NO_QUERY  Laura_McKay2009   \n",
       "\n",
       "                                       text of the tweet   \n",
       "442293  I was watching diamond demos on MLB Network - ...  \n",
       "47484   wanting to go to my auntie's friend's despedid...  \n",
       "945695  @amyyfrantz I assume that I am receiving one. ...  \n",
       "515985           is still sore today and still bleeding!   \n",
       "981057           @arengrimshaw Happy Monday at new desk!   "
      ]
     },
     "metadata": {},
     "output_type": "display_data"
    },
    {
     "data": {
      "text/plain": [
       "(1048572, 6)"
      ]
     },
     "metadata": {},
     "output_type": "display_data"
    },
    {
     "data": {
      "text/plain": [
       "Index(['polarity of tweet ', 'id of the tweet', 'date of the tweet', 'query',\n",
       "       'user', 'text of the tweet '],\n",
       "      dtype='object')"
      ]
     },
     "metadata": {},
     "output_type": "display_data"
    },
    {
     "name": "stdout",
     "output_type": "stream",
     "text": [
      "<class 'pandas.core.frame.DataFrame'>\n",
      "RangeIndex: 1048572 entries, 0 to 1048571\n",
      "Data columns (total 6 columns):\n",
      " #   Column              Non-Null Count    Dtype \n",
      "---  ------              --------------    ----- \n",
      " 0   polarity of tweet   1048572 non-null  int64 \n",
      " 1   id of the tweet     1048572 non-null  int64 \n",
      " 2   date of the tweet   1048572 non-null  object\n",
      " 3   query               1048572 non-null  object\n",
      " 4   user                1048572 non-null  object\n",
      " 5   text of the tweet   1048572 non-null  object\n",
      "dtypes: int64(2), object(4)\n",
      "memory usage: 48.0+ MB\n"
     ]
    },
    {
     "data": {
      "text/plain": [
       "None"
      ]
     },
     "metadata": {},
     "output_type": "display_data"
    }
   ],
   "source": [
    "df4 = pd.read_csv(path4, encoding=\"iso-8859-1\")\n",
    "display(df4.sample(5))\n",
    "display(df4.shape)\n",
    "display(df4.columns)\n",
    "display(df4.info())"
   ]
  },
  {
   "cell_type": "markdown",
   "id": "dd2cc446",
   "metadata": {},
   "source": [
    "## Importing Data 2 , 0-negative, 4=positive"
   ]
  },
  {
   "cell_type": "code",
   "execution_count": 34,
   "id": "f028cb5d",
   "metadata": {},
   "outputs": [
    {
     "name": "stdout",
     "output_type": "stream",
     "text": [
      "Warning: Looks like you're using an outdated `kagglehub` version (installed: 0.3.12), please consider upgrading to the latest version (0.3.13).\n",
      "Path to dataset files: C:\\Users\\Maddox\\.cache\\kagglehub\\datasets\\kazanova\\sentiment140\\versions\\2\n"
     ]
    }
   ],
   "source": [
    "path5 = kagglehub.dataset_download(\"kazanova/sentiment140\")\n",
    "\n",
    "print(\"Path to dataset files:\", path5)"
   ]
  },
  {
   "cell_type": "code",
   "execution_count": 35,
   "id": "f5c34edf",
   "metadata": {},
   "outputs": [
    {
     "data": {
      "text/html": [
       "<div>\n",
       "<style scoped>\n",
       "    .dataframe tbody tr th:only-of-type {\n",
       "        vertical-align: middle;\n",
       "    }\n",
       "\n",
       "    .dataframe tbody tr th {\n",
       "        vertical-align: top;\n",
       "    }\n",
       "\n",
       "    .dataframe thead th {\n",
       "        text-align: right;\n",
       "    }\n",
       "</style>\n",
       "<table border=\"1\" class=\"dataframe\">\n",
       "  <thead>\n",
       "    <tr style=\"text-align: right;\">\n",
       "      <th></th>\n",
       "      <th>0</th>\n",
       "      <th>1467810369</th>\n",
       "      <th>Mon Apr 06 22:19:45 PDT 2009</th>\n",
       "      <th>NO_QUERY</th>\n",
       "      <th>_TheSpecialOne_</th>\n",
       "      <th>@switchfoot http://twitpic.com/2y1zl - Awww, that's a bummer.  You shoulda got David Carr of Third Day to do it. ;D</th>\n",
       "    </tr>\n",
       "  </thead>\n",
       "  <tbody>\n",
       "    <tr>\n",
       "      <th>964856</th>\n",
       "      <td>4</td>\n",
       "      <td>1827558537</td>\n",
       "      <td>Sun May 17 10:58:06 PDT 2009</td>\n",
       "      <td>NO_QUERY</td>\n",
       "      <td>priscellie</td>\n",
       "      <td>@Uilos ...Thank you, Craig, for ensuring that ...</td>\n",
       "    </tr>\n",
       "    <tr>\n",
       "      <th>739843</th>\n",
       "      <td>0</td>\n",
       "      <td>2265831653</td>\n",
       "      <td>Sun Jun 21 07:23:47 PDT 2009</td>\n",
       "      <td>NO_QUERY</td>\n",
       "      <td>lizziemoogle</td>\n",
       "      <td>Im bored of cleaning now ... My back fucking k...</td>\n",
       "    </tr>\n",
       "    <tr>\n",
       "      <th>198281</th>\n",
       "      <td>0</td>\n",
       "      <td>1971185623</td>\n",
       "      <td>Sat May 30 06:27:19 PDT 2009</td>\n",
       "      <td>NO_QUERY</td>\n",
       "      <td>HannahFiore</td>\n",
       "      <td>aww watching the last episode with my mommy! o...</td>\n",
       "    </tr>\n",
       "    <tr>\n",
       "      <th>993014</th>\n",
       "      <td>4</td>\n",
       "      <td>1835327923</td>\n",
       "      <td>Mon May 18 05:44:00 PDT 2009</td>\n",
       "      <td>NO_QUERY</td>\n",
       "      <td>Dracona_</td>\n",
       "      <td>After going back over the timeline it seems I ...</td>\n",
       "    </tr>\n",
       "    <tr>\n",
       "      <th>274941</th>\n",
       "      <td>0</td>\n",
       "      <td>1990702757</td>\n",
       "      <td>Mon Jun 01 05:32:32 PDT 2009</td>\n",
       "      <td>NO_QUERY</td>\n",
       "      <td>michaelmknight</td>\n",
       "      <td>@dippyjax I wish It was a Bank Holiday</td>\n",
       "    </tr>\n",
       "  </tbody>\n",
       "</table>\n",
       "</div>"
      ],
      "text/plain": [
       "        0  1467810369  Mon Apr 06 22:19:45 PDT 2009  NO_QUERY _TheSpecialOne_  \\\n",
       "964856  4  1827558537  Sun May 17 10:58:06 PDT 2009  NO_QUERY      priscellie   \n",
       "739843  0  2265831653  Sun Jun 21 07:23:47 PDT 2009  NO_QUERY    lizziemoogle   \n",
       "198281  0  1971185623  Sat May 30 06:27:19 PDT 2009  NO_QUERY     HannahFiore   \n",
       "993014  4  1835327923  Mon May 18 05:44:00 PDT 2009  NO_QUERY        Dracona_   \n",
       "274941  0  1990702757  Mon Jun 01 05:32:32 PDT 2009  NO_QUERY  michaelmknight   \n",
       "\n",
       "       @switchfoot http://twitpic.com/2y1zl - Awww, that's a bummer.  You shoulda got David Carr of Third Day to do it. ;D  \n",
       "964856  @Uilos ...Thank you, Craig, for ensuring that ...                                                                   \n",
       "739843  Im bored of cleaning now ... My back fucking k...                                                                   \n",
       "198281  aww watching the last episode with my mommy! o...                                                                   \n",
       "993014  After going back over the timeline it seems I ...                                                                   \n",
       "274941            @dippyjax I wish It was a Bank Holiday                                                                    "
      ]
     },
     "metadata": {},
     "output_type": "display_data"
    },
    {
     "data": {
      "text/plain": [
       "(1599999, 6)"
      ]
     },
     "metadata": {},
     "output_type": "display_data"
    },
    {
     "data": {
      "text/plain": [
       "Index(['0', '1467810369', 'Mon Apr 06 22:19:45 PDT 2009', 'NO_QUERY',\n",
       "       '_TheSpecialOne_',\n",
       "       '@switchfoot http://twitpic.com/2y1zl - Awww, that's a bummer.  You shoulda got David Carr of Third Day to do it. ;D'],\n",
       "      dtype='object')"
      ]
     },
     "metadata": {},
     "output_type": "display_data"
    },
    {
     "name": "stdout",
     "output_type": "stream",
     "text": [
      "<class 'pandas.core.frame.DataFrame'>\n",
      "RangeIndex: 1599999 entries, 0 to 1599998\n",
      "Data columns (total 6 columns):\n",
      " #   Column                                                                                                               Non-Null Count    Dtype \n",
      "---  ------                                                                                                               --------------    ----- \n",
      " 0   0                                                                                                                    1599999 non-null  int64 \n",
      " 1   1467810369                                                                                                           1599999 non-null  int64 \n",
      " 2   Mon Apr 06 22:19:45 PDT 2009                                                                                         1599999 non-null  object\n",
      " 3   NO_QUERY                                                                                                             1599999 non-null  object\n",
      " 4   _TheSpecialOne_                                                                                                      1599999 non-null  object\n",
      " 5   @switchfoot http://twitpic.com/2y1zl - Awww, that's a bummer.  You shoulda got David Carr of Third Day to do it. ;D  1599999 non-null  object\n",
      "dtypes: int64(2), object(4)\n",
      "memory usage: 73.2+ MB\n"
     ]
    },
    {
     "data": {
      "text/plain": [
       "None"
      ]
     },
     "metadata": {},
     "output_type": "display_data"
    }
   ],
   "source": [
    "fullpath=path5+'/'+os.listdir(path5)[0]\n",
    "fullpath\n",
    "df5 = pd.read_csv(fullpath, encoding=\"iso-8859-1\")\n",
    "display(df5.sample(5))\n",
    "display(df5.shape)\n",
    "display(df5.columns)\n",
    "display(df5.info())"
   ]
  },
  {
   "cell_type": "code",
   "execution_count": 36,
   "id": "33ad1ee2",
   "metadata": {},
   "outputs": [
    {
     "data": {
      "text/html": [
       "<div>\n",
       "<style scoped>\n",
       "    .dataframe tbody tr th:only-of-type {\n",
       "        vertical-align: middle;\n",
       "    }\n",
       "\n",
       "    .dataframe tbody tr th {\n",
       "        vertical-align: top;\n",
       "    }\n",
       "\n",
       "    .dataframe thead th {\n",
       "        text-align: right;\n",
       "    }\n",
       "</style>\n",
       "<table border=\"1\" class=\"dataframe\">\n",
       "  <thead>\n",
       "    <tr style=\"text-align: right;\">\n",
       "      <th></th>\n",
       "      <th>0</th>\n",
       "      <th>1467810369</th>\n",
       "      <th>Mon Apr 06 22:19:45 PDT 2009</th>\n",
       "      <th>NO_QUERY</th>\n",
       "      <th>_TheSpecialOne_</th>\n",
       "      <th>@switchfoot http://twitpic.com/2y1zl - Awww, that's a bummer.  You shoulda got David Carr of Third Day to do it. ;D</th>\n",
       "    </tr>\n",
       "  </thead>\n",
       "  <tbody>\n",
       "    <tr>\n",
       "      <th>84307</th>\n",
       "      <td>0</td>\n",
       "      <td>1753565812</td>\n",
       "      <td>Sun May 10 02:16:49 PDT 2009</td>\n",
       "      <td>NO_QUERY</td>\n",
       "      <td>tattoogoddess</td>\n",
       "      <td>@rustyrockets i need a date to zombie prom in ...</td>\n",
       "    </tr>\n",
       "  </tbody>\n",
       "</table>\n",
       "</div>"
      ],
      "text/plain": [
       "       0  1467810369  Mon Apr 06 22:19:45 PDT 2009  NO_QUERY _TheSpecialOne_  \\\n",
       "84307  0  1753565812  Sun May 10 02:16:49 PDT 2009  NO_QUERY   tattoogoddess   \n",
       "\n",
       "      @switchfoot http://twitpic.com/2y1zl - Awww, that's a bummer.  You shoulda got David Carr of Third Day to do it. ;D  \n",
       "84307  @rustyrockets i need a date to zombie prom in ...                                                                   "
      ]
     },
     "metadata": {},
     "output_type": "display_data"
    }
   ],
   "source": [
    "display(df5.sample())"
   ]
  },
  {
   "cell_type": "markdown",
   "id": "49872631",
   "metadata": {},
   "source": [
    "## EDA on important dataset"
   ]
  },
  {
   "cell_type": "code",
   "execution_count": null,
   "id": "e2654923",
   "metadata": {},
   "outputs": [],
   "source": []
  }
 ],
 "metadata": {
  "kernelspec": {
   "display_name": "myenv (3.13.5)",
   "language": "python",
   "name": "python3"
  },
  "language_info": {
   "codemirror_mode": {
    "name": "ipython",
    "version": 3
   },
   "file_extension": ".py",
   "mimetype": "text/x-python",
   "name": "python",
   "nbconvert_exporter": "python",
   "pygments_lexer": "ipython3",
   "version": "3.13.7"
  }
 },
 "nbformat": 4,
 "nbformat_minor": 5
}
