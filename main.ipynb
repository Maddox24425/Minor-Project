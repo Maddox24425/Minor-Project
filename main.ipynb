{
 "cells": [
  {
   "cell_type": "markdown",
   "id": "bb4b99a4",
   "metadata": {},
   "source": [
    "## **Sentiment Analysis**"
   ]
  },
  {
   "cell_type": "markdown",
   "id": "505107a1",
   "metadata": {},
   "source": [
    "## Importing Libraries"
   ]
  },
  {
   "cell_type": "code",
   "execution_count": 115,
   "id": "61b9d7a9",
   "metadata": {},
   "outputs": [],
   "source": [
    "import pandas as pd\n",
    "import numpy as np\n",
    "import os \n",
    "import matplotlib.pyplot as plt\n",
    "import seaborn as sns\n",
    "from sklearn.model_selection import train_test_split, cross_val_score\n",
    "from sklearn.preprocessing import OrdinalEncoder, OneHotEncoder, LabelEncoder\n",
    "from sklearn.metrics import accuracy_score, precision_score, confusion_matrix\n",
    "from sklearn.feature_extraction.text import TfidfVectorizer\n",
    "from sklearn.linear_model import LogisticRegression\n",
    "from sklearn.svm import LinearSVC\n",
    "from sklearn.ensemble import RandomForestClassifier, GradientBoostingClassifier, HistGradientBoostingClassifier\n",
    "from sklearn.naive_bayes import MultinomialNB\n",
    "import kagglehub\n",
    "import re\n",
    "from nltk.corpus import stopwords\n",
    "from nltk.stem.porter import PorterStemmer\n",
    "import warnings\n",
    "warnings.filterwarnings('ignore')"
   ]
  },
  {
   "cell_type": "markdown",
   "id": "6f066827",
   "metadata": {},
   "source": [
    "## Importing Data 1"
   ]
  },
  {
   "cell_type": "code",
   "execution_count": 116,
   "id": "65222d27",
   "metadata": {},
   "outputs": [
    {
     "name": "stdout",
     "output_type": "stream",
     "text": [
      "Warning: Looks like you're using an outdated `kagglehub` version (installed: 0.3.12), please consider upgrading to the latest version (0.3.13).\n",
      "Path to dataset files: C:\\Users\\Maddox\\.cache\\kagglehub\\datasets\\abhi8923shriv\\sentiment-analysis-dataset\\versions\\9\n"
     ]
    }
   ],
   "source": [
    "path = kagglehub.dataset_download(\"abhi8923shriv/sentiment-analysis-dataset\")\n",
    "\n",
    "print(\"Path to dataset files:\", path)"
   ]
  },
  {
   "cell_type": "code",
   "execution_count": 117,
   "id": "6a26c665",
   "metadata": {},
   "outputs": [
    {
     "data": {
      "text/plain": [
       "['test.csv',\n",
       " 'testdata.manual.2009.06.14.csv',\n",
       " 'train.csv',\n",
       " 'training.1600000.processed.noemoticon.csv']"
      ]
     },
     "execution_count": 117,
     "metadata": {},
     "output_type": "execute_result"
    }
   ],
   "source": [
    "import os\n",
    "files = os.listdir(path)\n",
    "files"
   ]
  },
  {
   "cell_type": "code",
   "execution_count": 118,
   "id": "5e92307d",
   "metadata": {},
   "outputs": [
    {
     "data": {
      "text/plain": [
       "'C:\\\\Users\\\\Maddox\\\\.cache\\\\kagglehub\\\\datasets\\\\abhi8923shriv\\\\sentiment-analysis-dataset\\\\versions\\\\9/test.csv'"
      ]
     },
     "metadata": {},
     "output_type": "display_data"
    }
   ],
   "source": [
    "path1=path+'/'+files[0]\n",
    "path2=path+'/'+files[1]\n",
    "path3=path+'/'+files[2]\n",
    "path4=path+'/'+files[3]\n",
    "display(path1)"
   ]
  },
  {
   "cell_type": "code",
   "execution_count": 119,
   "id": "fcdc3444",
   "metadata": {},
   "outputs": [],
   "source": [
    "import pandas as pd\n",
    "df1 = pd.read_csv(path1, encoding=\"iso-8859-1\")"
   ]
  },
  {
   "cell_type": "code",
   "execution_count": 120,
   "id": "d792d5bf",
   "metadata": {},
   "outputs": [
    {
     "data": {
      "text/html": [
       "<div>\n",
       "<style scoped>\n",
       "    .dataframe tbody tr th:only-of-type {\n",
       "        vertical-align: middle;\n",
       "    }\n",
       "\n",
       "    .dataframe tbody tr th {\n",
       "        vertical-align: top;\n",
       "    }\n",
       "\n",
       "    .dataframe thead th {\n",
       "        text-align: right;\n",
       "    }\n",
       "</style>\n",
       "<table border=\"1\" class=\"dataframe\">\n",
       "  <thead>\n",
       "    <tr style=\"text-align: right;\">\n",
       "      <th></th>\n",
       "      <th>textID</th>\n",
       "      <th>text</th>\n",
       "      <th>sentiment</th>\n",
       "      <th>Time of Tweet</th>\n",
       "      <th>Age of User</th>\n",
       "      <th>Country</th>\n",
       "      <th>Population -2020</th>\n",
       "      <th>Land Area (Km²)</th>\n",
       "      <th>Density (P/Km²)</th>\n",
       "    </tr>\n",
       "  </thead>\n",
       "  <tbody>\n",
       "    <tr>\n",
       "      <th>4293</th>\n",
       "      <td>NaN</td>\n",
       "      <td>NaN</td>\n",
       "      <td>NaN</td>\n",
       "      <td>NaN</td>\n",
       "      <td>NaN</td>\n",
       "      <td>NaN</td>\n",
       "      <td>NaN</td>\n",
       "      <td>NaN</td>\n",
       "      <td>NaN</td>\n",
       "    </tr>\n",
       "    <tr>\n",
       "      <th>4291</th>\n",
       "      <td>NaN</td>\n",
       "      <td>NaN</td>\n",
       "      <td>NaN</td>\n",
       "      <td>NaN</td>\n",
       "      <td>NaN</td>\n",
       "      <td>NaN</td>\n",
       "      <td>NaN</td>\n",
       "      <td>NaN</td>\n",
       "      <td>NaN</td>\n",
       "    </tr>\n",
       "    <tr>\n",
       "      <th>4165</th>\n",
       "      <td>NaN</td>\n",
       "      <td>NaN</td>\n",
       "      <td>NaN</td>\n",
       "      <td>NaN</td>\n",
       "      <td>NaN</td>\n",
       "      <td>NaN</td>\n",
       "      <td>NaN</td>\n",
       "      <td>NaN</td>\n",
       "      <td>NaN</td>\n",
       "    </tr>\n",
       "    <tr>\n",
       "      <th>213</th>\n",
       "      <td>a172818c9e</td>\n",
       "      <td>misses my Mom today. She was my Best Friend an...</td>\n",
       "      <td>positive</td>\n",
       "      <td>morning</td>\n",
       "      <td>46-60</td>\n",
       "      <td>Benin</td>\n",
       "      <td>12123200.0</td>\n",
       "      <td>112760.0</td>\n",
       "      <td>108.0</td>\n",
       "    </tr>\n",
       "    <tr>\n",
       "      <th>4454</th>\n",
       "      <td>NaN</td>\n",
       "      <td>NaN</td>\n",
       "      <td>NaN</td>\n",
       "      <td>NaN</td>\n",
       "      <td>NaN</td>\n",
       "      <td>NaN</td>\n",
       "      <td>NaN</td>\n",
       "      <td>NaN</td>\n",
       "      <td>NaN</td>\n",
       "    </tr>\n",
       "  </tbody>\n",
       "</table>\n",
       "</div>"
      ],
      "text/plain": [
       "          textID                                               text sentiment  \\\n",
       "4293         NaN                                                NaN       NaN   \n",
       "4291         NaN                                                NaN       NaN   \n",
       "4165         NaN                                                NaN       NaN   \n",
       "213   a172818c9e  misses my Mom today. She was my Best Friend an...  positive   \n",
       "4454         NaN                                                NaN       NaN   \n",
       "\n",
       "     Time of Tweet Age of User Country  Population -2020  Land Area (Km²)  \\\n",
       "4293           NaN         NaN     NaN               NaN              NaN   \n",
       "4291           NaN         NaN     NaN               NaN              NaN   \n",
       "4165           NaN         NaN     NaN               NaN              NaN   \n",
       "213        morning       46-60   Benin        12123200.0         112760.0   \n",
       "4454           NaN         NaN     NaN               NaN              NaN   \n",
       "\n",
       "      Density (P/Km²)  \n",
       "4293              NaN  \n",
       "4291              NaN  \n",
       "4165              NaN  \n",
       "213             108.0  \n",
       "4454              NaN  "
      ]
     },
     "metadata": {},
     "output_type": "display_data"
    },
    {
     "data": {
      "text/plain": [
       "(4815, 9)"
      ]
     },
     "metadata": {},
     "output_type": "display_data"
    },
    {
     "data": {
      "text/plain": [
       "Index(['textID', 'text', 'sentiment', 'Time of Tweet', 'Age of User',\n",
       "       'Country', 'Population -2020', 'Land Area (Km²)', 'Density (P/Km²)'],\n",
       "      dtype='object')"
      ]
     },
     "metadata": {},
     "output_type": "display_data"
    },
    {
     "name": "stdout",
     "output_type": "stream",
     "text": [
      "<class 'pandas.core.frame.DataFrame'>\n",
      "RangeIndex: 4815 entries, 0 to 4814\n",
      "Data columns (total 9 columns):\n",
      " #   Column            Non-Null Count  Dtype  \n",
      "---  ------            --------------  -----  \n",
      " 0   textID            3534 non-null   object \n",
      " 1   text              3534 non-null   object \n",
      " 2   sentiment         3534 non-null   object \n",
      " 3   Time of Tweet     3534 non-null   object \n",
      " 4   Age of User       3534 non-null   object \n",
      " 5   Country           3534 non-null   object \n",
      " 6   Population -2020  3534 non-null   float64\n",
      " 7   Land Area (Km²)   3534 non-null   float64\n",
      " 8   Density (P/Km²)   3534 non-null   float64\n",
      "dtypes: float64(3), object(6)\n",
      "memory usage: 338.7+ KB\n"
     ]
    },
    {
     "data": {
      "text/plain": [
       "None"
      ]
     },
     "metadata": {},
     "output_type": "display_data"
    }
   ],
   "source": [
    "display(df1.sample(5))\n",
    "display(df1.shape)\n",
    "display(df1.columns)\n",
    "display(df1.info())\n"
   ]
  },
  {
   "cell_type": "code",
   "execution_count": 121,
   "id": "3a56f448",
   "metadata": {},
   "outputs": [
    {
     "data": {
      "text/html": [
       "<div>\n",
       "<style scoped>\n",
       "    .dataframe tbody tr th:only-of-type {\n",
       "        vertical-align: middle;\n",
       "    }\n",
       "\n",
       "    .dataframe tbody tr th {\n",
       "        vertical-align: top;\n",
       "    }\n",
       "\n",
       "    .dataframe thead th {\n",
       "        text-align: right;\n",
       "    }\n",
       "</style>\n",
       "<table border=\"1\" class=\"dataframe\">\n",
       "  <thead>\n",
       "    <tr style=\"text-align: right;\">\n",
       "      <th></th>\n",
       "      <th>4</th>\n",
       "      <th>3</th>\n",
       "      <th>Mon May 11 03:17:40 UTC 2009</th>\n",
       "      <th>kindle2</th>\n",
       "      <th>tpryan</th>\n",
       "      <th>@stellargirl I loooooooovvvvvveee my Kindle2. Not that the DX is cool, but the 2 is fantastic in its own right.</th>\n",
       "    </tr>\n",
       "  </thead>\n",
       "  <tbody>\n",
       "    <tr>\n",
       "      <th>220</th>\n",
       "      <td>0</td>\n",
       "      <td>588</td>\n",
       "      <td>Mon Jun 08 06:55:01 UTC 2009</td>\n",
       "      <td>car warranty call</td>\n",
       "      <td>painhatelove</td>\n",
       "      <td>@KarrisFoxy If you're being harassed by calls ...</td>\n",
       "    </tr>\n",
       "    <tr>\n",
       "      <th>390</th>\n",
       "      <td>0</td>\n",
       "      <td>2385</td>\n",
       "      <td>Tue Jun 02 03:16:42 UTC 2009</td>\n",
       "      <td>time warner</td>\n",
       "      <td>dcwhip</td>\n",
       "      <td>could time-warner cable suck more?  NO.</td>\n",
       "    </tr>\n",
       "  </tbody>\n",
       "</table>\n",
       "</div>"
      ],
      "text/plain": [
       "     4     3  Mon May 11 03:17:40 UTC 2009            kindle2        tpryan  \\\n",
       "220  0   588  Mon Jun 08 06:55:01 UTC 2009  car warranty call  painhatelove   \n",
       "390  0  2385  Tue Jun 02 03:16:42 UTC 2009        time warner        dcwhip   \n",
       "\n",
       "    @stellargirl I loooooooovvvvvveee my Kindle2. Not that the DX is cool, but the 2 is fantastic in its own right.  \n",
       "220  @KarrisFoxy If you're being harassed by calls ...                                                               \n",
       "390            could time-warner cable suck more?  NO.                                                               "
      ]
     },
     "metadata": {},
     "output_type": "display_data"
    },
    {
     "data": {
      "text/plain": [
       "(515, 6)"
      ]
     },
     "metadata": {},
     "output_type": "display_data"
    },
    {
     "name": "stdout",
     "output_type": "stream",
     "text": [
      "<class 'pandas.core.frame.DataFrame'>\n",
      "RangeIndex: 515 entries, 0 to 514\n",
      "Data columns (total 6 columns):\n",
      " #   Column                                                                                                           Non-Null Count  Dtype \n",
      "---  ------                                                                                                           --------------  ----- \n",
      " 0   4                                                                                                                515 non-null    int64 \n",
      " 1   3                                                                                                                515 non-null    int64 \n",
      " 2   Mon May 11 03:17:40 UTC 2009                                                                                     515 non-null    object\n",
      " 3   kindle2                                                                                                          515 non-null    object\n",
      " 4   tpryan                                                                                                           515 non-null    object\n",
      " 5   @stellargirl I loooooooovvvvvveee my Kindle2. Not that the DX is cool, but the 2 is fantastic in its own right.  515 non-null    object\n",
      "dtypes: int64(2), object(4)\n",
      "memory usage: 24.3+ KB\n"
     ]
    },
    {
     "data": {
      "text/plain": [
       "None"
      ]
     },
     "metadata": {},
     "output_type": "display_data"
    }
   ],
   "source": [
    "df2 = pd.read_csv(path2, encoding='utf-8')\n",
    "display(df2.sample(2))\n",
    "display(df2.shape)\n",
    "display(df2.info())"
   ]
  },
  {
   "cell_type": "code",
   "execution_count": 122,
   "id": "1e5ddbfc",
   "metadata": {},
   "outputs": [
    {
     "data": {
      "text/html": [
       "<div>\n",
       "<style scoped>\n",
       "    .dataframe tbody tr th:only-of-type {\n",
       "        vertical-align: middle;\n",
       "    }\n",
       "\n",
       "    .dataframe tbody tr th {\n",
       "        vertical-align: top;\n",
       "    }\n",
       "\n",
       "    .dataframe thead th {\n",
       "        text-align: right;\n",
       "    }\n",
       "</style>\n",
       "<table border=\"1\" class=\"dataframe\">\n",
       "  <thead>\n",
       "    <tr style=\"text-align: right;\">\n",
       "      <th></th>\n",
       "      <th>textID</th>\n",
       "      <th>text</th>\n",
       "      <th>selected_text</th>\n",
       "      <th>sentiment</th>\n",
       "      <th>Time of Tweet</th>\n",
       "      <th>Age of User</th>\n",
       "      <th>Country</th>\n",
       "      <th>Population -2020</th>\n",
       "      <th>Land Area (Km²)</th>\n",
       "      <th>Density (P/Km²)</th>\n",
       "    </tr>\n",
       "  </thead>\n",
       "  <tbody>\n",
       "    <tr>\n",
       "      <th>20607</th>\n",
       "      <td>b973c046be</td>\n",
       "      <td>really wants to go see the script in NY in aug...</td>\n",
       "      <td>but no one will go with me</td>\n",
       "      <td>negative</td>\n",
       "      <td>morning</td>\n",
       "      <td>46-60</td>\n",
       "      <td>Yemen</td>\n",
       "      <td>29825964</td>\n",
       "      <td>527970.0</td>\n",
       "      <td>56</td>\n",
       "    </tr>\n",
       "    <tr>\n",
       "      <th>3831</th>\n",
       "      <td>8584428904</td>\n",
       "      <td>Now that`s a very nice way to fall asleep.</td>\n",
       "      <td>nice</td>\n",
       "      <td>positive</td>\n",
       "      <td>morning</td>\n",
       "      <td>46-60</td>\n",
       "      <td>Guinea</td>\n",
       "      <td>13132795</td>\n",
       "      <td>246000.0</td>\n",
       "      <td>53</td>\n",
       "    </tr>\n",
       "    <tr>\n",
       "      <th>23110</th>\n",
       "      <td>9710662c1d</td>\n",
       "      <td>I`m sick!  it sucks! IM me! ohbabayy33</td>\n",
       "      <td>I`m sick!  it sucks!</td>\n",
       "      <td>negative</td>\n",
       "      <td>noon</td>\n",
       "      <td>60-70</td>\n",
       "      <td>Malaysia</td>\n",
       "      <td>32365999</td>\n",
       "      <td>328550.0</td>\n",
       "      <td>99</td>\n",
       "    </tr>\n",
       "    <tr>\n",
       "      <th>4488</th>\n",
       "      <td>33537ffd4d</td>\n",
       "      <td>is excited to see Samantha&amp;Denise again  http:...</td>\n",
       "      <td>excited</td>\n",
       "      <td>positive</td>\n",
       "      <td>morning</td>\n",
       "      <td>0-20</td>\n",
       "      <td>Belarus</td>\n",
       "      <td>9449323</td>\n",
       "      <td>202910.0</td>\n",
       "      <td>47</td>\n",
       "    </tr>\n",
       "    <tr>\n",
       "      <th>13416</th>\n",
       "      <td>3dbc0f7847</td>\n",
       "      <td>but i love your haaaaair!</td>\n",
       "      <td>i love</td>\n",
       "      <td>positive</td>\n",
       "      <td>morning</td>\n",
       "      <td>0-20</td>\n",
       "      <td>Greece</td>\n",
       "      <td>10423054</td>\n",
       "      <td>128900.0</td>\n",
       "      <td>81</td>\n",
       "    </tr>\n",
       "  </tbody>\n",
       "</table>\n",
       "</div>"
      ],
      "text/plain": [
       "           textID                                               text  \\\n",
       "20607  b973c046be  really wants to go see the script in NY in aug...   \n",
       "3831   8584428904         Now that`s a very nice way to fall asleep.   \n",
       "23110  9710662c1d             I`m sick!  it sucks! IM me! ohbabayy33   \n",
       "4488   33537ffd4d  is excited to see Samantha&Denise again  http:...   \n",
       "13416  3dbc0f7847                          but i love your haaaaair!   \n",
       "\n",
       "                    selected_text sentiment Time of Tweet Age of User  \\\n",
       "20607  but no one will go with me  negative       morning       46-60   \n",
       "3831                         nice  positive       morning       46-60   \n",
       "23110        I`m sick!  it sucks!  negative          noon       60-70   \n",
       "4488                      excited  positive       morning        0-20   \n",
       "13416                      i love  positive       morning        0-20   \n",
       "\n",
       "        Country  Population -2020  Land Area (Km²)  Density (P/Km²)  \n",
       "20607     Yemen          29825964         527970.0               56  \n",
       "3831     Guinea          13132795         246000.0               53  \n",
       "23110  Malaysia          32365999         328550.0               99  \n",
       "4488    Belarus           9449323         202910.0               47  \n",
       "13416    Greece          10423054         128900.0               81  "
      ]
     },
     "metadata": {},
     "output_type": "display_data"
    },
    {
     "data": {
      "text/plain": [
       "(27481, 10)"
      ]
     },
     "metadata": {},
     "output_type": "display_data"
    },
    {
     "data": {
      "text/plain": [
       "Index(['textID', 'text', 'selected_text', 'sentiment', 'Time of Tweet',\n",
       "       'Age of User', 'Country', 'Population -2020', 'Land Area (Km²)',\n",
       "       'Density (P/Km²)'],\n",
       "      dtype='object')"
      ]
     },
     "metadata": {},
     "output_type": "display_data"
    },
    {
     "name": "stdout",
     "output_type": "stream",
     "text": [
      "<class 'pandas.core.frame.DataFrame'>\n",
      "RangeIndex: 27481 entries, 0 to 27480\n",
      "Data columns (total 10 columns):\n",
      " #   Column            Non-Null Count  Dtype  \n",
      "---  ------            --------------  -----  \n",
      " 0   textID            27481 non-null  object \n",
      " 1   text              27480 non-null  object \n",
      " 2   selected_text     27480 non-null  object \n",
      " 3   sentiment         27481 non-null  object \n",
      " 4   Time of Tweet     27481 non-null  object \n",
      " 5   Age of User       27481 non-null  object \n",
      " 6   Country           27481 non-null  object \n",
      " 7   Population -2020  27481 non-null  int64  \n",
      " 8   Land Area (Km²)   27481 non-null  float64\n",
      " 9   Density (P/Km²)   27481 non-null  int64  \n",
      "dtypes: float64(1), int64(2), object(7)\n",
      "memory usage: 2.1+ MB\n"
     ]
    },
    {
     "data": {
      "text/plain": [
       "None"
      ]
     },
     "metadata": {},
     "output_type": "display_data"
    }
   ],
   "source": [
    "df3 = pd.read_csv(path3, encoding=\"iso-8859-1\")\n",
    "display(df3.sample(5))\n",
    "display(df3.shape)\n",
    "display(df3.columns)\n",
    "display(df3.info())"
   ]
  },
  {
   "cell_type": "code",
   "execution_count": 123,
   "id": "a5609f4a",
   "metadata": {},
   "outputs": [
    {
     "data": {
      "text/html": [
       "<div>\n",
       "<style scoped>\n",
       "    .dataframe tbody tr th:only-of-type {\n",
       "        vertical-align: middle;\n",
       "    }\n",
       "\n",
       "    .dataframe tbody tr th {\n",
       "        vertical-align: top;\n",
       "    }\n",
       "\n",
       "    .dataframe thead th {\n",
       "        text-align: right;\n",
       "    }\n",
       "</style>\n",
       "<table border=\"1\" class=\"dataframe\">\n",
       "  <thead>\n",
       "    <tr style=\"text-align: right;\">\n",
       "      <th></th>\n",
       "      <th>polarity of tweet</th>\n",
       "      <th>id of the tweet</th>\n",
       "      <th>date of the tweet</th>\n",
       "      <th>query</th>\n",
       "      <th>user</th>\n",
       "      <th>text of the tweet</th>\n",
       "    </tr>\n",
       "  </thead>\n",
       "  <tbody>\n",
       "    <tr>\n",
       "      <th>736643</th>\n",
       "      <td>0</td>\n",
       "      <td>2265055608</td>\n",
       "      <td>Sun Jun 21 05:40:23 PDT 2009</td>\n",
       "      <td>NO_QUERY</td>\n",
       "      <td>laposeidon</td>\n",
       "      <td>my whole body is aching... didnt thought the ...</td>\n",
       "    </tr>\n",
       "    <tr>\n",
       "      <th>204624</th>\n",
       "      <td>0</td>\n",
       "      <td>1972665596</td>\n",
       "      <td>Sat May 30 09:39:18 PDT 2009</td>\n",
       "      <td>NO_QUERY</td>\n",
       "      <td>philt13</td>\n",
       "      <td>is watching the babarians on tv digital txt, o...</td>\n",
       "    </tr>\n",
       "    <tr>\n",
       "      <th>837742</th>\n",
       "      <td>4</td>\n",
       "      <td>1558855874</td>\n",
       "      <td>Sun Apr 19 09:35:26 PDT 2009</td>\n",
       "      <td>NO_QUERY</td>\n",
       "      <td>itsmatthewryan</td>\n",
       "      <td>Showerrr.</td>\n",
       "    </tr>\n",
       "    <tr>\n",
       "      <th>242736</th>\n",
       "      <td>0</td>\n",
       "      <td>1981381534</td>\n",
       "      <td>Sun May 31 09:02:01 PDT 2009</td>\n",
       "      <td>NO_QUERY</td>\n",
       "      <td>portsidetwd</td>\n",
       "      <td>What happened? Massive cloud blotted out the s...</td>\n",
       "    </tr>\n",
       "    <tr>\n",
       "      <th>214042</th>\n",
       "      <td>0</td>\n",
       "      <td>1975144274</td>\n",
       "      <td>Sat May 30 14:32:20 PDT 2009</td>\n",
       "      <td>NO_QUERY</td>\n",
       "      <td>mayapeep</td>\n",
       "      <td>I want to come home</td>\n",
       "    </tr>\n",
       "  </tbody>\n",
       "</table>\n",
       "</div>"
      ],
      "text/plain": [
       "        polarity of tweet   id of the tweet             date of the tweet  \\\n",
       "736643                   0       2265055608  Sun Jun 21 05:40:23 PDT 2009   \n",
       "204624                   0       1972665596  Sat May 30 09:39:18 PDT 2009   \n",
       "837742                   4       1558855874  Sun Apr 19 09:35:26 PDT 2009   \n",
       "242736                   0       1981381534  Sun May 31 09:02:01 PDT 2009   \n",
       "214042                   0       1975144274  Sat May 30 14:32:20 PDT 2009   \n",
       "\n",
       "           query            user  \\\n",
       "736643  NO_QUERY      laposeidon   \n",
       "204624  NO_QUERY         philt13   \n",
       "837742  NO_QUERY  itsmatthewryan   \n",
       "242736  NO_QUERY     portsidetwd   \n",
       "214042  NO_QUERY        mayapeep   \n",
       "\n",
       "                                       text of the tweet   \n",
       "736643   my whole body is aching... didnt thought the ...  \n",
       "204624  is watching the babarians on tv digital txt, o...  \n",
       "837742                                         Showerrr.   \n",
       "242736  What happened? Massive cloud blotted out the s...  \n",
       "214042                               I want to come home   "
      ]
     },
     "metadata": {},
     "output_type": "display_data"
    },
    {
     "data": {
      "text/plain": [
       "(1048572, 6)"
      ]
     },
     "metadata": {},
     "output_type": "display_data"
    },
    {
     "data": {
      "text/plain": [
       "Index(['polarity of tweet ', 'id of the tweet', 'date of the tweet', 'query',\n",
       "       'user', 'text of the tweet '],\n",
       "      dtype='object')"
      ]
     },
     "metadata": {},
     "output_type": "display_data"
    },
    {
     "name": "stdout",
     "output_type": "stream",
     "text": [
      "<class 'pandas.core.frame.DataFrame'>\n",
      "RangeIndex: 1048572 entries, 0 to 1048571\n",
      "Data columns (total 6 columns):\n",
      " #   Column              Non-Null Count    Dtype \n",
      "---  ------              --------------    ----- \n",
      " 0   polarity of tweet   1048572 non-null  int64 \n",
      " 1   id of the tweet     1048572 non-null  int64 \n",
      " 2   date of the tweet   1048572 non-null  object\n",
      " 3   query               1048572 non-null  object\n",
      " 4   user                1048572 non-null  object\n",
      " 5   text of the tweet   1048572 non-null  object\n",
      "dtypes: int64(2), object(4)\n",
      "memory usage: 48.0+ MB\n"
     ]
    },
    {
     "data": {
      "text/plain": [
       "None"
      ]
     },
     "metadata": {},
     "output_type": "display_data"
    }
   ],
   "source": [
    "df4 = pd.read_csv(path4, encoding=\"iso-8859-1\")\n",
    "display(df4.sample(5))\n",
    "display(df4.shape)\n",
    "display(df4.columns)\n",
    "display(df4.info())"
   ]
  },
  {
   "cell_type": "markdown",
   "id": "dd2cc446",
   "metadata": {},
   "source": [
    "## Importing Data 2 , 0-negative, 4=positive"
   ]
  },
  {
   "cell_type": "code",
   "execution_count": 124,
   "id": "f028cb5d",
   "metadata": {},
   "outputs": [
    {
     "name": "stdout",
     "output_type": "stream",
     "text": [
      "Warning: Looks like you're using an outdated `kagglehub` version (installed: 0.3.12), please consider upgrading to the latest version (0.3.13).\n",
      "Path to dataset files: C:\\Users\\Maddox\\.cache\\kagglehub\\datasets\\kazanova\\sentiment140\\versions\\2\n"
     ]
    }
   ],
   "source": [
    "path5 = kagglehub.dataset_download(\"kazanova/sentiment140\")\n",
    "\n",
    "print(\"Path to dataset files:\", path5)"
   ]
  },
  {
   "cell_type": "code",
   "execution_count": 125,
   "id": "f5c34edf",
   "metadata": {},
   "outputs": [
    {
     "data": {
      "text/html": [
       "<div>\n",
       "<style scoped>\n",
       "    .dataframe tbody tr th:only-of-type {\n",
       "        vertical-align: middle;\n",
       "    }\n",
       "\n",
       "    .dataframe tbody tr th {\n",
       "        vertical-align: top;\n",
       "    }\n",
       "\n",
       "    .dataframe thead th {\n",
       "        text-align: right;\n",
       "    }\n",
       "</style>\n",
       "<table border=\"1\" class=\"dataframe\">\n",
       "  <thead>\n",
       "    <tr style=\"text-align: right;\">\n",
       "      <th></th>\n",
       "      <th>0</th>\n",
       "      <th>1467810369</th>\n",
       "      <th>Mon Apr 06 22:19:45 PDT 2009</th>\n",
       "      <th>NO_QUERY</th>\n",
       "      <th>_TheSpecialOne_</th>\n",
       "      <th>@switchfoot http://twitpic.com/2y1zl - Awww, that's a bummer.  You shoulda got David Carr of Third Day to do it. ;D</th>\n",
       "    </tr>\n",
       "  </thead>\n",
       "  <tbody>\n",
       "    <tr>\n",
       "      <th>277784</th>\n",
       "      <td>0</td>\n",
       "      <td>1991363708</td>\n",
       "      <td>Mon Jun 01 06:54:16 PDT 2009</td>\n",
       "      <td>NO_QUERY</td>\n",
       "      <td>lilworkerb</td>\n",
       "      <td>I can barely keep my eyes open! The bed is cal...</td>\n",
       "    </tr>\n",
       "    <tr>\n",
       "      <th>229103</th>\n",
       "      <td>0</td>\n",
       "      <td>1978408031</td>\n",
       "      <td>Sat May 30 23:16:00 PDT 2009</td>\n",
       "      <td>NO_QUERY</td>\n",
       "      <td>elabao</td>\n",
       "      <td>So bloody tired from 3 basketball games all in...</td>\n",
       "    </tr>\n",
       "    <tr>\n",
       "      <th>1174039</th>\n",
       "      <td>4</td>\n",
       "      <td>1980885578</td>\n",
       "      <td>Sun May 31 07:55:07 PDT 2009</td>\n",
       "      <td>NO_QUERY</td>\n",
       "      <td>rpalumbo</td>\n",
       "      <td>@max2sky That sucks, you have to love laundry ...</td>\n",
       "    </tr>\n",
       "    <tr>\n",
       "      <th>633739</th>\n",
       "      <td>0</td>\n",
       "      <td>2233097269</td>\n",
       "      <td>Thu Jun 18 20:49:49 PDT 2009</td>\n",
       "      <td>NO_QUERY</td>\n",
       "      <td>lexlex916</td>\n",
       "      <td>i know and i don't want to walk by myself and ...</td>\n",
       "    </tr>\n",
       "    <tr>\n",
       "      <th>871959</th>\n",
       "      <td>4</td>\n",
       "      <td>1678849128</td>\n",
       "      <td>Sat May 02 07:53:16 PDT 2009</td>\n",
       "      <td>NO_QUERY</td>\n",
       "      <td>_amberlovely</td>\n",
       "      <td>@claireyjones yayayayayyy. it's gonna be class...</td>\n",
       "    </tr>\n",
       "  </tbody>\n",
       "</table>\n",
       "</div>"
      ],
      "text/plain": [
       "         0  1467810369  Mon Apr 06 22:19:45 PDT 2009  NO_QUERY  \\\n",
       "277784   0  1991363708  Mon Jun 01 06:54:16 PDT 2009  NO_QUERY   \n",
       "229103   0  1978408031  Sat May 30 23:16:00 PDT 2009  NO_QUERY   \n",
       "1174039  4  1980885578  Sun May 31 07:55:07 PDT 2009  NO_QUERY   \n",
       "633739   0  2233097269  Thu Jun 18 20:49:49 PDT 2009  NO_QUERY   \n",
       "871959   4  1678849128  Sat May 02 07:53:16 PDT 2009  NO_QUERY   \n",
       "\n",
       "        _TheSpecialOne_  \\\n",
       "277784       lilworkerb   \n",
       "229103           elabao   \n",
       "1174039        rpalumbo   \n",
       "633739        lexlex916   \n",
       "871959     _amberlovely   \n",
       "\n",
       "        @switchfoot http://twitpic.com/2y1zl - Awww, that's a bummer.  You shoulda got David Carr of Third Day to do it. ;D  \n",
       "277784   I can barely keep my eyes open! The bed is cal...                                                                   \n",
       "229103   So bloody tired from 3 basketball games all in...                                                                   \n",
       "1174039  @max2sky That sucks, you have to love laundry ...                                                                   \n",
       "633739   i know and i don't want to walk by myself and ...                                                                   \n",
       "871959   @claireyjones yayayayayyy. it's gonna be class...                                                                   "
      ]
     },
     "metadata": {},
     "output_type": "display_data"
    },
    {
     "data": {
      "text/plain": [
       "(1599999, 6)"
      ]
     },
     "metadata": {},
     "output_type": "display_data"
    },
    {
     "data": {
      "text/plain": [
       "Index(['0', '1467810369', 'Mon Apr 06 22:19:45 PDT 2009', 'NO_QUERY',\n",
       "       '_TheSpecialOne_',\n",
       "       '@switchfoot http://twitpic.com/2y1zl - Awww, that's a bummer.  You shoulda got David Carr of Third Day to do it. ;D'],\n",
       "      dtype='object')"
      ]
     },
     "metadata": {},
     "output_type": "display_data"
    },
    {
     "name": "stdout",
     "output_type": "stream",
     "text": [
      "<class 'pandas.core.frame.DataFrame'>\n",
      "RangeIndex: 1599999 entries, 0 to 1599998\n",
      "Data columns (total 6 columns):\n",
      " #   Column                                                                                                               Non-Null Count    Dtype \n",
      "---  ------                                                                                                               --------------    ----- \n",
      " 0   0                                                                                                                    1599999 non-null  int64 \n",
      " 1   1467810369                                                                                                           1599999 non-null  int64 \n",
      " 2   Mon Apr 06 22:19:45 PDT 2009                                                                                         1599999 non-null  object\n",
      " 3   NO_QUERY                                                                                                             1599999 non-null  object\n",
      " 4   _TheSpecialOne_                                                                                                      1599999 non-null  object\n",
      " 5   @switchfoot http://twitpic.com/2y1zl - Awww, that's a bummer.  You shoulda got David Carr of Third Day to do it. ;D  1599999 non-null  object\n",
      "dtypes: int64(2), object(4)\n",
      "memory usage: 73.2+ MB\n"
     ]
    },
    {
     "data": {
      "text/plain": [
       "None"
      ]
     },
     "metadata": {},
     "output_type": "display_data"
    }
   ],
   "source": [
    "fullpath=path5+'/'+os.listdir(path5)[0]\n",
    "fullpath\n",
    "df5 = pd.read_csv(fullpath, encoding=\"iso-8859-1\")\n",
    "display(df5.sample(5))\n",
    "display(df5.shape)\n",
    "display(df5.columns)\n",
    "display(df5.info())"
   ]
  },
  {
   "cell_type": "code",
   "execution_count": 126,
   "id": "6c4d0a50",
   "metadata": {},
   "outputs": [
    {
     "data": {
      "text/html": [
       "<div>\n",
       "<style scoped>\n",
       "    .dataframe tbody tr th:only-of-type {\n",
       "        vertical-align: middle;\n",
       "    }\n",
       "\n",
       "    .dataframe tbody tr th {\n",
       "        vertical-align: top;\n",
       "    }\n",
       "\n",
       "    .dataframe thead th {\n",
       "        text-align: right;\n",
       "    }\n",
       "</style>\n",
       "<table border=\"1\" class=\"dataframe\">\n",
       "  <thead>\n",
       "    <tr style=\"text-align: right;\">\n",
       "      <th></th>\n",
       "      <th>target</th>\n",
       "      <th>id</th>\n",
       "      <th>date</th>\n",
       "      <th>flag</th>\n",
       "      <th>user</th>\n",
       "      <th>text</th>\n",
       "    </tr>\n",
       "  </thead>\n",
       "  <tbody>\n",
       "    <tr>\n",
       "      <th>666714</th>\n",
       "      <td>0</td>\n",
       "      <td>2245375100</td>\n",
       "      <td>Fri Jun 19 16:02:37 PDT 2009</td>\n",
       "      <td>NO_QUERY</td>\n",
       "      <td>Tj_pinkgurl</td>\n",
       "      <td>Biggest headache in the world</td>\n",
       "    </tr>\n",
       "  </tbody>\n",
       "</table>\n",
       "</div>"
      ],
      "text/plain": [
       "        target          id                          date      flag  \\\n",
       "666714       0  2245375100  Fri Jun 19 16:02:37 PDT 2009  NO_QUERY   \n",
       "\n",
       "               user                            text  \n",
       "666714  Tj_pinkgurl  Biggest headache in the world   "
      ]
     },
     "metadata": {},
     "output_type": "display_data"
    }
   ],
   "source": [
    "#renaming columns\n",
    "cols=['target','id','date', 'flag', 'user','text']\n",
    "df5 = pd.read_csv(fullpath, names=cols, encoding=\"iso-8859-1\")\n",
    "df_data=df5\n",
    "display(df_data.sample())"
   ]
  },
  {
   "cell_type": "code",
   "execution_count": 127,
   "id": "98dcf04d",
   "metadata": {},
   "outputs": [
    {
     "name": "stderr",
     "output_type": "stream",
     "text": [
      "[nltk_data] Downloading package stopwords to\n",
      "[nltk_data]     C:\\Users\\Maddox\\AppData\\Roaming\\nltk_data...\n",
      "[nltk_data]   Package stopwords is already up-to-date!\n"
     ]
    },
    {
     "data": {
      "text/plain": [
       "True"
      ]
     },
     "execution_count": 127,
     "metadata": {},
     "output_type": "execute_result"
    }
   ],
   "source": [
    "import nltk\n",
    "nltk.download('stopwords')"
   ]
  },
  {
   "cell_type": "code",
   "execution_count": 128,
   "id": "0ef97cbd",
   "metadata": {},
   "outputs": [
    {
     "name": "stdout",
     "output_type": "stream",
     "text": [
      "['a', 'about', 'above', 'after', 'again', 'against', 'ain', 'all', 'am', 'an', 'and', 'any', 'are', 'aren', \"aren't\", 'as', 'at', 'be', 'because', 'been', 'before', 'being', 'below', 'between', 'both', 'but', 'by', 'can', 'couldn', \"couldn't\", 'd', 'did', 'didn', \"didn't\", 'do', 'does', 'doesn', \"doesn't\", 'doing', 'don', \"don't\", 'down', 'during', 'each', 'few', 'for', 'from', 'further', 'had', 'hadn', \"hadn't\", 'has', 'hasn', \"hasn't\", 'have', 'haven', \"haven't\", 'having', 'he', \"he'd\", \"he'll\", 'her', 'here', 'hers', 'herself', \"he's\", 'him', 'himself', 'his', 'how', 'i', \"i'd\", 'if', \"i'll\", \"i'm\", 'in', 'into', 'is', 'isn', \"isn't\", 'it', \"it'd\", \"it'll\", \"it's\", 'its', 'itself', \"i've\", 'just', 'll', 'm', 'ma', 'me', 'mightn', \"mightn't\", 'more', 'most', 'mustn', \"mustn't\", 'my', 'myself', 'needn', \"needn't\", 'no', 'nor', 'not', 'now', 'o', 'of', 'off', 'on', 'once', 'only', 'or', 'other', 'our', 'ours', 'ourselves', 'out', 'over', 'own', 're', 's', 'same', 'shan', \"shan't\", 'she', \"she'd\", \"she'll\", \"she's\", 'should', 'shouldn', \"shouldn't\", \"should've\", 'so', 'some', 'such', 't', 'than', 'that', \"that'll\", 'the', 'their', 'theirs', 'them', 'themselves', 'then', 'there', 'these', 'they', \"they'd\", \"they'll\", \"they're\", \"they've\", 'this', 'those', 'through', 'to', 'too', 'under', 'until', 'up', 've', 'very', 'was', 'wasn', \"wasn't\", 'we', \"we'd\", \"we'll\", \"we're\", 'were', 'weren', \"weren't\", \"we've\", 'what', 'when', 'where', 'which', 'while', 'who', 'whom', 'why', 'will', 'with', 'won', \"won't\", 'wouldn', \"wouldn't\", 'y', 'you', \"you'd\", \"you'll\", 'your', \"you're\", 'yours', 'yourself', 'yourselves', \"you've\"]\n"
     ]
    }
   ],
   "source": [
    "#we can remove these words\n",
    "print(stopwords.words('english')) #These words will not add any context to understand(for ML model)"
   ]
  },
  {
   "cell_type": "markdown",
   "id": "49872631",
   "metadata": {},
   "source": [
    "## EDA"
   ]
  },
  {
   "cell_type": "code",
   "execution_count": 129,
   "id": "358d9e7d",
   "metadata": {},
   "outputs": [
    {
     "data": {
      "text/plain": [
       "target    0\n",
       "id        0\n",
       "date      0\n",
       "flag      0\n",
       "user      0\n",
       "text      0\n",
       "dtype: int64"
      ]
     },
     "execution_count": 129,
     "metadata": {},
     "output_type": "execute_result"
    }
   ],
   "source": [
    "df_data.isnull().sum()"
   ]
  },
  {
   "cell_type": "code",
   "execution_count": null,
   "id": "e2654923",
   "metadata": {},
   "outputs": [
    {
     "data": {
      "text/plain": [
       "<Axes: >"
      ]
     },
     "execution_count": 130,
     "metadata": {},
     "output_type": "execute_result"
    },
    {
     "data": {
      "image/png": "[encoded data removed]",
      "text/plain": [
       "<Figure size 640x480 with 1 Axes>"
      ]
     },
     "metadata": {},
     "output_type": "display_data"
    }
   ],
   "source": [
    "#visualize missing values for all columns\n",
    "sns.heatmap(df_data.isna(), cbar=False)"
   ]
  },
  {
   "cell_type": "code",
   "execution_count": 131,
   "id": "5e044fc7",
   "metadata": {},
   "outputs": [
    {
     "data": {
      "text/plain": [
       "np.int64(0)"
      ]
     },
     "execution_count": 131,
     "metadata": {},
     "output_type": "execute_result"
    }
   ],
   "source": [
    "df_data.duplicated().sum()"
   ]
  },
  {
   "cell_type": "code",
   "execution_count": 132,
   "id": "c391d1f7",
   "metadata": {},
   "outputs": [
    {
     "name": "stdout",
     "output_type": "stream",
     "text": [
      "number of unique values in the dataset:\n",
      "target : 2\n",
      "id : 1598315\n",
      "date : 774363\n",
      "flag : 1\n",
      "user : 659775\n",
      "text : 1581466\n"
     ]
    },
    {
     "data": {
      "text/plain": [
       "target\n",
       "0    800000\n",
       "4    800000\n",
       "Name: count, dtype: int64"
      ]
     },
     "metadata": {},
     "output_type": "display_data"
    },
    {
     "data": {
      "text/plain": [
       "flag\n",
       "NO_QUERY    1600000\n",
       "Name: count, dtype: int64"
      ]
     },
     "metadata": {},
     "output_type": "display_data"
    }
   ],
   "source": [
    "print(\"number of unique values in the dataset:\")\n",
    "for i in cols:\n",
    "    print(f'{i} : {df_data[i].value_counts().count()}')\n",
    "display(df_data['target'].value_counts())\n",
    "display(df_data['flag'].value_counts())"
   ]
  },
  {
   "cell_type": "markdown",
   "id": "ee6dc8bc",
   "metadata": {},
   "source": [
    "lets just change the label from 4 -> 1"
   ]
  },
  {
   "cell_type": "code",
   "execution_count": null,
   "id": "e60a8c56",
   "metadata": {},
   "outputs": [],
   "source": [
    "df_data['target']=df_data['target'].replace(4,1)"
   ]
  },
  {
   "cell_type": "code",
   "execution_count": 136,
   "id": "cd6e1e60",
   "metadata": {},
   "outputs": [
    {
     "data": {
      "text/plain": [
       "target\n",
       "0    800000\n",
       "1    800000\n",
       "Name: count, dtype: int64"
      ]
     },
     "execution_count": 136,
     "metadata": {},
     "output_type": "execute_result"
    }
   ],
   "source": [
    "df_data['target'].value_counts()"
   ]
  },
  {
   "cell_type": "markdown",
   "id": "39eaef69",
   "metadata": {},
   "source": [
    "removing flag,user,id column because there in nothing in there which is relevent to outr project"
   ]
  },
  {
   "cell_type": "code",
   "execution_count": 134,
   "id": "ba7193ac",
   "metadata": {},
   "outputs": [],
   "source": [
    "df_data=df_data.drop('flag', axis=1)"
   ]
  },
  {
   "cell_type": "code",
   "execution_count": 135,
   "id": "c15a9225",
   "metadata": {},
   "outputs": [
    {
     "data": {
      "text/html": [
       "<div>\n",
       "<style scoped>\n",
       "    .dataframe tbody tr th:only-of-type {\n",
       "        vertical-align: middle;\n",
       "    }\n",
       "\n",
       "    .dataframe tbody tr th {\n",
       "        vertical-align: top;\n",
       "    }\n",
       "\n",
       "    .dataframe thead th {\n",
       "        text-align: right;\n",
       "    }\n",
       "</style>\n",
       "<table border=\"1\" class=\"dataframe\">\n",
       "  <thead>\n",
       "    <tr style=\"text-align: right;\">\n",
       "      <th></th>\n",
       "      <th>target</th>\n",
       "      <th>id</th>\n",
       "      <th>date</th>\n",
       "      <th>user</th>\n",
       "      <th>text</th>\n",
       "    </tr>\n",
       "  </thead>\n",
       "  <tbody>\n",
       "    <tr>\n",
       "      <th>1497922</th>\n",
       "      <td>1</td>\n",
       "      <td>2070468950</td>\n",
       "      <td>Sun Jun 07 17:45:02 PDT 2009</td>\n",
       "      <td>howtobehuge</td>\n",
       "      <td>@Kevin_Lately I agree but try telling HIM that...</td>\n",
       "    </tr>\n",
       "  </tbody>\n",
       "</table>\n",
       "</div>"
      ],
      "text/plain": [
       "         target          id                          date         user  \\\n",
       "1497922       1  2070468950  Sun Jun 07 17:45:02 PDT 2009  howtobehuge   \n",
       "\n",
       "                                                      text  \n",
       "1497922  @Kevin_Lately I agree but try telling HIM that...  "
      ]
     },
     "metadata": {},
     "output_type": "display_data"
    },
    {
     "data": {
      "text/plain": [
       "Index(['target', 'id', 'date', 'user', 'text'], dtype='object')"
      ]
     },
     "execution_count": 135,
     "metadata": {},
     "output_type": "execute_result"
    }
   ],
   "source": [
    "display(df_data.sample())\n",
    "df_data.columns"
   ]
  },
  {
   "cell_type": "markdown",
   "id": "3178efd4",
   "metadata": {},
   "source": [
    "## Stemming\n",
    "just removing stopwords, keep the keywords for classification"
   ]
  },
  {
   "cell_type": "code",
   "execution_count": null,
   "id": "069494c4",
   "metadata": {},
   "outputs": [],
   "source": [
    "port_stem=PorterStemmer"
   ]
  }
 ],
 "metadata": {
  "kernelspec": {
   "display_name": "myenv (3.13.5)",
   "language": "python",
   "name": "python3"
  },
  "language_info": {
   "codemirror_mode": {
    "name": "ipython",
    "version": 3
   },
   "file_extension": ".py",
   "mimetype": "text/x-python",
   "name": "python",
   "nbconvert_exporter": "python",
   "pygments_lexer": "ipython3",
   "version": "3.13.5"
  }
 },
 "nbformat": 4,
 "nbformat_minor": 5
}
