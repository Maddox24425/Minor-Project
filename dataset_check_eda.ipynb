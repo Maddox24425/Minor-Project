{
 "cells": [
  {
   "cell_type": "markdown",
   "id": "49144d13",
   "metadata": {},
   "source": [
    "# **Kaggle**"
   ]
  },
  {
   "cell_type": "markdown",
   "id": "a3a4d4e6",
   "metadata": {},
   "source": [
    "### Sentiment Analysis Dataset"
   ]
  },
  {
   "cell_type": "code",
   "execution_count": 80,
   "id": "541cc87f",
   "metadata": {},
   "outputs": [
    {
     "name": "stdout",
     "output_type": "stream",
     "text": [
      "Warning: Looks like you're using an outdated `kagglehub` version (installed: 0.3.12), please consider upgrading to the latest version (0.3.13).\n",
      "Path to dataset files: C:\\Users\\Maddox\\.cache\\kagglehub\\datasets\\abhi8923shriv\\sentiment-analysis-dataset\\versions\\9\n"
     ]
    }
   ],
   "source": [
    "import kagglehub\n",
    "\n",
    "# Download latest version\n",
    "path = kagglehub.dataset_download(\"abhi8923shriv/sentiment-analysis-dataset\")\n",
    "\n",
    "print(\"Path to dataset files:\", path)"
   ]
  },
  {
   "cell_type": "code",
   "execution_count": 81,
   "id": "322eaa23",
   "metadata": {},
   "outputs": [
    {
     "data": {
      "text/plain": [
       "['test.csv',\n",
       " 'testdata.manual.2009.06.14.csv',\n",
       " 'train.csv',\n",
       " 'training.1600000.processed.noemoticon.csv']"
      ]
     },
     "execution_count": 81,
     "metadata": {},
     "output_type": "execute_result"
    }
   ],
   "source": [
    "import os\n",
    "files = os.listdir(path)\n",
    "files"
   ]
  },
  {
   "cell_type": "code",
   "execution_count": 82,
   "id": "953e7d2c",
   "metadata": {},
   "outputs": [
    {
     "data": {
      "text/plain": [
       "'C:\\\\Users\\\\Maddox\\\\.cache\\\\kagglehub\\\\datasets\\\\abhi8923shriv\\\\sentiment-analysis-dataset\\\\versions\\\\9/test.csv'"
      ]
     },
     "metadata": {},
     "output_type": "display_data"
    }
   ],
   "source": [
    "path1=path+'/'+files[0]\n",
    "path2=path+'/'+files[1]\n",
    "path3=path+'/'+files[2]\n",
    "path4=path+'/'+files[3]\n",
    "display(path1)"
   ]
  },
  {
   "cell_type": "code",
   "execution_count": 83,
   "id": "4d819863",
   "metadata": {},
   "outputs": [],
   "source": [
    "import pandas as pd\n",
    "df1 = pd.read_csv(path2, encoding='utf-8')"
   ]
  },
  {
   "cell_type": "code",
   "execution_count": 84,
   "id": "176093d0",
   "metadata": {},
   "outputs": [
    {
     "data": {
      "application/vnd.microsoft.datawrangler.viewer.v0+json": {
       "columns": [
        {
         "name": "index",
         "rawType": "int64",
         "type": "integer"
        },
        {
         "name": "4",
         "rawType": "int64",
         "type": "integer"
        },
        {
         "name": "3",
         "rawType": "int64",
         "type": "integer"
        },
        {
         "name": "Mon May 11 03:17:40 UTC 2009",
         "rawType": "object",
         "type": "string"
        },
        {
         "name": "kindle2",
         "rawType": "object",
         "type": "string"
        },
        {
         "name": "tpryan",
         "rawType": "object",
         "type": "string"
        },
        {
         "name": "@stellargirl I loooooooovvvvvveee my Kindle2. Not that the DX is cool, but the 2 is fantastic in its own right.",
         "rawType": "object",
         "type": "string"
        }
       ],
       "ref": "481c86d1-5c7a-46eb-b0bd-afa1e56fe585",
       "rows": [
        [
         "138",
         "0",
         "403",
         "Tue Jun 02 03:02:17 UTC 2009",
         "gm",
         "misschris62",
         "Tell me again why we are giving more $$ to GM?? We should use that $ for all the programs that support the unemployed."
        ],
        [
         "23",
         "4",
         "33",
         "Mon May 11 19:47:29 UTC 2009",
         "visa",
         "DreambigRadio",
         "good news, just had a call from the Visa office, saying everything is fine.....what a relief! I am sick of scams out there! Stealing!"
        ],
        [
         "426",
         "2",
         "2422",
         "Tue Jun 02 06:53:15 UTC 2009",
         "eating",
         "face_of_boe",
         "Lounging around, eating Taco Bell and watching NCIS before work tonight. Need help staying awake."
        ],
        [
         "340",
         "4",
         "2193",
         "Mon May 25 17:31:52 UTC 2009",
         "exam",
         "xKimmelie",
         "my exam went good. @HelloLeonie: your prayers worked (:"
        ],
        [
         "176",
         "2",
         "441",
         "Tue Jun 02 04:41:03 UTC 2009",
         "safeway",
         "evan",
         "Did not realize there is a gym above Safeway!"
        ]
       ],
       "shape": {
        "columns": 6,
        "rows": 5
       }
      },
      "text/html": [
       "<div>\n",
       "<style scoped>\n",
       "    .dataframe tbody tr th:only-of-type {\n",
       "        vertical-align: middle;\n",
       "    }\n",
       "\n",
       "    .dataframe tbody tr th {\n",
       "        vertical-align: top;\n",
       "    }\n",
       "\n",
       "    .dataframe thead th {\n",
       "        text-align: right;\n",
       "    }\n",
       "</style>\n",
       "<table border=\"1\" class=\"dataframe\">\n",
       "  <thead>\n",
       "    <tr style=\"text-align: right;\">\n",
       "      <th></th>\n",
       "      <th>4</th>\n",
       "      <th>3</th>\n",
       "      <th>Mon May 11 03:17:40 UTC 2009</th>\n",
       "      <th>kindle2</th>\n",
       "      <th>tpryan</th>\n",
       "      <th>@stellargirl I loooooooovvvvvveee my Kindle2. Not that the DX is cool, but the 2 is fantastic in its own right.</th>\n",
       "    </tr>\n",
       "  </thead>\n",
       "  <tbody>\n",
       "    <tr>\n",
       "      <th>138</th>\n",
       "      <td>0</td>\n",
       "      <td>403</td>\n",
       "      <td>Tue Jun 02 03:02:17 UTC 2009</td>\n",
       "      <td>gm</td>\n",
       "      <td>misschris62</td>\n",
       "      <td>Tell me again why we are giving more $$ to GM?...</td>\n",
       "    </tr>\n",
       "    <tr>\n",
       "      <th>23</th>\n",
       "      <td>4</td>\n",
       "      <td>33</td>\n",
       "      <td>Mon May 11 19:47:29 UTC 2009</td>\n",
       "      <td>visa</td>\n",
       "      <td>DreambigRadio</td>\n",
       "      <td>good news, just had a call from the Visa offic...</td>\n",
       "    </tr>\n",
       "    <tr>\n",
       "      <th>426</th>\n",
       "      <td>2</td>\n",
       "      <td>2422</td>\n",
       "      <td>Tue Jun 02 06:53:15 UTC 2009</td>\n",
       "      <td>eating</td>\n",
       "      <td>face_of_boe</td>\n",
       "      <td>Lounging around, eating Taco Bell and watching...</td>\n",
       "    </tr>\n",
       "    <tr>\n",
       "      <th>340</th>\n",
       "      <td>4</td>\n",
       "      <td>2193</td>\n",
       "      <td>Mon May 25 17:31:52 UTC 2009</td>\n",
       "      <td>exam</td>\n",
       "      <td>xKimmelie</td>\n",
       "      <td>my exam went good. @HelloLeonie: your prayers ...</td>\n",
       "    </tr>\n",
       "    <tr>\n",
       "      <th>176</th>\n",
       "      <td>2</td>\n",
       "      <td>441</td>\n",
       "      <td>Tue Jun 02 04:41:03 UTC 2009</td>\n",
       "      <td>safeway</td>\n",
       "      <td>evan</td>\n",
       "      <td>Did not realize there is a gym above Safeway!</td>\n",
       "    </tr>\n",
       "  </tbody>\n",
       "</table>\n",
       "</div>"
      ],
      "text/plain": [
       "     4     3  Mon May 11 03:17:40 UTC 2009  kindle2         tpryan  \\\n",
       "138  0   403  Tue Jun 02 03:02:17 UTC 2009       gm    misschris62   \n",
       "23   4    33  Mon May 11 19:47:29 UTC 2009     visa  DreambigRadio   \n",
       "426  2  2422  Tue Jun 02 06:53:15 UTC 2009   eating    face_of_boe   \n",
       "340  4  2193  Mon May 25 17:31:52 UTC 2009     exam      xKimmelie   \n",
       "176  2   441  Tue Jun 02 04:41:03 UTC 2009  safeway           evan   \n",
       "\n",
       "    @stellargirl I loooooooovvvvvveee my Kindle2. Not that the DX is cool, but the 2 is fantastic in its own right.  \n",
       "138  Tell me again why we are giving more $$ to GM?...                                                               \n",
       "23   good news, just had a call from the Visa offic...                                                               \n",
       "426  Lounging around, eating Taco Bell and watching...                                                               \n",
       "340  my exam went good. @HelloLeonie: your prayers ...                                                               \n",
       "176      Did not realize there is a gym above Safeway!                                                               "
      ]
     },
     "metadata": {},
     "output_type": "display_data"
    },
    {
     "data": {
      "text/plain": [
       "(515, 6)"
      ]
     },
     "metadata": {},
     "output_type": "display_data"
    },
    {
     "data": {
      "text/plain": [
       "Index(['4', '3', 'Mon May 11 03:17:40 UTC 2009', 'kindle2', 'tpryan',\n",
       "       '@stellargirl I loooooooovvvvvveee my Kindle2. Not that the DX is cool, but the 2 is fantastic in its own right.'],\n",
       "      dtype='object')"
      ]
     },
     "metadata": {},
     "output_type": "display_data"
    },
    {
     "name": "stdout",
     "output_type": "stream",
     "text": [
      "<class 'pandas.core.frame.DataFrame'>\n",
      "RangeIndex: 515 entries, 0 to 514\n",
      "Data columns (total 6 columns):\n",
      " #   Column                                                                                                           Non-Null Count  Dtype \n",
      "---  ------                                                                                                           --------------  ----- \n",
      " 0   4                                                                                                                515 non-null    int64 \n",
      " 1   3                                                                                                                515 non-null    int64 \n",
      " 2   Mon May 11 03:17:40 UTC 2009                                                                                     515 non-null    object\n",
      " 3   kindle2                                                                                                          515 non-null    object\n",
      " 4   tpryan                                                                                                           515 non-null    object\n",
      " 5   @stellargirl I loooooooovvvvvveee my Kindle2. Not that the DX is cool, but the 2 is fantastic in its own right.  515 non-null    object\n",
      "dtypes: int64(2), object(4)\n",
      "memory usage: 24.3+ KB\n"
     ]
    },
    {
     "data": {
      "text/plain": [
       "None"
      ]
     },
     "metadata": {},
     "output_type": "display_data"
    }
   ],
   "source": [
    "display(df1.sample(5))\n",
    "display(df1.shape)\n",
    "display(df1.columns)\n",
    "display(df1.info())\n"
   ]
  },
  {
   "cell_type": "code",
   "execution_count": 85,
   "id": "a5c6507a",
   "metadata": {},
   "outputs": [
    {
     "data": {
      "application/vnd.microsoft.datawrangler.viewer.v0+json": {
       "columns": [
        {
         "name": "index",
         "rawType": "int64",
         "type": "integer"
        },
        {
         "name": "textID",
         "rawType": "object",
         "type": "string"
        },
        {
         "name": "text",
         "rawType": "object",
         "type": "string"
        },
        {
         "name": "sentiment",
         "rawType": "object",
         "type": "string"
        },
        {
         "name": "Time of Tweet",
         "rawType": "object",
         "type": "string"
        },
        {
         "name": "Age of User",
         "rawType": "object",
         "type": "string"
        },
        {
         "name": "Country",
         "rawType": "object",
         "type": "string"
        },
        {
         "name": "Population -2020",
         "rawType": "float64",
         "type": "float"
        },
        {
         "name": "Land Area (Km²)",
         "rawType": "float64",
         "type": "float"
        },
        {
         "name": "Density (P/Km²)",
         "rawType": "float64",
         "type": "float"
        }
       ],
       "ref": "c3b60624-6df1-409b-9668-5e1be7db2590",
       "rows": [
        [
         "2195",
         "0e4bcb3a52",
         "Happy Mother`s day VALK!!",
         "positive",
         "night",
         "31-45",
         "Antigua and Barbuda",
         "97929.0",
         "440.0",
         "223.0"
        ],
        [
         "378",
         "33bb4fcc72",
         " Why thank you... Us Mami`s are bringin` sexy back...",
         "positive",
         "morning",
         "0-20",
         "Ukraine",
         "43733762.0",
         "579320.0",
         "75.0"
        ]
       ],
       "shape": {
        "columns": 9,
        "rows": 2
       }
      },
      "text/html": [
       "<div>\n",
       "<style scoped>\n",
       "    .dataframe tbody tr th:only-of-type {\n",
       "        vertical-align: middle;\n",
       "    }\n",
       "\n",
       "    .dataframe tbody tr th {\n",
       "        vertical-align: top;\n",
       "    }\n",
       "\n",
       "    .dataframe thead th {\n",
       "        text-align: right;\n",
       "    }\n",
       "</style>\n",
       "<table border=\"1\" class=\"dataframe\">\n",
       "  <thead>\n",
       "    <tr style=\"text-align: right;\">\n",
       "      <th></th>\n",
       "      <th>textID</th>\n",
       "      <th>text</th>\n",
       "      <th>sentiment</th>\n",
       "      <th>Time of Tweet</th>\n",
       "      <th>Age of User</th>\n",
       "      <th>Country</th>\n",
       "      <th>Population -2020</th>\n",
       "      <th>Land Area (Km²)</th>\n",
       "      <th>Density (P/Km²)</th>\n",
       "    </tr>\n",
       "  </thead>\n",
       "  <tbody>\n",
       "    <tr>\n",
       "      <th>2195</th>\n",
       "      <td>0e4bcb3a52</td>\n",
       "      <td>Happy Mother`s day VALK!!</td>\n",
       "      <td>positive</td>\n",
       "      <td>night</td>\n",
       "      <td>31-45</td>\n",
       "      <td>Antigua and Barbuda</td>\n",
       "      <td>97929.0</td>\n",
       "      <td>440.0</td>\n",
       "      <td>223.0</td>\n",
       "    </tr>\n",
       "    <tr>\n",
       "      <th>378</th>\n",
       "      <td>33bb4fcc72</td>\n",
       "      <td>Why thank you... Us Mami`s are bringin` sexy ...</td>\n",
       "      <td>positive</td>\n",
       "      <td>morning</td>\n",
       "      <td>0-20</td>\n",
       "      <td>Ukraine</td>\n",
       "      <td>43733762.0</td>\n",
       "      <td>579320.0</td>\n",
       "      <td>75.0</td>\n",
       "    </tr>\n",
       "  </tbody>\n",
       "</table>\n",
       "</div>"
      ],
      "text/plain": [
       "          textID                                               text sentiment  \\\n",
       "2195  0e4bcb3a52                          Happy Mother`s day VALK!!  positive   \n",
       "378   33bb4fcc72   Why thank you... Us Mami`s are bringin` sexy ...  positive   \n",
       "\n",
       "     Time of Tweet Age of User              Country  Population -2020  \\\n",
       "2195         night       31-45  Antigua and Barbuda           97929.0   \n",
       "378        morning        0-20              Ukraine        43733762.0   \n",
       "\n",
       "      Land Area (Km²)  Density (P/Km²)  \n",
       "2195            440.0            223.0  \n",
       "378          579320.0             75.0  "
      ]
     },
     "metadata": {},
     "output_type": "display_data"
    },
    {
     "data": {
      "text/plain": [
       "(4815, 9)"
      ]
     },
     "metadata": {},
     "output_type": "display_data"
    },
    {
     "name": "stdout",
     "output_type": "stream",
     "text": [
      "<class 'pandas.core.frame.DataFrame'>\n",
      "RangeIndex: 4815 entries, 0 to 4814\n",
      "Data columns (total 9 columns):\n",
      " #   Column            Non-Null Count  Dtype  \n",
      "---  ------            --------------  -----  \n",
      " 0   textID            3534 non-null   object \n",
      " 1   text              3534 non-null   object \n",
      " 2   sentiment         3534 non-null   object \n",
      " 3   Time of Tweet     3534 non-null   object \n",
      " 4   Age of User       3534 non-null   object \n",
      " 5   Country           3534 non-null   object \n",
      " 6   Population -2020  3534 non-null   float64\n",
      " 7   Land Area (Km²)   3534 non-null   float64\n",
      " 8   Density (P/Km²)   3534 non-null   float64\n",
      "dtypes: float64(3), object(6)\n",
      "memory usage: 338.7+ KB\n"
     ]
    },
    {
     "data": {
      "text/plain": [
       "None"
      ]
     },
     "metadata": {},
     "output_type": "display_data"
    }
   ],
   "source": [
    "df2 = pd.read_csv(path1, encoding=\"iso-8859-1\")\n",
    "display(df2.sample(2))\n",
    "display(df2.shape)\n",
    "display(df2.info())"
   ]
  },
  {
   "cell_type": "code",
   "execution_count": 86,
   "id": "ce1770b3",
   "metadata": {},
   "outputs": [
    {
     "data": {
      "application/vnd.microsoft.datawrangler.viewer.v0+json": {
       "columns": [
        {
         "name": "index",
         "rawType": "int64",
         "type": "integer"
        },
        {
         "name": "textID",
         "rawType": "object",
         "type": "string"
        },
        {
         "name": "text",
         "rawType": "object",
         "type": "string"
        },
        {
         "name": "selected_text",
         "rawType": "object",
         "type": "string"
        },
        {
         "name": "sentiment",
         "rawType": "object",
         "type": "string"
        },
        {
         "name": "Time of Tweet",
         "rawType": "object",
         "type": "string"
        },
        {
         "name": "Age of User",
         "rawType": "object",
         "type": "string"
        },
        {
         "name": "Country",
         "rawType": "object",
         "type": "string"
        },
        {
         "name": "Population -2020",
         "rawType": "int64",
         "type": "integer"
        },
        {
         "name": "Land Area (Km²)",
         "rawType": "float64",
         "type": "float"
        },
        {
         "name": "Density (P/Km²)",
         "rawType": "int64",
         "type": "integer"
        }
       ],
       "ref": "b530dc99-b2e1-4522-8f00-4f5ed2c0a3f9",
       "rows": [
        [
         "6095",
         "dbe1ee4b3a",
         "once i hit christian in the head with a metal bat! haha he then socked me in the eye! haha i miss being a reckless little kid",
         "once i hit christian in the head with a metal bat! haha he then socked me in the eye! haha i miss being a reckless little kid",
         "negative",
         "night",
         "70-100",
         "Pakistan",
         "220892340",
         "770880.0",
         "287"
        ],
        [
         "15607",
         "016f701c50",
         "Tomorrow is Mother`s Day! What did you get for your moms?! If you don`t have a gift, just tell her that you love her.",
         "Tomorrow is Mother`s Day! What did you get for your moms?! If you don`t have a gift, just tell her that you love her.",
         "positive",
         "noon",
         "21-30",
         "Estonia",
         "1326535",
         "42390.0",
         "31"
        ],
        [
         "26319",
         "57a04920cb",
         " Hey! It`s so funny - I stopped to get a coffee on the way in and spilt half of it in the car!",
         "funny",
         "positive",
         "morning",
         "46-60",
         "Austria",
         "9006398",
         "82400.0",
         "109"
        ],
        [
         "7171",
         "b4f2077ad6",
         "Want to get a Blackberry but can`t afford it  . Just watching the telly and relaxing. Hard sesion tomorrow.",
         "Want to get a Blackberry but can`t afford it  . Just watching the telly and relaxing. Hard sesion tomorrow.",
         "negative",
         "noon",
         "21-30",
         "Malta",
         "441543",
         "320.0",
         "1380"
        ],
        [
         "22509",
         "fac362e16d",
         " so cool! if only i could call! my phone won`t let me calll the number!",
         "cool!",
         "positive",
         "morning",
         "46-60",
         "Kazakhstan",
         "18776707",
         "2699700.0",
         "7"
        ]
       ],
       "shape": {
        "columns": 10,
        "rows": 5
       }
      },
      "text/html": [
       "<div>\n",
       "<style scoped>\n",
       "    .dataframe tbody tr th:only-of-type {\n",
       "        vertical-align: middle;\n",
       "    }\n",
       "\n",
       "    .dataframe tbody tr th {\n",
       "        vertical-align: top;\n",
       "    }\n",
       "\n",
       "    .dataframe thead th {\n",
       "        text-align: right;\n",
       "    }\n",
       "</style>\n",
       "<table border=\"1\" class=\"dataframe\">\n",
       "  <thead>\n",
       "    <tr style=\"text-align: right;\">\n",
       "      <th></th>\n",
       "      <th>textID</th>\n",
       "      <th>text</th>\n",
       "      <th>selected_text</th>\n",
       "      <th>sentiment</th>\n",
       "      <th>Time of Tweet</th>\n",
       "      <th>Age of User</th>\n",
       "      <th>Country</th>\n",
       "      <th>Population -2020</th>\n",
       "      <th>Land Area (Km²)</th>\n",
       "      <th>Density (P/Km²)</th>\n",
       "    </tr>\n",
       "  </thead>\n",
       "  <tbody>\n",
       "    <tr>\n",
       "      <th>6095</th>\n",
       "      <td>dbe1ee4b3a</td>\n",
       "      <td>once i hit christian in the head with a metal ...</td>\n",
       "      <td>once i hit christian in the head with a metal ...</td>\n",
       "      <td>negative</td>\n",
       "      <td>night</td>\n",
       "      <td>70-100</td>\n",
       "      <td>Pakistan</td>\n",
       "      <td>220892340</td>\n",
       "      <td>770880.0</td>\n",
       "      <td>287</td>\n",
       "    </tr>\n",
       "    <tr>\n",
       "      <th>15607</th>\n",
       "      <td>016f701c50</td>\n",
       "      <td>Tomorrow is Mother`s Day! What did you get for...</td>\n",
       "      <td>Tomorrow is Mother`s Day! What did you get for...</td>\n",
       "      <td>positive</td>\n",
       "      <td>noon</td>\n",
       "      <td>21-30</td>\n",
       "      <td>Estonia</td>\n",
       "      <td>1326535</td>\n",
       "      <td>42390.0</td>\n",
       "      <td>31</td>\n",
       "    </tr>\n",
       "    <tr>\n",
       "      <th>26319</th>\n",
       "      <td>57a04920cb</td>\n",
       "      <td>Hey! It`s so funny - I stopped to get a coffe...</td>\n",
       "      <td>funny</td>\n",
       "      <td>positive</td>\n",
       "      <td>morning</td>\n",
       "      <td>46-60</td>\n",
       "      <td>Austria</td>\n",
       "      <td>9006398</td>\n",
       "      <td>82400.0</td>\n",
       "      <td>109</td>\n",
       "    </tr>\n",
       "    <tr>\n",
       "      <th>7171</th>\n",
       "      <td>b4f2077ad6</td>\n",
       "      <td>Want to get a Blackberry but can`t afford it  ...</td>\n",
       "      <td>Want to get a Blackberry but can`t afford it  ...</td>\n",
       "      <td>negative</td>\n",
       "      <td>noon</td>\n",
       "      <td>21-30</td>\n",
       "      <td>Malta</td>\n",
       "      <td>441543</td>\n",
       "      <td>320.0</td>\n",
       "      <td>1380</td>\n",
       "    </tr>\n",
       "    <tr>\n",
       "      <th>22509</th>\n",
       "      <td>fac362e16d</td>\n",
       "      <td>so cool! if only i could call! my phone won`t...</td>\n",
       "      <td>cool!</td>\n",
       "      <td>positive</td>\n",
       "      <td>morning</td>\n",
       "      <td>46-60</td>\n",
       "      <td>Kazakhstan</td>\n",
       "      <td>18776707</td>\n",
       "      <td>2699700.0</td>\n",
       "      <td>7</td>\n",
       "    </tr>\n",
       "  </tbody>\n",
       "</table>\n",
       "</div>"
      ],
      "text/plain": [
       "           textID                                               text  \\\n",
       "6095   dbe1ee4b3a  once i hit christian in the head with a metal ...   \n",
       "15607  016f701c50  Tomorrow is Mother`s Day! What did you get for...   \n",
       "26319  57a04920cb   Hey! It`s so funny - I stopped to get a coffe...   \n",
       "7171   b4f2077ad6  Want to get a Blackberry but can`t afford it  ...   \n",
       "22509  fac362e16d   so cool! if only i could call! my phone won`t...   \n",
       "\n",
       "                                           selected_text sentiment  \\\n",
       "6095   once i hit christian in the head with a metal ...  negative   \n",
       "15607  Tomorrow is Mother`s Day! What did you get for...  positive   \n",
       "26319                                              funny  positive   \n",
       "7171   Want to get a Blackberry but can`t afford it  ...  negative   \n",
       "22509                                              cool!  positive   \n",
       "\n",
       "      Time of Tweet Age of User     Country  Population -2020  \\\n",
       "6095          night      70-100    Pakistan         220892340   \n",
       "15607          noon       21-30     Estonia           1326535   \n",
       "26319       morning       46-60     Austria           9006398   \n",
       "7171           noon       21-30       Malta            441543   \n",
       "22509       morning       46-60  Kazakhstan          18776707   \n",
       "\n",
       "       Land Area (Km²)  Density (P/Km²)  \n",
       "6095          770880.0              287  \n",
       "15607          42390.0               31  \n",
       "26319          82400.0              109  \n",
       "7171             320.0             1380  \n",
       "22509        2699700.0                7  "
      ]
     },
     "metadata": {},
     "output_type": "display_data"
    },
    {
     "data": {
      "text/plain": [
       "(27481, 10)"
      ]
     },
     "metadata": {},
     "output_type": "display_data"
    },
    {
     "data": {
      "text/plain": [
       "Index(['textID', 'text', 'selected_text', 'sentiment', 'Time of Tweet',\n",
       "       'Age of User', 'Country', 'Population -2020', 'Land Area (Km²)',\n",
       "       'Density (P/Km²)'],\n",
       "      dtype='object')"
      ]
     },
     "metadata": {},
     "output_type": "display_data"
    },
    {
     "name": "stdout",
     "output_type": "stream",
     "text": [
      "<class 'pandas.core.frame.DataFrame'>\n",
      "RangeIndex: 27481 entries, 0 to 27480\n",
      "Data columns (total 10 columns):\n",
      " #   Column            Non-Null Count  Dtype  \n",
      "---  ------            --------------  -----  \n",
      " 0   textID            27481 non-null  object \n",
      " 1   text              27480 non-null  object \n",
      " 2   selected_text     27480 non-null  object \n",
      " 3   sentiment         27481 non-null  object \n",
      " 4   Time of Tweet     27481 non-null  object \n",
      " 5   Age of User       27481 non-null  object \n",
      " 6   Country           27481 non-null  object \n",
      " 7   Population -2020  27481 non-null  int64  \n",
      " 8   Land Area (Km²)   27481 non-null  float64\n",
      " 9   Density (P/Km²)   27481 non-null  int64  \n",
      "dtypes: float64(1), int64(2), object(7)\n",
      "memory usage: 2.1+ MB\n"
     ]
    },
    {
     "data": {
      "text/plain": [
       "None"
      ]
     },
     "metadata": {},
     "output_type": "display_data"
    }
   ],
   "source": [
    "df3 = pd.read_csv(path3, encoding=\"iso-8859-1\")\n",
    "display(df3.sample(5))\n",
    "display(df3.shape)\n",
    "display(df3.columns)\n",
    "display(df3.info())"
   ]
  },
  {
   "cell_type": "code",
   "execution_count": 87,
   "id": "04e5d6a8",
   "metadata": {},
   "outputs": [
    {
     "data": {
      "application/vnd.microsoft.datawrangler.viewer.v0+json": {
       "columns": [
        {
         "name": "index",
         "rawType": "int64",
         "type": "integer"
        },
        {
         "name": "polarity of tweet ",
         "rawType": "int64",
         "type": "integer"
        },
        {
         "name": "id of the tweet",
         "rawType": "int64",
         "type": "integer"
        },
        {
         "name": "date of the tweet",
         "rawType": "object",
         "type": "string"
        },
        {
         "name": "query",
         "rawType": "object",
         "type": "string"
        },
        {
         "name": "user",
         "rawType": "object",
         "type": "string"
        },
        {
         "name": "text of the tweet ",
         "rawType": "object",
         "type": "string"
        }
       ],
       "ref": "8f1163af-ef06-4b8f-86d7-98a0e93d1ace",
       "rows": [
        [
         "1028947",
         "4",
         "1932699902",
         "Tue May 26 22:01:21 PDT 2009",
         "NO_QUERY",
         "sarahstutsman",
         "So glad you decided to tweet @callivines  "
        ],
        [
         "223390",
         "0",
         "1977197058",
         "Sat May 30 20:21:11 PDT 2009",
         "NO_QUERY",
         "CollyDolly1",
         "@EIKNARF awwwww  sooo sad sounding!! come out and drink.... that &quot;home alone etc&quot; sounds borderline alcoholic... :-o haha"
        ],
        [
         "63642",
         "0",
         "1687629002",
         "Sun May 03 09:11:31 PDT 2009",
         "NO_QUERY",
         "paintedfaces_x",
         "@oohnoo Its down again "
        ],
        [
         "930444",
         "4",
         "1760344674",
         "Sun May 10 21:17:02 PDT 2009",
         "NO_QUERY",
         "abbeygaill55",
         "@chucktaylor244 yayyy! my bracelet is complete! woohooo  now tomorrow can you help me attach it cause my mom can't figure it out haha"
        ],
        [
         "57519",
         "0",
         "1685684035",
         "Sun May 03 01:33:04 PDT 2009",
         "NO_QUERY",
         "xMyLifesAStoryx",
         "The thunder woke me up   and my power just went out.... Back to sleep i go... And woooow the thunder is LOUD"
        ]
       ],
       "shape": {
        "columns": 6,
        "rows": 5
       }
      },
      "text/html": [
       "<div>\n",
       "<style scoped>\n",
       "    .dataframe tbody tr th:only-of-type {\n",
       "        vertical-align: middle;\n",
       "    }\n",
       "\n",
       "    .dataframe tbody tr th {\n",
       "        vertical-align: top;\n",
       "    }\n",
       "\n",
       "    .dataframe thead th {\n",
       "        text-align: right;\n",
       "    }\n",
       "</style>\n",
       "<table border=\"1\" class=\"dataframe\">\n",
       "  <thead>\n",
       "    <tr style=\"text-align: right;\">\n",
       "      <th></th>\n",
       "      <th>polarity of tweet</th>\n",
       "      <th>id of the tweet</th>\n",
       "      <th>date of the tweet</th>\n",
       "      <th>query</th>\n",
       "      <th>user</th>\n",
       "      <th>text of the tweet</th>\n",
       "    </tr>\n",
       "  </thead>\n",
       "  <tbody>\n",
       "    <tr>\n",
       "      <th>1028947</th>\n",
       "      <td>4</td>\n",
       "      <td>1932699902</td>\n",
       "      <td>Tue May 26 22:01:21 PDT 2009</td>\n",
       "      <td>NO_QUERY</td>\n",
       "      <td>sarahstutsman</td>\n",
       "      <td>So glad you decided to tweet @callivines</td>\n",
       "    </tr>\n",
       "    <tr>\n",
       "      <th>223390</th>\n",
       "      <td>0</td>\n",
       "      <td>1977197058</td>\n",
       "      <td>Sat May 30 20:21:11 PDT 2009</td>\n",
       "      <td>NO_QUERY</td>\n",
       "      <td>CollyDolly1</td>\n",
       "      <td>@EIKNARF awwwww  sooo sad sounding!! come out ...</td>\n",
       "    </tr>\n",
       "    <tr>\n",
       "      <th>63642</th>\n",
       "      <td>0</td>\n",
       "      <td>1687629002</td>\n",
       "      <td>Sun May 03 09:11:31 PDT 2009</td>\n",
       "      <td>NO_QUERY</td>\n",
       "      <td>paintedfaces_x</td>\n",
       "      <td>@oohnoo Its down again</td>\n",
       "    </tr>\n",
       "    <tr>\n",
       "      <th>930444</th>\n",
       "      <td>4</td>\n",
       "      <td>1760344674</td>\n",
       "      <td>Sun May 10 21:17:02 PDT 2009</td>\n",
       "      <td>NO_QUERY</td>\n",
       "      <td>abbeygaill55</td>\n",
       "      <td>@chucktaylor244 yayyy! my bracelet is complete...</td>\n",
       "    </tr>\n",
       "    <tr>\n",
       "      <th>57519</th>\n",
       "      <td>0</td>\n",
       "      <td>1685684035</td>\n",
       "      <td>Sun May 03 01:33:04 PDT 2009</td>\n",
       "      <td>NO_QUERY</td>\n",
       "      <td>xMyLifesAStoryx</td>\n",
       "      <td>The thunder woke me up   and my power just wen...</td>\n",
       "    </tr>\n",
       "  </tbody>\n",
       "</table>\n",
       "</div>"
      ],
      "text/plain": [
       "         polarity of tweet   id of the tweet             date of the tweet  \\\n",
       "1028947                   4       1932699902  Tue May 26 22:01:21 PDT 2009   \n",
       "223390                    0       1977197058  Sat May 30 20:21:11 PDT 2009   \n",
       "63642                     0       1687629002  Sun May 03 09:11:31 PDT 2009   \n",
       "930444                    4       1760344674  Sun May 10 21:17:02 PDT 2009   \n",
       "57519                     0       1685684035  Sun May 03 01:33:04 PDT 2009   \n",
       "\n",
       "            query             user  \\\n",
       "1028947  NO_QUERY    sarahstutsman   \n",
       "223390   NO_QUERY      CollyDolly1   \n",
       "63642    NO_QUERY   paintedfaces_x   \n",
       "930444   NO_QUERY     abbeygaill55   \n",
       "57519    NO_QUERY  xMyLifesAStoryx   \n",
       "\n",
       "                                        text of the tweet   \n",
       "1028947         So glad you decided to tweet @callivines    \n",
       "223390   @EIKNARF awwwww  sooo sad sounding!! come out ...  \n",
       "63642                              @oohnoo Its down again   \n",
       "930444   @chucktaylor244 yayyy! my bracelet is complete...  \n",
       "57519    The thunder woke me up   and my power just wen...  "
      ]
     },
     "metadata": {},
     "output_type": "display_data"
    },
    {
     "data": {
      "text/plain": [
       "(1048572, 6)"
      ]
     },
     "metadata": {},
     "output_type": "display_data"
    },
    {
     "data": {
      "text/plain": [
       "Index(['polarity of tweet ', 'id of the tweet', 'date of the tweet', 'query',\n",
       "       'user', 'text of the tweet '],\n",
       "      dtype='object')"
      ]
     },
     "metadata": {},
     "output_type": "display_data"
    },
    {
     "name": "stdout",
     "output_type": "stream",
     "text": [
      "<class 'pandas.core.frame.DataFrame'>\n",
      "RangeIndex: 1048572 entries, 0 to 1048571\n",
      "Data columns (total 6 columns):\n",
      " #   Column              Non-Null Count    Dtype \n",
      "---  ------              --------------    ----- \n",
      " 0   polarity of tweet   1048572 non-null  int64 \n",
      " 1   id of the tweet     1048572 non-null  int64 \n",
      " 2   date of the tweet   1048572 non-null  object\n",
      " 3   query               1048572 non-null  object\n",
      " 4   user                1048572 non-null  object\n",
      " 5   text of the tweet   1048572 non-null  object\n",
      "dtypes: int64(2), object(4)\n",
      "memory usage: 48.0+ MB\n"
     ]
    },
    {
     "data": {
      "text/plain": [
       "None"
      ]
     },
     "metadata": {},
     "output_type": "display_data"
    }
   ],
   "source": [
    "df4 = pd.read_csv(path4, encoding=\"iso-8859-1\")\n",
    "display(df4.sample(5))\n",
    "display(df4.shape)\n",
    "display(df4.columns)\n",
    "display(df4.info())"
   ]
  },
  {
   "cell_type": "markdown",
   "id": "73909d08",
   "metadata": {},
   "source": [
    "### Social Media Sentiments Analysis Datas"
   ]
  },
  {
   "cell_type": "code",
   "execution_count": 88,
   "id": "437a1cba",
   "metadata": {},
   "outputs": [
    {
     "name": "stdout",
     "output_type": "stream",
     "text": [
      "Warning: Looks like you're using an outdated `kagglehub` version (installed: 0.3.12), please consider upgrading to the latest version (0.3.13).\n",
      "Path to dataset files: C:\\Users\\Maddox\\.cache\\kagglehub\\datasets\\kashishparmar02\\social-media-sentiments-analysis-dataset\\versions\\3\n"
     ]
    }
   ],
   "source": [
    "import kagglehub\n",
    "\n",
    "# Download latest version\n",
    "path = kagglehub.dataset_download(\"kashishparmar02/social-media-sentiments-analysis-dataset\")\n",
    "\n",
    "print(\"Path to dataset files:\", path)"
   ]
  },
  {
   "cell_type": "code",
   "execution_count": 89,
   "id": "77a7681f",
   "metadata": {},
   "outputs": [
    {
     "data": {
      "text/plain": [
       "['sentimentdataset.csv']"
      ]
     },
     "execution_count": 89,
     "metadata": {},
     "output_type": "execute_result"
    }
   ],
   "source": [
    "files = os.listdir(path)\n",
    "files"
   ]
  },
  {
   "cell_type": "code",
   "execution_count": 90,
   "id": "5378fd6d",
   "metadata": {},
   "outputs": [
    {
     "data": {
      "text/plain": [
       "'C:\\\\Users\\\\Maddox\\\\.cache\\\\kagglehub\\\\datasets\\\\kashishparmar02\\\\social-media-sentiments-analysis-dataset\\\\versions\\\\3/sentimentdataset.csv'"
      ]
     },
     "execution_count": 90,
     "metadata": {},
     "output_type": "execute_result"
    }
   ],
   "source": [
    "path5=path+'/'+files[0]\n",
    "path5"
   ]
  },
  {
   "cell_type": "code",
   "execution_count": 91,
   "id": "678aa582",
   "metadata": {},
   "outputs": [
    {
     "data": {
      "text/plain": [
       "(732, 15)"
      ]
     },
     "execution_count": 91,
     "metadata": {},
     "output_type": "execute_result"
    }
   ],
   "source": [
    "df_SM=pd.read_csv(path5)\n",
    "df_SM.shape"
   ]
  },
  {
   "cell_type": "code",
   "execution_count": 92,
   "id": "17f3a261",
   "metadata": {},
   "outputs": [
    {
     "name": "stdout",
     "output_type": "stream",
     "text": [
      "<class 'pandas.core.frame.DataFrame'>\n",
      "RangeIndex: 732 entries, 0 to 731\n",
      "Data columns (total 15 columns):\n",
      " #   Column        Non-Null Count  Dtype  \n",
      "---  ------        --------------  -----  \n",
      " 0   Unnamed: 0.1  732 non-null    int64  \n",
      " 1   Unnamed: 0    732 non-null    int64  \n",
      " 2   Text          732 non-null    object \n",
      " 3   Sentiment     732 non-null    object \n",
      " 4   Timestamp     732 non-null    object \n",
      " 5   User          732 non-null    object \n",
      " 6   Platform      732 non-null    object \n",
      " 7   Hashtags      732 non-null    object \n",
      " 8   Retweets      732 non-null    float64\n",
      " 9   Likes         732 non-null    float64\n",
      " 10  Country       732 non-null    object \n",
      " 11  Year          732 non-null    int64  \n",
      " 12  Month         732 non-null    int64  \n",
      " 13  Day           732 non-null    int64  \n",
      " 14  Hour          732 non-null    int64  \n",
      "dtypes: float64(2), int64(6), object(7)\n",
      "memory usage: 85.9+ KB\n"
     ]
    }
   ],
   "source": [
    "df_SM.info()"
   ]
  },
  {
   "cell_type": "code",
   "execution_count": 93,
   "id": "1ffa5880",
   "metadata": {},
   "outputs": [
    {
     "data": {
      "application/vnd.microsoft.datawrangler.viewer.v0+json": {
       "columns": [
        {
         "name": "index",
         "rawType": "int64",
         "type": "integer"
        },
        {
         "name": "Unnamed: 0.1",
         "rawType": "int64",
         "type": "integer"
        },
        {
         "name": "Unnamed: 0",
         "rawType": "int64",
         "type": "integer"
        },
        {
         "name": "Text",
         "rawType": "object",
         "type": "string"
        },
        {
         "name": "Sentiment",
         "rawType": "object",
         "type": "string"
        },
        {
         "name": "Timestamp",
         "rawType": "object",
         "type": "string"
        },
        {
         "name": "User",
         "rawType": "object",
         "type": "string"
        },
        {
         "name": "Platform",
         "rawType": "object",
         "type": "string"
        },
        {
         "name": "Hashtags",
         "rawType": "object",
         "type": "string"
        },
        {
         "name": "Retweets",
         "rawType": "float64",
         "type": "float"
        },
        {
         "name": "Likes",
         "rawType": "float64",
         "type": "float"
        },
        {
         "name": "Country",
         "rawType": "object",
         "type": "string"
        },
        {
         "name": "Year",
         "rawType": "int64",
         "type": "integer"
        },
        {
         "name": "Month",
         "rawType": "int64",
         "type": "integer"
        },
        {
         "name": "Day",
         "rawType": "int64",
         "type": "integer"
        },
        {
         "name": "Hour",
         "rawType": "int64",
         "type": "integer"
        }
       ],
       "ref": "d5a13369-40d8-463c-bc71-139899e9976c",
       "rows": [
        [
         "91",
         "92",
         "94",
         " Overflowing adoration for a cute rescue puppy! 🐶       ",
         " Adoration    ",
         "2023-02-26 10:45:00",
         " PuppyAdmirer    ",
         " Twitter  ",
         " #Adoration #PuppyLove                       ",
         "22.0",
         "45.0",
         " UK         ",
         "2023",
         "2",
         "26",
         "10"
        ],
        [
         "601",
         "602",
         "606",
         "Started a blog about random thoughts and musings. Blogging is the new diary. #BloggerLife #TeenBlogger ",
         " Curiosity ",
         "2023-06-10 17:30:00",
         " ThoughtfulBlogger ",
         " Twitter ",
         " #BloggingJourney #TeenThoughts ",
         "30.0",
         "60.0",
         " Canada",
         "2023",
         "6",
         "10",
         "17"
        ]
       ],
       "shape": {
        "columns": 15,
        "rows": 2
       }
      },
      "text/html": [
       "<div>\n",
       "<style scoped>\n",
       "    .dataframe tbody tr th:only-of-type {\n",
       "        vertical-align: middle;\n",
       "    }\n",
       "\n",
       "    .dataframe tbody tr th {\n",
       "        vertical-align: top;\n",
       "    }\n",
       "\n",
       "    .dataframe thead th {\n",
       "        text-align: right;\n",
       "    }\n",
       "</style>\n",
       "<table border=\"1\" class=\"dataframe\">\n",
       "  <thead>\n",
       "    <tr style=\"text-align: right;\">\n",
       "      <th></th>\n",
       "      <th>Unnamed: 0.1</th>\n",
       "      <th>Unnamed: 0</th>\n",
       "      <th>Text</th>\n",
       "      <th>Sentiment</th>\n",
       "      <th>Timestamp</th>\n",
       "      <th>User</th>\n",
       "      <th>Platform</th>\n",
       "      <th>Hashtags</th>\n",
       "      <th>Retweets</th>\n",
       "      <th>Likes</th>\n",
       "      <th>Country</th>\n",
       "      <th>Year</th>\n",
       "      <th>Month</th>\n",
       "      <th>Day</th>\n",
       "      <th>Hour</th>\n",
       "    </tr>\n",
       "  </thead>\n",
       "  <tbody>\n",
       "    <tr>\n",
       "      <th>91</th>\n",
       "      <td>92</td>\n",
       "      <td>94</td>\n",
       "      <td>Overflowing adoration for a cute rescue puppy...</td>\n",
       "      <td>Adoration</td>\n",
       "      <td>2023-02-26 10:45:00</td>\n",
       "      <td>PuppyAdmirer</td>\n",
       "      <td>Twitter</td>\n",
       "      <td>#Adoration #PuppyLove</td>\n",
       "      <td>22.0</td>\n",
       "      <td>45.0</td>\n",
       "      <td>UK</td>\n",
       "      <td>2023</td>\n",
       "      <td>2</td>\n",
       "      <td>26</td>\n",
       "      <td>10</td>\n",
       "    </tr>\n",
       "    <tr>\n",
       "      <th>601</th>\n",
       "      <td>602</td>\n",
       "      <td>606</td>\n",
       "      <td>Started a blog about random thoughts and musin...</td>\n",
       "      <td>Curiosity</td>\n",
       "      <td>2023-06-10 17:30:00</td>\n",
       "      <td>ThoughtfulBlogger</td>\n",
       "      <td>Twitter</td>\n",
       "      <td>#BloggingJourney #TeenThoughts</td>\n",
       "      <td>30.0</td>\n",
       "      <td>60.0</td>\n",
       "      <td>Canada</td>\n",
       "      <td>2023</td>\n",
       "      <td>6</td>\n",
       "      <td>10</td>\n",
       "      <td>17</td>\n",
       "    </tr>\n",
       "  </tbody>\n",
       "</table>\n",
       "</div>"
      ],
      "text/plain": [
       "     Unnamed: 0.1  Unnamed: 0  \\\n",
       "91             92          94   \n",
       "601           602         606   \n",
       "\n",
       "                                                  Text       Sentiment  \\\n",
       "91    Overflowing adoration for a cute rescue puppy...   Adoration       \n",
       "601  Started a blog about random thoughts and musin...      Curiosity    \n",
       "\n",
       "               Timestamp                 User    Platform  \\\n",
       "91   2023-02-26 10:45:00     PuppyAdmirer       Twitter     \n",
       "601  2023-06-10 17:30:00   ThoughtfulBlogger     Twitter    \n",
       "\n",
       "                                          Hashtags  Retweets  Likes  \\\n",
       "91    #Adoration #PuppyLove                             22.0   45.0   \n",
       "601                #BloggingJourney #TeenThoughts       30.0   60.0   \n",
       "\n",
       "          Country  Year  Month  Day  Hour  \n",
       "91    UK           2023      2   26    10  \n",
       "601        Canada  2023      6   10    17  "
      ]
     },
     "execution_count": 93,
     "metadata": {},
     "output_type": "execute_result"
    }
   ],
   "source": [
    "df_SM.sample(2)"
   ]
  },
  {
   "cell_type": "code",
   "execution_count": 94,
   "id": "42e58309",
   "metadata": {},
   "outputs": [
    {
     "data": {
      "application/vnd.microsoft.datawrangler.viewer.v0+json": {
       "columns": [
        {
         "name": "Sentiment",
         "rawType": "object",
         "type": "string"
        },
        {
         "name": "count",
         "rawType": "int64",
         "type": "integer"
        }
       ],
       "ref": "c62fa389-1f60-4bb9-a8f9-df511e970391",
       "rows": [
        [
         " Positive  ",
         "44"
        ],
        [
         " Joy ",
         "42"
        ],
        [
         " Excitement ",
         "32"
        ],
        [
         " Happy ",
         "14"
        ],
        [
         " Neutral ",
         "14"
        ],
        [
         " Contentment ",
         "14"
        ],
        [
         " Gratitude ",
         "9"
        ],
        [
         " Hopeful ",
         "9"
        ],
        [
         " Sad ",
         "9"
        ],
        [
         " Curiosity ",
         "8"
        ],
        [
         " Embarrassed ",
         "8"
        ],
        [
         " Loneliness ",
         "7"
        ],
        [
         " Elation       ",
         "6"
        ],
        [
         " Despair ",
         "6"
        ],
        [
         " Playful ",
         "6"
        ],
        [
         " Bad ",
         "6"
        ],
        [
         " Hate ",
         "6"
        ],
        [
         " Serenity      ",
         "5"
        ],
        [
         " Gratitude     ",
         "5"
        ],
        [
         " Contentment   ",
         "5"
        ],
        [
         " Empowerment   ",
         "5"
        ],
        [
         " Confusion       ",
         "5"
        ],
        [
         " Numbness        ",
         "5"
        ],
        [
         " Melancholy      ",
         "5"
        ],
        [
         " Nostalgia       ",
         "5"
        ],
        [
         " Ambivalence     ",
         "5"
        ],
        [
         " Indifference    ",
         "5"
        ],
        [
         " Curiosity       ",
         "5"
        ],
        [
         " Determination   ",
         "5"
        ],
        [
         " Inspired ",
         "5"
        ],
        [
         " Frustrated ",
         "5"
        ],
        [
         " Serenity        ",
         "5"
        ],
        [
         " Acceptance      ",
         "5"
        ],
        [
         " Enthusiasm    ",
         "5"
        ],
        [
         " Bitterness ",
         "5"
        ],
        [
         " Negative  ",
         "4"
        ],
        [
         " Neutral   ",
         "4"
        ],
        [
         " Nostalgia ",
         "4"
        ],
        [
         " Desolation ",
         "4"
        ],
        [
         " Grief ",
         "4"
        ],
        [
         " Betrayal ",
         "4"
        ],
        [
         " Excitement   ",
         "4"
        ],
        [
         " Awe ",
         "4"
        ],
        [
         " Hope          ",
         "4"
        ],
        [
         " Euphoria      ",
         "4"
        ],
        [
         " Grateful ",
         "4"
        ],
        [
         " Proud ",
         "4"
        ],
        [
         " Serenity ",
         "4"
        ],
        [
         " Compassionate ",
         "4"
        ],
        [
         " Inspiration ",
         "4"
        ]
       ],
       "shape": {
        "columns": 1,
        "rows": 279
       }
      },
      "text/plain": [
       "Sentiment\n",
       "Positive               44\n",
       "Joy                    42\n",
       "Excitement             32\n",
       "Happy                  14\n",
       "Neutral                14\n",
       "                       ..\n",
       "Vibrancy                1\n",
       "Culinary Adventure      1\n",
       "Mesmerizing             1\n",
       "Thrilling Journey       1\n",
       "Winter Magic            1\n",
       "Name: count, Length: 279, dtype: int64"
      ]
     },
     "execution_count": 94,
     "metadata": {},
     "output_type": "execute_result"
    }
   ],
   "source": [
    "df_SM['Sentiment'].value_counts()\n"
   ]
  },
  {
   "cell_type": "markdown",
   "id": "360867b3",
   "metadata": {},
   "source": [
    "# **Data.World**"
   ]
  },
  {
   "cell_type": "markdown",
   "id": "7fd2049d",
   "metadata": {},
   "source": [
    "### Brands and Product Emotions"
   ]
  },
  {
   "cell_type": "code",
   "execution_count": 95,
   "id": "21bf2818",
   "metadata": {},
   "outputs": [],
   "source": [
    "import pandas as pd\n",
    "df = pd.read_csv('https://query.data.world/s/k64uuin6zje2i6f4rjyy6uivhxht7f?dws=00000', encoding='latin1')"
   ]
  },
  {
   "cell_type": "code",
   "execution_count": 96,
   "id": "107175e8",
   "metadata": {},
   "outputs": [
    {
     "data": {
      "application/vnd.microsoft.datawrangler.viewer.v0+json": {
       "columns": [
        {
         "name": "index",
         "rawType": "int64",
         "type": "integer"
        },
        {
         "name": "tweet_text",
         "rawType": "object",
         "type": "string"
        },
        {
         "name": "emotion_in_tweet_is_directed_at",
         "rawType": "object",
         "type": "unknown"
        },
        {
         "name": "is_there_an_emotion_directed_at_a_brand_or_product",
         "rawType": "object",
         "type": "string"
        }
       ],
       "ref": "e3ec75ba-1dec-41c8-8c61-6f5c2d511ac2",
       "rows": [
        [
         "8221",
         "Won a gift certificate to Apple at the Nonprofit Meetup! Hooray for nonprofits and Apple! #sxsw #iPad2time",
         "Apple",
         "Positive emotion"
        ],
        [
         "3819",
         "@mention iPad app getting panned for design trumping content, and rightfully so. #SXSW",
         "iPad or iPhone App",
         "Negative emotion"
        ],
        [
         "4696",
         "This technology couldn't happen on an iPhone' - Nokia #pushsnowboarding #sxsw",
         "iPhone",
         "Negative emotion"
        ],
        [
         "4774",
         "&quot;@mention Google to Launch Major New Social Network Called Circles, Possibly Today {link}  #sxsw&quot; @mention for you...",
         null,
         "No emotion toward brand or product"
        ],
        [
         "7365",
         "The good people at @mention are covering the iPad 2 launch live at the Apple pop-up store in Austin at #SXSW {link}",
         null,
         "No emotion toward brand or product"
        ]
       ],
       "shape": {
        "columns": 3,
        "rows": 5
       }
      },
      "text/html": [
       "<div>\n",
       "<style scoped>\n",
       "    .dataframe tbody tr th:only-of-type {\n",
       "        vertical-align: middle;\n",
       "    }\n",
       "\n",
       "    .dataframe tbody tr th {\n",
       "        vertical-align: top;\n",
       "    }\n",
       "\n",
       "    .dataframe thead th {\n",
       "        text-align: right;\n",
       "    }\n",
       "</style>\n",
       "<table border=\"1\" class=\"dataframe\">\n",
       "  <thead>\n",
       "    <tr style=\"text-align: right;\">\n",
       "      <th></th>\n",
       "      <th>tweet_text</th>\n",
       "      <th>emotion_in_tweet_is_directed_at</th>\n",
       "      <th>is_there_an_emotion_directed_at_a_brand_or_product</th>\n",
       "    </tr>\n",
       "  </thead>\n",
       "  <tbody>\n",
       "    <tr>\n",
       "      <th>8221</th>\n",
       "      <td>Won a gift certificate to Apple at the Nonprof...</td>\n",
       "      <td>Apple</td>\n",
       "      <td>Positive emotion</td>\n",
       "    </tr>\n",
       "    <tr>\n",
       "      <th>3819</th>\n",
       "      <td>@mention iPad app getting panned for design tr...</td>\n",
       "      <td>iPad or iPhone App</td>\n",
       "      <td>Negative emotion</td>\n",
       "    </tr>\n",
       "    <tr>\n",
       "      <th>4696</th>\n",
       "      <td>This technology couldn't happen on an iPhone' ...</td>\n",
       "      <td>iPhone</td>\n",
       "      <td>Negative emotion</td>\n",
       "    </tr>\n",
       "    <tr>\n",
       "      <th>4774</th>\n",
       "      <td>&amp;quot;@mention Google to Launch Major New Soci...</td>\n",
       "      <td>NaN</td>\n",
       "      <td>No emotion toward brand or product</td>\n",
       "    </tr>\n",
       "    <tr>\n",
       "      <th>7365</th>\n",
       "      <td>The good people at @mention are covering the i...</td>\n",
       "      <td>NaN</td>\n",
       "      <td>No emotion toward brand or product</td>\n",
       "    </tr>\n",
       "  </tbody>\n",
       "</table>\n",
       "</div>"
      ],
      "text/plain": [
       "                                             tweet_text  \\\n",
       "8221  Won a gift certificate to Apple at the Nonprof...   \n",
       "3819  @mention iPad app getting panned for design tr...   \n",
       "4696  This technology couldn't happen on an iPhone' ...   \n",
       "4774  &quot;@mention Google to Launch Major New Soci...   \n",
       "7365  The good people at @mention are covering the i...   \n",
       "\n",
       "     emotion_in_tweet_is_directed_at  \\\n",
       "8221                           Apple   \n",
       "3819              iPad or iPhone App   \n",
       "4696                          iPhone   \n",
       "4774                             NaN   \n",
       "7365                             NaN   \n",
       "\n",
       "     is_there_an_emotion_directed_at_a_brand_or_product  \n",
       "8221                                   Positive emotion  \n",
       "3819                                   Negative emotion  \n",
       "4696                                   Negative emotion  \n",
       "4774                 No emotion toward brand or product  \n",
       "7365                 No emotion toward brand or product  "
      ]
     },
     "execution_count": 96,
     "metadata": {},
     "output_type": "execute_result"
    }
   ],
   "source": [
    "df.sample(5)"
   ]
  },
  {
   "cell_type": "code",
   "execution_count": 97,
   "id": "0c6b4ef4",
   "metadata": {},
   "outputs": [
    {
     "data": {
      "text/plain": [
       "Index(['tweet_text', 'emotion_in_tweet_is_directed_at',\n",
       "       'is_there_an_emotion_directed_at_a_brand_or_product'],\n",
       "      dtype='object')"
      ]
     },
     "execution_count": 97,
     "metadata": {},
     "output_type": "execute_result"
    }
   ],
   "source": [
    "df.columns"
   ]
  },
  {
   "cell_type": "code",
   "execution_count": 98,
   "id": "0357bc9d",
   "metadata": {},
   "outputs": [
    {
     "data": {
      "text/plain": [
       "array(['Negative emotion', 'Positive emotion',\n",
       "       'No emotion toward brand or product', \"I can't tell\"], dtype=object)"
      ]
     },
     "execution_count": 98,
     "metadata": {},
     "output_type": "execute_result"
    }
   ],
   "source": [
    "df['is_there_an_emotion_directed_at_a_brand_or_product'].unique()"
   ]
  },
  {
   "cell_type": "code",
   "execution_count": 99,
   "id": "f27da2d1",
   "metadata": {},
   "outputs": [
    {
     "data": {
      "text/plain": [
       "(9093, 3)"
      ]
     },
     "execution_count": 99,
     "metadata": {},
     "output_type": "execute_result"
    }
   ],
   "source": [
    "df.shape"
   ]
  },
  {
   "cell_type": "markdown",
   "id": "285075ba",
   "metadata": {},
   "source": [
    "### Hotel Reviews ID: datafiniti/hotel-reviews"
   ]
  },
  {
   "cell_type": "code",
   "execution_count": 100,
   "id": "a0fdfa60",
   "metadata": {},
   "outputs": [],
   "source": [
    "df_last = pd.read_csv('https://query.data.world/s/luduvvjmvb2wmk6joeqaabzpohaesg?dws=00000',encoding='latin1' )"
   ]
  },
  {
   "cell_type": "code",
   "execution_count": 101,
   "id": "78447e28",
   "metadata": {},
   "outputs": [
    {
     "data": {
      "text/plain": [
       "(10000, 25)"
      ]
     },
     "execution_count": 101,
     "metadata": {},
     "output_type": "execute_result"
    }
   ],
   "source": [
    "df_last.shape"
   ]
  },
  {
   "cell_type": "code",
   "execution_count": 102,
   "id": "8c3de171",
   "metadata": {},
   "outputs": [
    {
     "data": {
      "application/vnd.microsoft.datawrangler.viewer.v0+json": {
       "columns": [
        {
         "name": "index",
         "rawType": "int64",
         "type": "integer"
        },
        {
         "name": "ï»¿id",
         "rawType": "object",
         "type": "string"
        },
        {
         "name": "dateAdded",
         "rawType": "object",
         "type": "string"
        },
        {
         "name": "dateUpdated",
         "rawType": "object",
         "type": "string"
        },
        {
         "name": "address",
         "rawType": "object",
         "type": "string"
        },
        {
         "name": "categories",
         "rawType": "object",
         "type": "string"
        },
        {
         "name": "primaryCategories",
         "rawType": "object",
         "type": "string"
        },
        {
         "name": "city",
         "rawType": "object",
         "type": "string"
        },
        {
         "name": "country",
         "rawType": "object",
         "type": "string"
        },
        {
         "name": "keys",
         "rawType": "object",
         "type": "string"
        },
        {
         "name": "latitude",
         "rawType": "float64",
         "type": "float"
        },
        {
         "name": "longitude",
         "rawType": "float64",
         "type": "float"
        },
        {
         "name": "name",
         "rawType": "object",
         "type": "string"
        },
        {
         "name": "postalCode",
         "rawType": "object",
         "type": "string"
        },
        {
         "name": "province",
         "rawType": "object",
         "type": "string"
        },
        {
         "name": "reviews.date",
         "rawType": "object",
         "type": "string"
        },
        {
         "name": "reviews.dateSeen",
         "rawType": "object",
         "type": "string"
        },
        {
         "name": "reviews.rating",
         "rawType": "float64",
         "type": "float"
        },
        {
         "name": "reviews.sourceURLs",
         "rawType": "object",
         "type": "string"
        },
        {
         "name": "reviews.text",
         "rawType": "object",
         "type": "string"
        },
        {
         "name": "reviews.title",
         "rawType": "object",
         "type": "string"
        },
        {
         "name": "reviews.userCity",
         "rawType": "object",
         "type": "unknown"
        },
        {
         "name": "reviews.userProvince",
         "rawType": "object",
         "type": "unknown"
        },
        {
         "name": "reviews.username",
         "rawType": "object",
         "type": "string"
        },
        {
         "name": "sourceURLs",
         "rawType": "object",
         "type": "string"
        },
        {
         "name": "websites",
         "rawType": "object",
         "type": "string"
        }
       ],
       "ref": "dbded7da-1a7c-4358-b6fd-d1cb15891f17",
       "rows": [
        [
         "8217",
         "AVwcxZSWkufWRAb5y2wv",
         "2015-05-23T04:30:12Z",
         "2018-01-28T08:50:12Z",
         "2 S 4th St",
         "Hotels,Lodging,Motels,Hotel,Bed Breakfast,Motel,Hotels & Motels",
         "Accommodation & Food Services",
         "Saint Louis",
         "US",
         "us/mo/saintlouis/2s4thst/-1425185106",
         "38.62469",
         "-90.18861",
         "Drury Plaza Hotel St. Louis at the Arch",
         "63102",
         "MO",
         "2016-07-08T00:00:00Z",
         "2016-09-11T00:00:00Z,2016-08-09T00:00:00Z,2016-08-08T00:00:00Z,2016-08-03T00:00:00Z,2016-08-06T00:00:00Z,2016-09-05T00:00:00Z,2016-08-02T00:00:00Z,2016-08-04T00:00:00Z,2016-07-31T00:00:00Z",
         "4.0",
         "https://www.hotels.com/hotel/169257/reviews%20/",
         "The ladies at the front desk were friendly and always helpful! We love Drury's free drinks and food! The room was nice! The pool did not seem very clean. Great location! Relight by ballpark village and the Arch. We walked to dinner and an ice cream place (about a half a mile). Overall we had a great experience. We would go back!",
         "Enjoyable stay!",
         null,
         null,
         "Lora",
         "https://www.yellowpages.com/saint-louis-mo/mip/drury-plaza-hotel-st-louis-at-the-arch-468350344,https://foursquare.com/v/drury-plaza-hotel-st-louis-at-the-arch/4acbc3f9f964a52078c520e3,https://www.tripadvisor.com/Hotel_Review-g44881-d270688-Reviews-Drury_Plaza_Hotel_St_Louis_at_the_Arch-Saint_Louis_Missouri.html,http://www.tripadvisor.com/Hotel_Review-g44881-d270688-Reviews-or80-Drury_Plaza_Hotel_at_the_Arch-Saint_Louis_Missouri.html#REVIEWS,http://stlouis.citysearch.com/profile/11449996/saint_louis_mo/drury_plaza_hotel_at_the_arch.html,https://foursquare.com/v/drury-plaza-hotel--st-louis-at-the-arch/4acbc3f9f964a52078c520e3,https://www.hotels.com/hotel/169257/reviews%20/,http://www.hotels.com/ho169257/?locale=en_US&pos=HCOM_US",
         "http://druryhotels.com,http://www.druryhotels.com"
        ],
        [
         "7393",
         "AVwemRsOIN2L1WUf6cCe",
         "2017-04-19T21:26:04Z",
         "2018-01-30T06:02:40Z",
         "103 Wingate Ter",
         "Corporate Lodging,Hotels,Lodging,Hotel",
         "Accommodation & Food Services",
         "LaGrange",
         "US",
         "us/ga/lagrange/103wingateter/-1135939915",
         "33.04225",
         "-84.9643",
         "Wingate by Wyndham LaGrange-Callaway",
         "30241",
         "GA",
         "2015-08-02T00:00:00Z",
         "2015-10-19T00:00:00Z",
         "2.0",
         "http://www.tripadvisor.com/Hotel_Review-g35051-d1235467-Reviews-or30-Wingate_by_Wyndham_LaGrange-LaGrange_Georgia.html%25252523REVIEWS",
         "I was very disappointed in the Wingate by Wyndham LaGrange. I initially liked the hardwood floors when we entered our room- definitely cleaner than carpeting. However, it sounded like the guests above us were moving furniture around and doing some serious stomping until about 3 am. Carpeting would have muted some of this noise. Our room air conditioner sounded like... More",
         "Poor Night's Sleep...",
         null,
         null,
         "patriciamaryb2015",
         "https://www.yellowpages.com/lagrange-ga/mip/wingate-by-wyndham-lagrange-callaway-5560909%25252523yp-rating,https://www.yellowpages.com/lagrange-ga/mip/wingate-by-wyndham-lagrange-callaway-5560909,http://www.tripadvisor.com/Hotel_Review-g35051-d1235467-Reviews-or40-Wingate_by_Wyndham_LaGrange-LaGrange_Georgia.html%25252523REVIEWS,http://www.tripadvisor.com/Hotel_Review-g35051-d1235467-Reviews-Wingate_by_Wyndham_LaGrange-LaGrange_Georgia.html,https://foursquare.com/v/wingate-by-wyndham-lagrangecallaway/4f5a775ce4b07bdded67160a,http://www.tripadvisor.com/Hotel_Review-g35051-d1235467-Reviews-or30-Wingate_by_Wyndham_LaGrange-LaGrange_Georgia.html%25252523REVIEWS,http://www.gayot.com/Hotels/Select-Your-City/United-States/Georgia/Atlanta/Wingate-by-Wyndham-LaGrange-Callaway-LaGrange-ATHOT120603,http://www.tripadvisor.com/Hotel_Review-g35051-d1235467-Reviews-or20-Wingate_by_Wyndham_LaGrange-LaGrange_Georgia.html%25252523REVIEWS,http://www.tripadvisor.com/Hotel_Review-g35051-d1235467-Reviews-or10-Wingate_by_Wyndham_LaGrange-LaGrange_Georgia.html%25252523REVIEWS",
         "https://www.wyndhamhotels.com/wingate/lagrange-georgia/wingate-by-wyndham-lagrange-callaway/overview,http://www.wingatehotels.com/hotels/georgia/lagrange/wingate-by-wyndham-lagrange-callaway/hotel-overview"
        ]
       ],
       "shape": {
        "columns": 25,
        "rows": 2
       }
      },
      "text/html": [
       "<div>\n",
       "<style scoped>\n",
       "    .dataframe tbody tr th:only-of-type {\n",
       "        vertical-align: middle;\n",
       "    }\n",
       "\n",
       "    .dataframe tbody tr th {\n",
       "        vertical-align: top;\n",
       "    }\n",
       "\n",
       "    .dataframe thead th {\n",
       "        text-align: right;\n",
       "    }\n",
       "</style>\n",
       "<table border=\"1\" class=\"dataframe\">\n",
       "  <thead>\n",
       "    <tr style=\"text-align: right;\">\n",
       "      <th></th>\n",
       "      <th>ï»¿id</th>\n",
       "      <th>dateAdded</th>\n",
       "      <th>dateUpdated</th>\n",
       "      <th>address</th>\n",
       "      <th>categories</th>\n",
       "      <th>primaryCategories</th>\n",
       "      <th>city</th>\n",
       "      <th>country</th>\n",
       "      <th>keys</th>\n",
       "      <th>latitude</th>\n",
       "      <th>...</th>\n",
       "      <th>reviews.dateSeen</th>\n",
       "      <th>reviews.rating</th>\n",
       "      <th>reviews.sourceURLs</th>\n",
       "      <th>reviews.text</th>\n",
       "      <th>reviews.title</th>\n",
       "      <th>reviews.userCity</th>\n",
       "      <th>reviews.userProvince</th>\n",
       "      <th>reviews.username</th>\n",
       "      <th>sourceURLs</th>\n",
       "      <th>websites</th>\n",
       "    </tr>\n",
       "  </thead>\n",
       "  <tbody>\n",
       "    <tr>\n",
       "      <th>8217</th>\n",
       "      <td>AVwcxZSWkufWRAb5y2wv</td>\n",
       "      <td>2015-05-23T04:30:12Z</td>\n",
       "      <td>2018-01-28T08:50:12Z</td>\n",
       "      <td>2 S 4th St</td>\n",
       "      <td>Hotels,Lodging,Motels,Hotel,Bed Breakfast,Mote...</td>\n",
       "      <td>Accommodation &amp; Food Services</td>\n",
       "      <td>Saint Louis</td>\n",
       "      <td>US</td>\n",
       "      <td>us/mo/saintlouis/2s4thst/-1425185106</td>\n",
       "      <td>38.62469</td>\n",
       "      <td>...</td>\n",
       "      <td>2016-09-11T00:00:00Z,2016-08-09T00:00:00Z,2016...</td>\n",
       "      <td>4.0</td>\n",
       "      <td>https://www.hotels.com/hotel/169257/reviews%20/</td>\n",
       "      <td>The ladies at the front desk were friendly and...</td>\n",
       "      <td>Enjoyable stay!</td>\n",
       "      <td>NaN</td>\n",
       "      <td>NaN</td>\n",
       "      <td>Lora</td>\n",
       "      <td>https://www.yellowpages.com/saint-louis-mo/mip...</td>\n",
       "      <td>http://druryhotels.com,http://www.druryhotels.com</td>\n",
       "    </tr>\n",
       "    <tr>\n",
       "      <th>7393</th>\n",
       "      <td>AVwemRsOIN2L1WUf6cCe</td>\n",
       "      <td>2017-04-19T21:26:04Z</td>\n",
       "      <td>2018-01-30T06:02:40Z</td>\n",
       "      <td>103 Wingate Ter</td>\n",
       "      <td>Corporate Lodging,Hotels,Lodging,Hotel</td>\n",
       "      <td>Accommodation &amp; Food Services</td>\n",
       "      <td>LaGrange</td>\n",
       "      <td>US</td>\n",
       "      <td>us/ga/lagrange/103wingateter/-1135939915</td>\n",
       "      <td>33.04225</td>\n",
       "      <td>...</td>\n",
       "      <td>2015-10-19T00:00:00Z</td>\n",
       "      <td>2.0</td>\n",
       "      <td>http://www.tripadvisor.com/Hotel_Review-g35051...</td>\n",
       "      <td>I was very disappointed in the Wingate by Wynd...</td>\n",
       "      <td>Poor Night's Sleep...</td>\n",
       "      <td>NaN</td>\n",
       "      <td>NaN</td>\n",
       "      <td>patriciamaryb2015</td>\n",
       "      <td>https://www.yellowpages.com/lagrange-ga/mip/wi...</td>\n",
       "      <td>https://www.wyndhamhotels.com/wingate/lagrange...</td>\n",
       "    </tr>\n",
       "  </tbody>\n",
       "</table>\n",
       "<p>2 rows × 25 columns</p>\n",
       "</div>"
      ],
      "text/plain": [
       "                     ï»¿id             dateAdded           dateUpdated  \\\n",
       "8217  AVwcxZSWkufWRAb5y2wv  2015-05-23T04:30:12Z  2018-01-28T08:50:12Z   \n",
       "7393  AVwemRsOIN2L1WUf6cCe  2017-04-19T21:26:04Z  2018-01-30T06:02:40Z   \n",
       "\n",
       "              address                                         categories  \\\n",
       "8217       2 S 4th St  Hotels,Lodging,Motels,Hotel,Bed Breakfast,Mote...   \n",
       "7393  103 Wingate Ter             Corporate Lodging,Hotels,Lodging,Hotel   \n",
       "\n",
       "                  primaryCategories         city country  \\\n",
       "8217  Accommodation & Food Services  Saint Louis      US   \n",
       "7393  Accommodation & Food Services     LaGrange      US   \n",
       "\n",
       "                                          keys  latitude  ...  \\\n",
       "8217      us/mo/saintlouis/2s4thst/-1425185106  38.62469  ...   \n",
       "7393  us/ga/lagrange/103wingateter/-1135939915  33.04225  ...   \n",
       "\n",
       "                                       reviews.dateSeen reviews.rating  \\\n",
       "8217  2016-09-11T00:00:00Z,2016-08-09T00:00:00Z,2016...            4.0   \n",
       "7393                               2015-10-19T00:00:00Z            2.0   \n",
       "\n",
       "                                     reviews.sourceURLs  \\\n",
       "8217    https://www.hotels.com/hotel/169257/reviews%20/   \n",
       "7393  http://www.tripadvisor.com/Hotel_Review-g35051...   \n",
       "\n",
       "                                           reviews.text  \\\n",
       "8217  The ladies at the front desk were friendly and...   \n",
       "7393  I was very disappointed in the Wingate by Wynd...   \n",
       "\n",
       "              reviews.title reviews.userCity  reviews.userProvince  \\\n",
       "8217        Enjoyable stay!              NaN                   NaN   \n",
       "7393  Poor Night's Sleep...              NaN                   NaN   \n",
       "\n",
       "       reviews.username                                         sourceURLs  \\\n",
       "8217               Lora  https://www.yellowpages.com/saint-louis-mo/mip...   \n",
       "7393  patriciamaryb2015  https://www.yellowpages.com/lagrange-ga/mip/wi...   \n",
       "\n",
       "                                               websites  \n",
       "8217  http://druryhotels.com,http://www.druryhotels.com  \n",
       "7393  https://www.wyndhamhotels.com/wingate/lagrange...  \n",
       "\n",
       "[2 rows x 25 columns]"
      ]
     },
     "execution_count": 102,
     "metadata": {},
     "output_type": "execute_result"
    }
   ],
   "source": [
    "df_last.sample(2)"
   ]
  }
 ],
 "metadata": {
  "kernelspec": {
   "display_name": "myenv (3.13.5)",
   "language": "python",
   "name": "python3"
  },
  "language_info": {
   "codemirror_mode": {
    "name": "ipython",
    "version": 3
   },
   "file_extension": ".py",
   "mimetype": "text/x-python",
   "name": "python",
   "nbconvert_exporter": "python",
   "pygments_lexer": "ipython3",
   "version": "3.13.7"
  }
 },
 "nbformat": 4,
 "nbformat_minor": 5
}
