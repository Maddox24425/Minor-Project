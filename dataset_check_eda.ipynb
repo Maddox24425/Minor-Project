{
 "cells": [
  {
   "cell_type": "markdown",
   "id": "49144d13",
   "metadata": {},
   "source": [
    "# **Kaggle**"
   ]
  },
  {
   "cell_type": "markdown",
   "id": "a3a4d4e6",
   "metadata": {},
   "source": [
    "### Sentiment Analysis Dataset"
   ]
  },
  {
   "cell_type": "code",
   "execution_count": 1,
   "id": "541cc87f",
   "metadata": {},
   "outputs": [
    {
     "name": "stderr",
     "output_type": "stream",
     "text": [
      "d:\\Data Science\\myenv\\Lib\\site-packages\\tqdm\\auto.py:21: TqdmWarning: IProgress not found. Please update jupyter and ipywidgets. See https://ipywidgets.readthedocs.io/en/stable/user_install.html\n",
      "  from .autonotebook import tqdm as notebook_tqdm\n"
     ]
    },
    {
     "name": "stdout",
     "output_type": "stream",
     "text": [
      "Warning: Looks like you're using an outdated `kagglehub` version (installed: 0.3.12), please consider upgrading to the latest version (0.3.13).\n",
      "Path to dataset files: C:\\Users\\Maddox\\.cache\\kagglehub\\datasets\\abhi8923shriv\\sentiment-analysis-dataset\\versions\\9\n"
     ]
    }
   ],
   "source": [
    "import kagglehub\n",
    "\n",
    "# Download latest version\n",
    "path = kagglehub.dataset_download(\"abhi8923shriv/sentiment-analysis-dataset\")\n",
    "\n",
    "print(\"Path to dataset files:\", path)"
   ]
  },
  {
   "cell_type": "code",
   "execution_count": 2,
   "id": "322eaa23",
   "metadata": {},
   "outputs": [
    {
     "data": {
      "text/plain": [
       "['test.csv',\n",
       " 'testdata.manual.2009.06.14.csv',\n",
       " 'train.csv',\n",
       " 'training.1600000.processed.noemoticon.csv']"
      ]
     },
     "execution_count": 2,
     "metadata": {},
     "output_type": "execute_result"
    }
   ],
   "source": [
    "import os\n",
    "files = os.listdir(path)\n",
    "files"
   ]
  },
  {
   "cell_type": "code",
   "execution_count": 3,
   "id": "953e7d2c",
   "metadata": {},
   "outputs": [
    {
     "data": {
      "text/plain": [
       "'C:\\\\Users\\\\Maddox\\\\.cache\\\\kagglehub\\\\datasets\\\\abhi8923shriv\\\\sentiment-analysis-dataset\\\\versions\\\\9/test.csv'"
      ]
     },
     "metadata": {},
     "output_type": "display_data"
    }
   ],
   "source": [
    "path1=path+'/'+files[0]\n",
    "path2=path+'/'+files[1]\n",
    "path3=path+'/'+files[2]\n",
    "path4=path+'/'+files[3]\n",
    "display(path1)"
   ]
  },
  {
   "cell_type": "code",
   "execution_count": 4,
   "id": "4d819863",
   "metadata": {},
   "outputs": [],
   "source": [
    "import pandas as pd\n",
    "df1 = pd.read_csv(path1, encoding=\"iso-8859-1\")"
   ]
  },
  {
   "cell_type": "code",
   "execution_count": 5,
   "id": "176093d0",
   "metadata": {},
   "outputs": [
    {
     "data": {
      "application/vnd.microsoft.datawrangler.viewer.v0+json": {
       "columns": [
        {
         "name": "index",
         "rawType": "int64",
         "type": "integer"
        },
        {
         "name": "textID",
         "rawType": "object",
         "type": "unknown"
        },
        {
         "name": "text",
         "rawType": "object",
         "type": "unknown"
        },
        {
         "name": "sentiment",
         "rawType": "object",
         "type": "unknown"
        },
        {
         "name": "Time of Tweet",
         "rawType": "object",
         "type": "unknown"
        },
        {
         "name": "Age of User",
         "rawType": "object",
         "type": "unknown"
        },
        {
         "name": "Country",
         "rawType": "object",
         "type": "unknown"
        },
        {
         "name": "Population -2020",
         "rawType": "float64",
         "type": "float"
        },
        {
         "name": "Land Area (Km²)",
         "rawType": "float64",
         "type": "float"
        },
        {
         "name": "Density (P/Km²)",
         "rawType": "float64",
         "type": "float"
        }
       ],
       "ref": "18ad5f33-5470-4f0e-99b4-0ef205bf3d08",
       "rows": [
        [
         "1019",
         "aa51082711",
         " yay asap lol awwh I miss our friday night happy hours even luna del sea and the 'boy' hahahaha",
         "negative",
         "night",
         "70-100",
         "Czechia (Czech Republic)",
         "10708981.0",
         "77240.0",
         "139.0"
        ],
        [
         "1415",
         "5d8102cab8",
         "He put a **** mohawk in my son head.....he just killed my vibe as always",
         "negative",
         "night",
         "70-100",
         "Guyana",
         "786552.0",
         "196850.0",
         "4.0"
        ],
        [
         "4362",
         null,
         null,
         null,
         null,
         null,
         null,
         null,
         null,
         null
        ],
        [
         "1037",
         "43d10bd312",
         "I also have a certain CD from camp that a certain somebody gave me...  Yeah, there`s this guy in the video that`s really frickin hot!",
         "positive",
         "night",
         "70-100",
         "Gambia",
         "2416668.0",
         "10120.0",
         "239.0"
        ],
        [
         "3080",
         "fe51ca37d4",
         " guess I missed out on more than beer and a good time",
         "negative",
         "night",
         "70-100",
         "Pakistan",
         "220892340.0",
         "770880.0",
         "287.0"
        ]
       ],
       "shape": {
        "columns": 9,
        "rows": 5
       }
      },
      "text/html": [
       "<div>\n",
       "<style scoped>\n",
       "    .dataframe tbody tr th:only-of-type {\n",
       "        vertical-align: middle;\n",
       "    }\n",
       "\n",
       "    .dataframe tbody tr th {\n",
       "        vertical-align: top;\n",
       "    }\n",
       "\n",
       "    .dataframe thead th {\n",
       "        text-align: right;\n",
       "    }\n",
       "</style>\n",
       "<table border=\"1\" class=\"dataframe\">\n",
       "  <thead>\n",
       "    <tr style=\"text-align: right;\">\n",
       "      <th></th>\n",
       "      <th>textID</th>\n",
       "      <th>text</th>\n",
       "      <th>sentiment</th>\n",
       "      <th>Time of Tweet</th>\n",
       "      <th>Age of User</th>\n",
       "      <th>Country</th>\n",
       "      <th>Population -2020</th>\n",
       "      <th>Land Area (Km²)</th>\n",
       "      <th>Density (P/Km²)</th>\n",
       "    </tr>\n",
       "  </thead>\n",
       "  <tbody>\n",
       "    <tr>\n",
       "      <th>1019</th>\n",
       "      <td>aa51082711</td>\n",
       "      <td>yay asap lol awwh I miss our friday night hap...</td>\n",
       "      <td>negative</td>\n",
       "      <td>night</td>\n",
       "      <td>70-100</td>\n",
       "      <td>Czechia (Czech Republic)</td>\n",
       "      <td>10708981.0</td>\n",
       "      <td>77240.0</td>\n",
       "      <td>139.0</td>\n",
       "    </tr>\n",
       "    <tr>\n",
       "      <th>1415</th>\n",
       "      <td>5d8102cab8</td>\n",
       "      <td>He put a **** mohawk in my son head.....he jus...</td>\n",
       "      <td>negative</td>\n",
       "      <td>night</td>\n",
       "      <td>70-100</td>\n",
       "      <td>Guyana</td>\n",
       "      <td>786552.0</td>\n",
       "      <td>196850.0</td>\n",
       "      <td>4.0</td>\n",
       "    </tr>\n",
       "    <tr>\n",
       "      <th>4362</th>\n",
       "      <td>NaN</td>\n",
       "      <td>NaN</td>\n",
       "      <td>NaN</td>\n",
       "      <td>NaN</td>\n",
       "      <td>NaN</td>\n",
       "      <td>NaN</td>\n",
       "      <td>NaN</td>\n",
       "      <td>NaN</td>\n",
       "      <td>NaN</td>\n",
       "    </tr>\n",
       "    <tr>\n",
       "      <th>1037</th>\n",
       "      <td>43d10bd312</td>\n",
       "      <td>I also have a certain CD from camp that a cert...</td>\n",
       "      <td>positive</td>\n",
       "      <td>night</td>\n",
       "      <td>70-100</td>\n",
       "      <td>Gambia</td>\n",
       "      <td>2416668.0</td>\n",
       "      <td>10120.0</td>\n",
       "      <td>239.0</td>\n",
       "    </tr>\n",
       "    <tr>\n",
       "      <th>3080</th>\n",
       "      <td>fe51ca37d4</td>\n",
       "      <td>guess I missed out on more than beer and a go...</td>\n",
       "      <td>negative</td>\n",
       "      <td>night</td>\n",
       "      <td>70-100</td>\n",
       "      <td>Pakistan</td>\n",
       "      <td>220892340.0</td>\n",
       "      <td>770880.0</td>\n",
       "      <td>287.0</td>\n",
       "    </tr>\n",
       "  </tbody>\n",
       "</table>\n",
       "</div>"
      ],
      "text/plain": [
       "          textID                                               text sentiment  \\\n",
       "1019  aa51082711   yay asap lol awwh I miss our friday night hap...  negative   \n",
       "1415  5d8102cab8  He put a **** mohawk in my son head.....he jus...  negative   \n",
       "4362         NaN                                                NaN       NaN   \n",
       "1037  43d10bd312  I also have a certain CD from camp that a cert...  positive   \n",
       "3080  fe51ca37d4   guess I missed out on more than beer and a go...  negative   \n",
       "\n",
       "     Time of Tweet Age of User                   Country  Population -2020  \\\n",
       "1019         night      70-100  Czechia (Czech Republic)        10708981.0   \n",
       "1415         night      70-100                    Guyana          786552.0   \n",
       "4362           NaN         NaN                       NaN               NaN   \n",
       "1037         night      70-100                    Gambia         2416668.0   \n",
       "3080         night      70-100                  Pakistan       220892340.0   \n",
       "\n",
       "      Land Area (Km²)  Density (P/Km²)  \n",
       "1019          77240.0            139.0  \n",
       "1415         196850.0              4.0  \n",
       "4362              NaN              NaN  \n",
       "1037          10120.0            239.0  \n",
       "3080         770880.0            287.0  "
      ]
     },
     "metadata": {},
     "output_type": "display_data"
    },
    {
     "data": {
      "text/plain": [
       "(4815, 9)"
      ]
     },
     "metadata": {},
     "output_type": "display_data"
    },
    {
     "data": {
      "text/plain": [
       "Index(['textID', 'text', 'sentiment', 'Time of Tweet', 'Age of User',\n",
       "       'Country', 'Population -2020', 'Land Area (Km²)', 'Density (P/Km²)'],\n",
       "      dtype='object')"
      ]
     },
     "metadata": {},
     "output_type": "display_data"
    },
    {
     "name": "stdout",
     "output_type": "stream",
     "text": [
      "<class 'pandas.core.frame.DataFrame'>\n",
      "RangeIndex: 4815 entries, 0 to 4814\n",
      "Data columns (total 9 columns):\n",
      " #   Column            Non-Null Count  Dtype  \n",
      "---  ------            --------------  -----  \n",
      " 0   textID            3534 non-null   object \n",
      " 1   text              3534 non-null   object \n",
      " 2   sentiment         3534 non-null   object \n",
      " 3   Time of Tweet     3534 non-null   object \n",
      " 4   Age of User       3534 non-null   object \n",
      " 5   Country           3534 non-null   object \n",
      " 6   Population -2020  3534 non-null   float64\n",
      " 7   Land Area (Km²)   3534 non-null   float64\n",
      " 8   Density (P/Km²)   3534 non-null   float64\n",
      "dtypes: float64(3), object(6)\n",
      "memory usage: 338.7+ KB\n"
     ]
    },
    {
     "data": {
      "text/plain": [
       "None"
      ]
     },
     "metadata": {},
     "output_type": "display_data"
    }
   ],
   "source": [
    "display(df1.sample(5))\n",
    "display(df1.shape)\n",
    "display(df1.columns)\n",
    "display(df1.info())\n"
   ]
  },
  {
   "cell_type": "code",
   "execution_count": 6,
   "id": "a5c6507a",
   "metadata": {},
   "outputs": [
    {
     "data": {
      "application/vnd.microsoft.datawrangler.viewer.v0+json": {
       "columns": [
        {
         "name": "index",
         "rawType": "int64",
         "type": "integer"
        },
        {
         "name": "4",
         "rawType": "int64",
         "type": "integer"
        },
        {
         "name": "3",
         "rawType": "int64",
         "type": "integer"
        },
        {
         "name": "Mon May 11 03:17:40 UTC 2009",
         "rawType": "object",
         "type": "string"
        },
        {
         "name": "kindle2",
         "rawType": "object",
         "type": "string"
        },
        {
         "name": "tpryan",
         "rawType": "object",
         "type": "string"
        },
        {
         "name": "@stellargirl I loooooooovvvvvveee my Kindle2. Not that the DX is cool, but the 2 is fantastic in its own right.",
         "rawType": "object",
         "type": "string"
        }
       ],
       "ref": "aed20e46-24c6-42c7-a0fc-386bfd95de8e",
       "rows": [
        [
         "511",
         "4",
         "14084",
         "Mon May 11 05:22:12 UTC 2009",
         "nashta",
         "peterlikewhat",
         "lebron and zydrunas are such an awesome duo"
        ],
        [
         "182",
         "2",
         "447",
         "Tue Jun 02 04:42:28 UTC 2009",
         "safeway",
         "mobileadgirl",
         "Safeway Super-marketing via mobile coupons http://bit.ly/ONH7w"
        ]
       ],
       "shape": {
        "columns": 6,
        "rows": 2
       }
      },
      "text/html": [
       "<div>\n",
       "<style scoped>\n",
       "    .dataframe tbody tr th:only-of-type {\n",
       "        vertical-align: middle;\n",
       "    }\n",
       "\n",
       "    .dataframe tbody tr th {\n",
       "        vertical-align: top;\n",
       "    }\n",
       "\n",
       "    .dataframe thead th {\n",
       "        text-align: right;\n",
       "    }\n",
       "</style>\n",
       "<table border=\"1\" class=\"dataframe\">\n",
       "  <thead>\n",
       "    <tr style=\"text-align: right;\">\n",
       "      <th></th>\n",
       "      <th>4</th>\n",
       "      <th>3</th>\n",
       "      <th>Mon May 11 03:17:40 UTC 2009</th>\n",
       "      <th>kindle2</th>\n",
       "      <th>tpryan</th>\n",
       "      <th>@stellargirl I loooooooovvvvvveee my Kindle2. Not that the DX is cool, but the 2 is fantastic in its own right.</th>\n",
       "    </tr>\n",
       "  </thead>\n",
       "  <tbody>\n",
       "    <tr>\n",
       "      <th>511</th>\n",
       "      <td>4</td>\n",
       "      <td>14084</td>\n",
       "      <td>Mon May 11 05:22:12 UTC 2009</td>\n",
       "      <td>nashta</td>\n",
       "      <td>peterlikewhat</td>\n",
       "      <td>lebron and zydrunas are such an awesome duo</td>\n",
       "    </tr>\n",
       "    <tr>\n",
       "      <th>182</th>\n",
       "      <td>2</td>\n",
       "      <td>447</td>\n",
       "      <td>Tue Jun 02 04:42:28 UTC 2009</td>\n",
       "      <td>safeway</td>\n",
       "      <td>mobileadgirl</td>\n",
       "      <td>Safeway Super-marketing via mobile coupons htt...</td>\n",
       "    </tr>\n",
       "  </tbody>\n",
       "</table>\n",
       "</div>"
      ],
      "text/plain": [
       "     4      3  Mon May 11 03:17:40 UTC 2009  kindle2         tpryan  \\\n",
       "511  4  14084  Mon May 11 05:22:12 UTC 2009   nashta  peterlikewhat   \n",
       "182  2    447  Tue Jun 02 04:42:28 UTC 2009  safeway   mobileadgirl   \n",
       "\n",
       "    @stellargirl I loooooooovvvvvveee my Kindle2. Not that the DX is cool, but the 2 is fantastic in its own right.  \n",
       "511        lebron and zydrunas are such an awesome duo                                                               \n",
       "182  Safeway Super-marketing via mobile coupons htt...                                                               "
      ]
     },
     "metadata": {},
     "output_type": "display_data"
    },
    {
     "data": {
      "text/plain": [
       "(515, 6)"
      ]
     },
     "metadata": {},
     "output_type": "display_data"
    },
    {
     "name": "stdout",
     "output_type": "stream",
     "text": [
      "<class 'pandas.core.frame.DataFrame'>\n",
      "RangeIndex: 515 entries, 0 to 514\n",
      "Data columns (total 6 columns):\n",
      " #   Column                                                                                                           Non-Null Count  Dtype \n",
      "---  ------                                                                                                           --------------  ----- \n",
      " 0   4                                                                                                                515 non-null    int64 \n",
      " 1   3                                                                                                                515 non-null    int64 \n",
      " 2   Mon May 11 03:17:40 UTC 2009                                                                                     515 non-null    object\n",
      " 3   kindle2                                                                                                          515 non-null    object\n",
      " 4   tpryan                                                                                                           515 non-null    object\n",
      " 5   @stellargirl I loooooooovvvvvveee my Kindle2. Not that the DX is cool, but the 2 is fantastic in its own right.  515 non-null    object\n",
      "dtypes: int64(2), object(4)\n",
      "memory usage: 24.3+ KB\n"
     ]
    },
    {
     "data": {
      "text/plain": [
       "None"
      ]
     },
     "metadata": {},
     "output_type": "display_data"
    }
   ],
   "source": [
    "df2 = pd.read_csv(path2, encoding='utf-8')\n",
    "display(df2.sample(2))\n",
    "display(df2.shape)\n",
    "display(df2.info())"
   ]
  },
  {
   "cell_type": "code",
   "execution_count": 7,
   "id": "ce1770b3",
   "metadata": {},
   "outputs": [
    {
     "data": {
      "application/vnd.microsoft.datawrangler.viewer.v0+json": {
       "columns": [
        {
         "name": "index",
         "rawType": "int64",
         "type": "integer"
        },
        {
         "name": "textID",
         "rawType": "object",
         "type": "string"
        },
        {
         "name": "text",
         "rawType": "object",
         "type": "string"
        },
        {
         "name": "selected_text",
         "rawType": "object",
         "type": "string"
        },
        {
         "name": "sentiment",
         "rawType": "object",
         "type": "string"
        },
        {
         "name": "Time of Tweet",
         "rawType": "object",
         "type": "string"
        },
        {
         "name": "Age of User",
         "rawType": "object",
         "type": "string"
        },
        {
         "name": "Country",
         "rawType": "object",
         "type": "string"
        },
        {
         "name": "Population -2020",
         "rawType": "int64",
         "type": "integer"
        },
        {
         "name": "Land Area (Km²)",
         "rawType": "float64",
         "type": "float"
        },
        {
         "name": "Density (P/Km²)",
         "rawType": "int64",
         "type": "integer"
        }
       ],
       "ref": "0949c0cb-0054-4ec1-b1c4-b2bbdb8c7626",
       "rows": [
        [
         "7437",
         "aca672028f",
         "hates the everything about  seafood.. just so happened to serve lobster in the chow hall... noooowww, I gotta headache.. ugh! smh...",
         "hates the everything about  seafood.. just so happened to serve lobster in the chow hall... noooowww, I gotta headache.. ugh! smh...",
         "negative",
         "morning",
         "46-60",
         "Trinidad and Tobago",
         "1399488",
         "5130.0",
         "273"
        ],
        [
         "1854",
         "5545300604",
         " ahh retweet everything i say!",
         "ahh retweet everything i say!",
         "neutral",
         "morning",
         "0-20",
         "Sweden",
         "10099265",
         "410340.0",
         "25"
        ],
        [
         "8691",
         "c4fb99d6a0",
         "'somebody calls you, and you answer quite slowly, a girl with kaleidoscope eyes'     yeah, im normal.",
         "'somebody calls you, and you answer quite slowly, a girl with kaleidoscope eyes'     yeah, im norma",
         "neutral",
         "morning",
         "46-60",
         "Papua New Guinea",
         "8947024",
         "452860.0",
         "20"
        ],
        [
         "5553",
         "029bfe45a8",
         " i missed the game",
         "i missed the game",
         "negative",
         "morning",
         "46-60",
         "Timor-Leste",
         "1318445",
         "14870.0",
         "89"
        ],
        [
         "1565",
         "ff1c1382f9",
         " Where you at?   No tweeting today? No gardening either, I bet?",
         "Where you at?   No tweeting today? No gardening either, I bet?",
         "neutral",
         "night",
         "70-100",
         "Honduras",
         "9904607",
         "111890.0",
         "89"
        ]
       ],
       "shape": {
        "columns": 10,
        "rows": 5
       }
      },
      "text/html": [
       "<div>\n",
       "<style scoped>\n",
       "    .dataframe tbody tr th:only-of-type {\n",
       "        vertical-align: middle;\n",
       "    }\n",
       "\n",
       "    .dataframe tbody tr th {\n",
       "        vertical-align: top;\n",
       "    }\n",
       "\n",
       "    .dataframe thead th {\n",
       "        text-align: right;\n",
       "    }\n",
       "</style>\n",
       "<table border=\"1\" class=\"dataframe\">\n",
       "  <thead>\n",
       "    <tr style=\"text-align: right;\">\n",
       "      <th></th>\n",
       "      <th>textID</th>\n",
       "      <th>text</th>\n",
       "      <th>selected_text</th>\n",
       "      <th>sentiment</th>\n",
       "      <th>Time of Tweet</th>\n",
       "      <th>Age of User</th>\n",
       "      <th>Country</th>\n",
       "      <th>Population -2020</th>\n",
       "      <th>Land Area (Km²)</th>\n",
       "      <th>Density (P/Km²)</th>\n",
       "    </tr>\n",
       "  </thead>\n",
       "  <tbody>\n",
       "    <tr>\n",
       "      <th>7437</th>\n",
       "      <td>aca672028f</td>\n",
       "      <td>hates the everything about  seafood.. just so ...</td>\n",
       "      <td>hates the everything about  seafood.. just so ...</td>\n",
       "      <td>negative</td>\n",
       "      <td>morning</td>\n",
       "      <td>46-60</td>\n",
       "      <td>Trinidad and Tobago</td>\n",
       "      <td>1399488</td>\n",
       "      <td>5130.0</td>\n",
       "      <td>273</td>\n",
       "    </tr>\n",
       "    <tr>\n",
       "      <th>1854</th>\n",
       "      <td>5545300604</td>\n",
       "      <td>ahh retweet everything i say!</td>\n",
       "      <td>ahh retweet everything i say!</td>\n",
       "      <td>neutral</td>\n",
       "      <td>morning</td>\n",
       "      <td>0-20</td>\n",
       "      <td>Sweden</td>\n",
       "      <td>10099265</td>\n",
       "      <td>410340.0</td>\n",
       "      <td>25</td>\n",
       "    </tr>\n",
       "    <tr>\n",
       "      <th>8691</th>\n",
       "      <td>c4fb99d6a0</td>\n",
       "      <td>'somebody calls you, and you answer quite slow...</td>\n",
       "      <td>'somebody calls you, and you answer quite slow...</td>\n",
       "      <td>neutral</td>\n",
       "      <td>morning</td>\n",
       "      <td>46-60</td>\n",
       "      <td>Papua New Guinea</td>\n",
       "      <td>8947024</td>\n",
       "      <td>452860.0</td>\n",
       "      <td>20</td>\n",
       "    </tr>\n",
       "    <tr>\n",
       "      <th>5553</th>\n",
       "      <td>029bfe45a8</td>\n",
       "      <td>i missed the game</td>\n",
       "      <td>i missed the game</td>\n",
       "      <td>negative</td>\n",
       "      <td>morning</td>\n",
       "      <td>46-60</td>\n",
       "      <td>Timor-Leste</td>\n",
       "      <td>1318445</td>\n",
       "      <td>14870.0</td>\n",
       "      <td>89</td>\n",
       "    </tr>\n",
       "    <tr>\n",
       "      <th>1565</th>\n",
       "      <td>ff1c1382f9</td>\n",
       "      <td>Where you at?   No tweeting today? No gardeni...</td>\n",
       "      <td>Where you at?   No tweeting today? No gardenin...</td>\n",
       "      <td>neutral</td>\n",
       "      <td>night</td>\n",
       "      <td>70-100</td>\n",
       "      <td>Honduras</td>\n",
       "      <td>9904607</td>\n",
       "      <td>111890.0</td>\n",
       "      <td>89</td>\n",
       "    </tr>\n",
       "  </tbody>\n",
       "</table>\n",
       "</div>"
      ],
      "text/plain": [
       "          textID                                               text  \\\n",
       "7437  aca672028f  hates the everything about  seafood.. just so ...   \n",
       "1854  5545300604                      ahh retweet everything i say!   \n",
       "8691  c4fb99d6a0  'somebody calls you, and you answer quite slow...   \n",
       "5553  029bfe45a8                                  i missed the game   \n",
       "1565  ff1c1382f9   Where you at?   No tweeting today? No gardeni...   \n",
       "\n",
       "                                          selected_text sentiment  \\\n",
       "7437  hates the everything about  seafood.. just so ...  negative   \n",
       "1854                      ahh retweet everything i say!   neutral   \n",
       "8691  'somebody calls you, and you answer quite slow...   neutral   \n",
       "5553                                  i missed the game  negative   \n",
       "1565  Where you at?   No tweeting today? No gardenin...   neutral   \n",
       "\n",
       "     Time of Tweet Age of User              Country  Population -2020  \\\n",
       "7437       morning       46-60  Trinidad and Tobago           1399488   \n",
       "1854       morning        0-20               Sweden          10099265   \n",
       "8691       morning       46-60     Papua New Guinea           8947024   \n",
       "5553       morning       46-60          Timor-Leste           1318445   \n",
       "1565         night      70-100             Honduras           9904607   \n",
       "\n",
       "      Land Area (Km²)  Density (P/Km²)  \n",
       "7437           5130.0              273  \n",
       "1854         410340.0               25  \n",
       "8691         452860.0               20  \n",
       "5553          14870.0               89  \n",
       "1565         111890.0               89  "
      ]
     },
     "metadata": {},
     "output_type": "display_data"
    },
    {
     "data": {
      "text/plain": [
       "(27481, 10)"
      ]
     },
     "metadata": {},
     "output_type": "display_data"
    },
    {
     "data": {
      "text/plain": [
       "Index(['textID', 'text', 'selected_text', 'sentiment', 'Time of Tweet',\n",
       "       'Age of User', 'Country', 'Population -2020', 'Land Area (Km²)',\n",
       "       'Density (P/Km²)'],\n",
       "      dtype='object')"
      ]
     },
     "metadata": {},
     "output_type": "display_data"
    },
    {
     "name": "stdout",
     "output_type": "stream",
     "text": [
      "<class 'pandas.core.frame.DataFrame'>\n",
      "RangeIndex: 27481 entries, 0 to 27480\n",
      "Data columns (total 10 columns):\n",
      " #   Column            Non-Null Count  Dtype  \n",
      "---  ------            --------------  -----  \n",
      " 0   textID            27481 non-null  object \n",
      " 1   text              27480 non-null  object \n",
      " 2   selected_text     27480 non-null  object \n",
      " 3   sentiment         27481 non-null  object \n",
      " 4   Time of Tweet     27481 non-null  object \n",
      " 5   Age of User       27481 non-null  object \n",
      " 6   Country           27481 non-null  object \n",
      " 7   Population -2020  27481 non-null  int64  \n",
      " 8   Land Area (Km²)   27481 non-null  float64\n",
      " 9   Density (P/Km²)   27481 non-null  int64  \n",
      "dtypes: float64(1), int64(2), object(7)\n",
      "memory usage: 2.1+ MB\n"
     ]
    },
    {
     "data": {
      "text/plain": [
       "None"
      ]
     },
     "metadata": {},
     "output_type": "display_data"
    }
   ],
   "source": [
    "df3 = pd.read_csv(path3, encoding=\"iso-8859-1\")\n",
    "display(df3.sample(5))\n",
    "display(df3.shape)\n",
    "display(df3.columns)\n",
    "display(df3.info())"
   ]
  },
  {
   "cell_type": "code",
   "execution_count": 8,
   "id": "04e5d6a8",
   "metadata": {},
   "outputs": [
    {
     "data": {
      "application/vnd.microsoft.datawrangler.viewer.v0+json": {
       "columns": [
        {
         "name": "index",
         "rawType": "int64",
         "type": "integer"
        },
        {
         "name": "polarity of tweet ",
         "rawType": "int64",
         "type": "integer"
        },
        {
         "name": "id of the tweet",
         "rawType": "int64",
         "type": "integer"
        },
        {
         "name": "date of the tweet",
         "rawType": "object",
         "type": "string"
        },
        {
         "name": "query",
         "rawType": "object",
         "type": "string"
        },
        {
         "name": "user",
         "rawType": "object",
         "type": "string"
        },
        {
         "name": "text of the tweet ",
         "rawType": "object",
         "type": "string"
        }
       ],
       "ref": "bb99dfd6-e68d-4e92-b84d-e2e86cc9f295",
       "rows": [
        [
         "298520",
         "0",
         "1997703361",
         "Mon Jun 01 17:18:43 PDT 2009",
         "NO_QUERY",
         "DaddyHC",
         "@AshleyEbneth I know -_-; I though I made a funny "
        ],
        [
         "1034676",
         "4",
         "1956039077",
         "Thu May 28 21:04:22 PDT 2009",
         "NO_QUERY",
         "redchinese19",
         "Ya can talk, ya can talk, ya can bicker ya can talk, ya can bicker, bicker bicker ya can talk all ya want but is different than it was "
        ],
        [
         "840481",
         "4",
         "1559771696",
         "Sun Apr 19 12:00:33 PDT 2009",
         "NO_QUERY",
         "erincrous",
         "@acidic_ice - had a very awesome meeting today...  but you got an email on FB about it "
        ],
        [
         "570871",
         "0",
         "2208579044",
         "Wed Jun 17 09:22:23 PDT 2009",
         "NO_QUERY",
         "ecurls",
         "already on the last vacation day "
        ],
        [
         "906082",
         "4",
         "1695281457",
         "Mon May 04 05:43:57 PDT 2009",
         "NO_QUERY",
         "ashleno",
         "Castiel is loveeeeeeeeeeeeeeeeeeeeee "
        ]
       ],
       "shape": {
        "columns": 6,
        "rows": 5
       }
      },
      "text/html": [
       "<div>\n",
       "<style scoped>\n",
       "    .dataframe tbody tr th:only-of-type {\n",
       "        vertical-align: middle;\n",
       "    }\n",
       "\n",
       "    .dataframe tbody tr th {\n",
       "        vertical-align: top;\n",
       "    }\n",
       "\n",
       "    .dataframe thead th {\n",
       "        text-align: right;\n",
       "    }\n",
       "</style>\n",
       "<table border=\"1\" class=\"dataframe\">\n",
       "  <thead>\n",
       "    <tr style=\"text-align: right;\">\n",
       "      <th></th>\n",
       "      <th>polarity of tweet</th>\n",
       "      <th>id of the tweet</th>\n",
       "      <th>date of the tweet</th>\n",
       "      <th>query</th>\n",
       "      <th>user</th>\n",
       "      <th>text of the tweet</th>\n",
       "    </tr>\n",
       "  </thead>\n",
       "  <tbody>\n",
       "    <tr>\n",
       "      <th>298520</th>\n",
       "      <td>0</td>\n",
       "      <td>1997703361</td>\n",
       "      <td>Mon Jun 01 17:18:43 PDT 2009</td>\n",
       "      <td>NO_QUERY</td>\n",
       "      <td>DaddyHC</td>\n",
       "      <td>@AshleyEbneth I know -_-; I though I made a fu...</td>\n",
       "    </tr>\n",
       "    <tr>\n",
       "      <th>1034676</th>\n",
       "      <td>4</td>\n",
       "      <td>1956039077</td>\n",
       "      <td>Thu May 28 21:04:22 PDT 2009</td>\n",
       "      <td>NO_QUERY</td>\n",
       "      <td>redchinese19</td>\n",
       "      <td>Ya can talk, ya can talk, ya can bicker ya can...</td>\n",
       "    </tr>\n",
       "    <tr>\n",
       "      <th>840481</th>\n",
       "      <td>4</td>\n",
       "      <td>1559771696</td>\n",
       "      <td>Sun Apr 19 12:00:33 PDT 2009</td>\n",
       "      <td>NO_QUERY</td>\n",
       "      <td>erincrous</td>\n",
       "      <td>@acidic_ice - had a very awesome meeting today...</td>\n",
       "    </tr>\n",
       "    <tr>\n",
       "      <th>570871</th>\n",
       "      <td>0</td>\n",
       "      <td>2208579044</td>\n",
       "      <td>Wed Jun 17 09:22:23 PDT 2009</td>\n",
       "      <td>NO_QUERY</td>\n",
       "      <td>ecurls</td>\n",
       "      <td>already on the last vacation day</td>\n",
       "    </tr>\n",
       "    <tr>\n",
       "      <th>906082</th>\n",
       "      <td>4</td>\n",
       "      <td>1695281457</td>\n",
       "      <td>Mon May 04 05:43:57 PDT 2009</td>\n",
       "      <td>NO_QUERY</td>\n",
       "      <td>ashleno</td>\n",
       "      <td>Castiel is loveeeeeeeeeeeeeeeeeeeeee</td>\n",
       "    </tr>\n",
       "  </tbody>\n",
       "</table>\n",
       "</div>"
      ],
      "text/plain": [
       "         polarity of tweet   id of the tweet             date of the tweet  \\\n",
       "298520                    0       1997703361  Mon Jun 01 17:18:43 PDT 2009   \n",
       "1034676                   4       1956039077  Thu May 28 21:04:22 PDT 2009   \n",
       "840481                    4       1559771696  Sun Apr 19 12:00:33 PDT 2009   \n",
       "570871                    0       2208579044  Wed Jun 17 09:22:23 PDT 2009   \n",
       "906082                    4       1695281457  Mon May 04 05:43:57 PDT 2009   \n",
       "\n",
       "            query          user  \\\n",
       "298520   NO_QUERY       DaddyHC   \n",
       "1034676  NO_QUERY  redchinese19   \n",
       "840481   NO_QUERY     erincrous   \n",
       "570871   NO_QUERY        ecurls   \n",
       "906082   NO_QUERY       ashleno   \n",
       "\n",
       "                                        text of the tweet   \n",
       "298520   @AshleyEbneth I know -_-; I though I made a fu...  \n",
       "1034676  Ya can talk, ya can talk, ya can bicker ya can...  \n",
       "840481   @acidic_ice - had a very awesome meeting today...  \n",
       "570871                   already on the last vacation day   \n",
       "906082               Castiel is loveeeeeeeeeeeeeeeeeeeeee   "
      ]
     },
     "metadata": {},
     "output_type": "display_data"
    },
    {
     "data": {
      "text/plain": [
       "(1048572, 6)"
      ]
     },
     "metadata": {},
     "output_type": "display_data"
    },
    {
     "data": {
      "text/plain": [
       "Index(['polarity of tweet ', 'id of the tweet', 'date of the tweet', 'query',\n",
       "       'user', 'text of the tweet '],\n",
       "      dtype='object')"
      ]
     },
     "metadata": {},
     "output_type": "display_data"
    },
    {
     "name": "stdout",
     "output_type": "stream",
     "text": [
      "<class 'pandas.core.frame.DataFrame'>\n",
      "RangeIndex: 1048572 entries, 0 to 1048571\n",
      "Data columns (total 6 columns):\n",
      " #   Column              Non-Null Count    Dtype \n",
      "---  ------              --------------    ----- \n",
      " 0   polarity of tweet   1048572 non-null  int64 \n",
      " 1   id of the tweet     1048572 non-null  int64 \n",
      " 2   date of the tweet   1048572 non-null  object\n",
      " 3   query               1048572 non-null  object\n",
      " 4   user                1048572 non-null  object\n",
      " 5   text of the tweet   1048572 non-null  object\n",
      "dtypes: int64(2), object(4)\n",
      "memory usage: 48.0+ MB\n"
     ]
    },
    {
     "data": {
      "text/plain": [
       "None"
      ]
     },
     "metadata": {},
     "output_type": "display_data"
    }
   ],
   "source": [
    "df4 = pd.read_csv(path4, encoding=\"iso-8859-1\")\n",
    "display(df4.sample(5))\n",
    "display(df4.shape)\n",
    "display(df4.columns)\n",
    "display(df4.info())"
   ]
  },
  {
   "cell_type": "markdown",
   "id": "73909d08",
   "metadata": {},
   "source": [
    "### Social Media Sentiments Analysis Datas"
   ]
  },
  {
   "cell_type": "code",
   "execution_count": 9,
   "id": "437a1cba",
   "metadata": {},
   "outputs": [
    {
     "name": "stdout",
     "output_type": "stream",
     "text": [
      "Warning: Looks like you're using an outdated `kagglehub` version (installed: 0.3.12), please consider upgrading to the latest version (0.3.13).\n",
      "Path to dataset files: C:\\Users\\Maddox\\.cache\\kagglehub\\datasets\\kashishparmar02\\social-media-sentiments-analysis-dataset\\versions\\3\n"
     ]
    }
   ],
   "source": [
    "import kagglehub\n",
    "\n",
    "# Download latest version\n",
    "path = kagglehub.dataset_download(\"kashishparmar02/social-media-sentiments-analysis-dataset\")\n",
    "\n",
    "print(\"Path to dataset files:\", path)"
   ]
  },
  {
   "cell_type": "code",
   "execution_count": 10,
   "id": "77a7681f",
   "metadata": {},
   "outputs": [
    {
     "data": {
      "text/plain": [
       "['sentimentdataset.csv']"
      ]
     },
     "execution_count": 10,
     "metadata": {},
     "output_type": "execute_result"
    }
   ],
   "source": [
    "files = os.listdir(path)\n",
    "files"
   ]
  },
  {
   "cell_type": "code",
   "execution_count": 11,
   "id": "5378fd6d",
   "metadata": {},
   "outputs": [
    {
     "data": {
      "text/plain": [
       "'C:\\\\Users\\\\Maddox\\\\.cache\\\\kagglehub\\\\datasets\\\\kashishparmar02\\\\social-media-sentiments-analysis-dataset\\\\versions\\\\3/sentimentdataset.csv'"
      ]
     },
     "execution_count": 11,
     "metadata": {},
     "output_type": "execute_result"
    }
   ],
   "source": [
    "path5=path+'/'+files[0]\n",
    "path5"
   ]
  },
  {
   "cell_type": "code",
   "execution_count": 12,
   "id": "678aa582",
   "metadata": {},
   "outputs": [
    {
     "data": {
      "text/plain": [
       "(732, 15)"
      ]
     },
     "execution_count": 12,
     "metadata": {},
     "output_type": "execute_result"
    }
   ],
   "source": [
    "df_SM=pd.read_csv(path5)\n",
    "df_SM.shape"
   ]
  },
  {
   "cell_type": "code",
   "execution_count": 13,
   "id": "17f3a261",
   "metadata": {},
   "outputs": [
    {
     "name": "stdout",
     "output_type": "stream",
     "text": [
      "<class 'pandas.core.frame.DataFrame'>\n",
      "RangeIndex: 732 entries, 0 to 731\n",
      "Data columns (total 15 columns):\n",
      " #   Column        Non-Null Count  Dtype  \n",
      "---  ------        --------------  -----  \n",
      " 0   Unnamed: 0.1  732 non-null    int64  \n",
      " 1   Unnamed: 0    732 non-null    int64  \n",
      " 2   Text          732 non-null    object \n",
      " 3   Sentiment     732 non-null    object \n",
      " 4   Timestamp     732 non-null    object \n",
      " 5   User          732 non-null    object \n",
      " 6   Platform      732 non-null    object \n",
      " 7   Hashtags      732 non-null    object \n",
      " 8   Retweets      732 non-null    float64\n",
      " 9   Likes         732 non-null    float64\n",
      " 10  Country       732 non-null    object \n",
      " 11  Year          732 non-null    int64  \n",
      " 12  Month         732 non-null    int64  \n",
      " 13  Day           732 non-null    int64  \n",
      " 14  Hour          732 non-null    int64  \n",
      "dtypes: float64(2), int64(6), object(7)\n",
      "memory usage: 85.9+ KB\n"
     ]
    }
   ],
   "source": [
    "df_SM.info()"
   ]
  },
  {
   "cell_type": "code",
   "execution_count": 14,
   "id": "1ffa5880",
   "metadata": {},
   "outputs": [
    {
     "data": {
      "application/vnd.microsoft.datawrangler.viewer.v0+json": {
       "columns": [
        {
         "name": "index",
         "rawType": "int64",
         "type": "integer"
        },
        {
         "name": "Unnamed: 0.1",
         "rawType": "int64",
         "type": "integer"
        },
        {
         "name": "Unnamed: 0",
         "rawType": "int64",
         "type": "integer"
        },
        {
         "name": "Text",
         "rawType": "object",
         "type": "string"
        },
        {
         "name": "Sentiment",
         "rawType": "object",
         "type": "string"
        },
        {
         "name": "Timestamp",
         "rawType": "object",
         "type": "string"
        },
        {
         "name": "User",
         "rawType": "object",
         "type": "string"
        },
        {
         "name": "Platform",
         "rawType": "object",
         "type": "string"
        },
        {
         "name": "Hashtags",
         "rawType": "object",
         "type": "string"
        },
        {
         "name": "Retweets",
         "rawType": "float64",
         "type": "float"
        },
        {
         "name": "Likes",
         "rawType": "float64",
         "type": "float"
        },
        {
         "name": "Country",
         "rawType": "object",
         "type": "string"
        },
        {
         "name": "Year",
         "rawType": "int64",
         "type": "integer"
        },
        {
         "name": "Month",
         "rawType": "int64",
         "type": "integer"
        },
        {
         "name": "Day",
         "rawType": "int64",
         "type": "integer"
        },
        {
         "name": "Hour",
         "rawType": "int64",
         "type": "integer"
        }
       ],
       "ref": "e033ee99-afbf-4fc4-9d5a-696e36324ada",
       "rows": [
        [
         "705",
         "706",
         "710",
         "Organizing a community cleanup event for a cleaner neighborhood. Promoting environmental awareness. ",
         " Neutral ",
         "2023-10-03 12:30:00",
         " CommunityCleanupHighSchool ",
         " Twitter ",
         " #EnvironmentalEfforts #HighSchoolCommunity ",
         "26.0",
         "50.0",
         " Canada",
         "2023",
         "10",
         "3",
         "12"
        ],
        [
         "228",
         "229",
         "233",
         " An impenetrable numbness shields me from the emotional storms, a fortress of stoic resilience. ",
         " Numbness        ",
         "2019-10-18 14:30:00",
         " ResilientFortress ",
         " Twitter  ",
         " #Numbness #StoicResilience               ",
         "11.0",
         "22.0",
         " UK            ",
         "2019",
         "10",
         "18",
         "14"
        ]
       ],
       "shape": {
        "columns": 15,
        "rows": 2
       }
      },
      "text/html": [
       "<div>\n",
       "<style scoped>\n",
       "    .dataframe tbody tr th:only-of-type {\n",
       "        vertical-align: middle;\n",
       "    }\n",
       "\n",
       "    .dataframe tbody tr th {\n",
       "        vertical-align: top;\n",
       "    }\n",
       "\n",
       "    .dataframe thead th {\n",
       "        text-align: right;\n",
       "    }\n",
       "</style>\n",
       "<table border=\"1\" class=\"dataframe\">\n",
       "  <thead>\n",
       "    <tr style=\"text-align: right;\">\n",
       "      <th></th>\n",
       "      <th>Unnamed: 0.1</th>\n",
       "      <th>Unnamed: 0</th>\n",
       "      <th>Text</th>\n",
       "      <th>Sentiment</th>\n",
       "      <th>Timestamp</th>\n",
       "      <th>User</th>\n",
       "      <th>Platform</th>\n",
       "      <th>Hashtags</th>\n",
       "      <th>Retweets</th>\n",
       "      <th>Likes</th>\n",
       "      <th>Country</th>\n",
       "      <th>Year</th>\n",
       "      <th>Month</th>\n",
       "      <th>Day</th>\n",
       "      <th>Hour</th>\n",
       "    </tr>\n",
       "  </thead>\n",
       "  <tbody>\n",
       "    <tr>\n",
       "      <th>705</th>\n",
       "      <td>706</td>\n",
       "      <td>710</td>\n",
       "      <td>Organizing a community cleanup event for a cle...</td>\n",
       "      <td>Neutral</td>\n",
       "      <td>2023-10-03 12:30:00</td>\n",
       "      <td>CommunityCleanupHighSchool</td>\n",
       "      <td>Twitter</td>\n",
       "      <td>#EnvironmentalEfforts #HighSchoolCommunity</td>\n",
       "      <td>26.0</td>\n",
       "      <td>50.0</td>\n",
       "      <td>Canada</td>\n",
       "      <td>2023</td>\n",
       "      <td>10</td>\n",
       "      <td>3</td>\n",
       "      <td>12</td>\n",
       "    </tr>\n",
       "    <tr>\n",
       "      <th>228</th>\n",
       "      <td>229</td>\n",
       "      <td>233</td>\n",
       "      <td>An impenetrable numbness shields me from the ...</td>\n",
       "      <td>Numbness</td>\n",
       "      <td>2019-10-18 14:30:00</td>\n",
       "      <td>ResilientFortress</td>\n",
       "      <td>Twitter</td>\n",
       "      <td>#Numbness #StoicResilience</td>\n",
       "      <td>11.0</td>\n",
       "      <td>22.0</td>\n",
       "      <td>UK</td>\n",
       "      <td>2019</td>\n",
       "      <td>10</td>\n",
       "      <td>18</td>\n",
       "      <td>14</td>\n",
       "    </tr>\n",
       "  </tbody>\n",
       "</table>\n",
       "</div>"
      ],
      "text/plain": [
       "     Unnamed: 0.1  Unnamed: 0  \\\n",
       "705           706         710   \n",
       "228           229         233   \n",
       "\n",
       "                                                  Text          Sentiment  \\\n",
       "705  Organizing a community cleanup event for a cle...           Neutral    \n",
       "228   An impenetrable numbness shields me from the ...   Numbness           \n",
       "\n",
       "               Timestamp                          User    Platform  \\\n",
       "705  2023-10-03 12:30:00   CommunityCleanupHighSchool     Twitter    \n",
       "228  2019-10-18 14:30:00            ResilientFortress    Twitter     \n",
       "\n",
       "                                         Hashtags  Retweets  Likes  \\\n",
       "705   #EnvironmentalEfforts #HighSchoolCommunity       26.0   50.0   \n",
       "228     #Numbness #StoicResilience                     11.0   22.0   \n",
       "\n",
       "             Country  Year  Month  Day  Hour  \n",
       "705           Canada  2023     10    3    12  \n",
       "228   UK              2019     10   18    14  "
      ]
     },
     "execution_count": 14,
     "metadata": {},
     "output_type": "execute_result"
    }
   ],
   "source": [
    "df_SM.sample(2)"
   ]
  },
  {
   "cell_type": "code",
   "execution_count": 15,
   "id": "42e58309",
   "metadata": {},
   "outputs": [
    {
     "data": {
      "application/vnd.microsoft.datawrangler.viewer.v0+json": {
       "columns": [
        {
         "name": "Sentiment",
         "rawType": "object",
         "type": "string"
        },
        {
         "name": "count",
         "rawType": "int64",
         "type": "integer"
        }
       ],
       "ref": "b2873c61-81ed-4088-9202-a7f6caa0e48b",
       "rows": [
        [
         " Positive  ",
         "44"
        ],
        [
         " Joy ",
         "42"
        ],
        [
         " Excitement ",
         "32"
        ],
        [
         " Happy ",
         "14"
        ],
        [
         " Neutral ",
         "14"
        ],
        [
         " Contentment ",
         "14"
        ],
        [
         " Gratitude ",
         "9"
        ],
        [
         " Hopeful ",
         "9"
        ],
        [
         " Sad ",
         "9"
        ],
        [
         " Curiosity ",
         "8"
        ],
        [
         " Embarrassed ",
         "8"
        ],
        [
         " Loneliness ",
         "7"
        ],
        [
         " Elation       ",
         "6"
        ],
        [
         " Despair ",
         "6"
        ],
        [
         " Playful ",
         "6"
        ],
        [
         " Bad ",
         "6"
        ],
        [
         " Hate ",
         "6"
        ],
        [
         " Serenity      ",
         "5"
        ],
        [
         " Gratitude     ",
         "5"
        ],
        [
         " Contentment   ",
         "5"
        ],
        [
         " Empowerment   ",
         "5"
        ],
        [
         " Confusion       ",
         "5"
        ],
        [
         " Numbness        ",
         "5"
        ],
        [
         " Melancholy      ",
         "5"
        ],
        [
         " Nostalgia       ",
         "5"
        ],
        [
         " Ambivalence     ",
         "5"
        ],
        [
         " Indifference    ",
         "5"
        ],
        [
         " Curiosity       ",
         "5"
        ],
        [
         " Determination   ",
         "5"
        ],
        [
         " Inspired ",
         "5"
        ],
        [
         " Frustrated ",
         "5"
        ],
        [
         " Serenity        ",
         "5"
        ],
        [
         " Acceptance      ",
         "5"
        ],
        [
         " Enthusiasm    ",
         "5"
        ],
        [
         " Bitterness ",
         "5"
        ],
        [
         " Negative  ",
         "4"
        ],
        [
         " Neutral   ",
         "4"
        ],
        [
         " Nostalgia ",
         "4"
        ],
        [
         " Desolation ",
         "4"
        ],
        [
         " Grief ",
         "4"
        ],
        [
         " Betrayal ",
         "4"
        ],
        [
         " Excitement   ",
         "4"
        ],
        [
         " Awe ",
         "4"
        ],
        [
         " Hope          ",
         "4"
        ],
        [
         " Euphoria      ",
         "4"
        ],
        [
         " Grateful ",
         "4"
        ],
        [
         " Proud ",
         "4"
        ],
        [
         " Serenity ",
         "4"
        ],
        [
         " Compassionate ",
         "4"
        ],
        [
         " Inspiration ",
         "4"
        ]
       ],
       "shape": {
        "columns": 1,
        "rows": 279
       }
      },
      "text/plain": [
       "Sentiment\n",
       "Positive               44\n",
       "Joy                    42\n",
       "Excitement             32\n",
       "Happy                  14\n",
       "Neutral                14\n",
       "                       ..\n",
       "Vibrancy                1\n",
       "Culinary Adventure      1\n",
       "Mesmerizing             1\n",
       "Thrilling Journey       1\n",
       "Winter Magic            1\n",
       "Name: count, Length: 279, dtype: int64"
      ]
     },
     "execution_count": 15,
     "metadata": {},
     "output_type": "execute_result"
    }
   ],
   "source": [
    "df_SM['Sentiment'].value_counts()\n"
   ]
  },
  {
   "cell_type": "markdown",
   "id": "360867b3",
   "metadata": {},
   "source": [
    "# **Data.World**"
   ]
  },
  {
   "cell_type": "markdown",
   "id": "7fd2049d",
   "metadata": {},
   "source": [
    "### Brands and Product Emotions"
   ]
  },
  {
   "cell_type": "code",
   "execution_count": 16,
   "id": "21bf2818",
   "metadata": {},
   "outputs": [],
   "source": [
    "import pandas as pd\n",
    "df = pd.read_csv('https://query.data.world/s/k64uuin6zje2i6f4rjyy6uivhxht7f?dws=00000', encoding='latin1')"
   ]
  },
  {
   "cell_type": "code",
   "execution_count": 17,
   "id": "107175e8",
   "metadata": {},
   "outputs": [
    {
     "data": {
      "application/vnd.microsoft.datawrangler.viewer.v0+json": {
       "columns": [
        {
         "name": "index",
         "rawType": "int64",
         "type": "integer"
        },
        {
         "name": "tweet_text",
         "rawType": "object",
         "type": "string"
        },
        {
         "name": "emotion_in_tweet_is_directed_at",
         "rawType": "object",
         "type": "unknown"
        },
        {
         "name": "is_there_an_emotion_directed_at_a_brand_or_product",
         "rawType": "object",
         "type": "string"
        }
       ],
       "ref": "c6c43531-20c8-451d-ad6f-3be48aa485f8",
       "rows": [
        [
         "2992",
         "An engineer from Google Chrome just came up to correct some misstatements about the browser. Awesome! #payingwithdata #sxsw",
         "Google",
         "Positive emotion"
        ],
        [
         "9070",
         "You know you've made it to #sxsw when you see a bunch of grown men hooting over getting the iPad 2",
         "iPad",
         "Positive emotion"
        ],
        [
         "1212",
         "Not going to #SXSW ? Doesnt matter, its not the only place giving away #Apple products :) {link}",
         null,
         "No emotion toward brand or product"
        ],
        [
         "5173",
         "RT @mention &quot;credit card companies know with 98% accuracy 2 yrs before that you're going to get divorced&quot;  @mention at #sxsw {link}",
         null,
         "No emotion toward brand or product"
        ],
        [
         "1109",
         "ÛÏ@mention Stop by and let us make you a custom iPhone case! #zazzlesxsw #Sxsw #sxswi {link}  {link}",
         null,
         "No emotion toward brand or product"
        ]
       ],
       "shape": {
        "columns": 3,
        "rows": 5
       }
      },
      "text/html": [
       "<div>\n",
       "<style scoped>\n",
       "    .dataframe tbody tr th:only-of-type {\n",
       "        vertical-align: middle;\n",
       "    }\n",
       "\n",
       "    .dataframe tbody tr th {\n",
       "        vertical-align: top;\n",
       "    }\n",
       "\n",
       "    .dataframe thead th {\n",
       "        text-align: right;\n",
       "    }\n",
       "</style>\n",
       "<table border=\"1\" class=\"dataframe\">\n",
       "  <thead>\n",
       "    <tr style=\"text-align: right;\">\n",
       "      <th></th>\n",
       "      <th>tweet_text</th>\n",
       "      <th>emotion_in_tweet_is_directed_at</th>\n",
       "      <th>is_there_an_emotion_directed_at_a_brand_or_product</th>\n",
       "    </tr>\n",
       "  </thead>\n",
       "  <tbody>\n",
       "    <tr>\n",
       "      <th>2992</th>\n",
       "      <td>An engineer from Google Chrome just came up to...</td>\n",
       "      <td>Google</td>\n",
       "      <td>Positive emotion</td>\n",
       "    </tr>\n",
       "    <tr>\n",
       "      <th>9070</th>\n",
       "      <td>You know you've made it to #sxsw when you see ...</td>\n",
       "      <td>iPad</td>\n",
       "      <td>Positive emotion</td>\n",
       "    </tr>\n",
       "    <tr>\n",
       "      <th>1212</th>\n",
       "      <td>Not going to #SXSW ? Doesnt matter, its not th...</td>\n",
       "      <td>NaN</td>\n",
       "      <td>No emotion toward brand or product</td>\n",
       "    </tr>\n",
       "    <tr>\n",
       "      <th>5173</th>\n",
       "      <td>RT @mention &amp;quot;credit card companies know w...</td>\n",
       "      <td>NaN</td>\n",
       "      <td>No emotion toward brand or product</td>\n",
       "    </tr>\n",
       "    <tr>\n",
       "      <th>1109</th>\n",
       "      <td>ÛÏ@mention Stop by and let us make you a cust...</td>\n",
       "      <td>NaN</td>\n",
       "      <td>No emotion toward brand or product</td>\n",
       "    </tr>\n",
       "  </tbody>\n",
       "</table>\n",
       "</div>"
      ],
      "text/plain": [
       "                                             tweet_text  \\\n",
       "2992  An engineer from Google Chrome just came up to...   \n",
       "9070  You know you've made it to #sxsw when you see ...   \n",
       "1212  Not going to #SXSW ? Doesnt matter, its not th...   \n",
       "5173  RT @mention &quot;credit card companies know w...   \n",
       "1109  ÛÏ@mention Stop by and let us make you a cust...   \n",
       "\n",
       "     emotion_in_tweet_is_directed_at  \\\n",
       "2992                          Google   \n",
       "9070                            iPad   \n",
       "1212                             NaN   \n",
       "5173                             NaN   \n",
       "1109                             NaN   \n",
       "\n",
       "     is_there_an_emotion_directed_at_a_brand_or_product  \n",
       "2992                                   Positive emotion  \n",
       "9070                                   Positive emotion  \n",
       "1212                 No emotion toward brand or product  \n",
       "5173                 No emotion toward brand or product  \n",
       "1109                 No emotion toward brand or product  "
      ]
     },
     "execution_count": 17,
     "metadata": {},
     "output_type": "execute_result"
    }
   ],
   "source": [
    "df.sample(5)"
   ]
  },
  {
   "cell_type": "code",
   "execution_count": 18,
   "id": "0c6b4ef4",
   "metadata": {},
   "outputs": [
    {
     "data": {
      "text/plain": [
       "Index(['tweet_text', 'emotion_in_tweet_is_directed_at',\n",
       "       'is_there_an_emotion_directed_at_a_brand_or_product'],\n",
       "      dtype='object')"
      ]
     },
     "execution_count": 18,
     "metadata": {},
     "output_type": "execute_result"
    }
   ],
   "source": [
    "df.columns"
   ]
  },
  {
   "cell_type": "code",
   "execution_count": 19,
   "id": "0357bc9d",
   "metadata": {},
   "outputs": [
    {
     "data": {
      "text/plain": [
       "array(['Negative emotion', 'Positive emotion',\n",
       "       'No emotion toward brand or product', \"I can't tell\"], dtype=object)"
      ]
     },
     "execution_count": 19,
     "metadata": {},
     "output_type": "execute_result"
    }
   ],
   "source": [
    "df['is_there_an_emotion_directed_at_a_brand_or_product'].unique()"
   ]
  },
  {
   "cell_type": "code",
   "execution_count": 20,
   "id": "f27da2d1",
   "metadata": {},
   "outputs": [
    {
     "data": {
      "text/plain": [
       "(9093, 3)"
      ]
     },
     "execution_count": 20,
     "metadata": {},
     "output_type": "execute_result"
    }
   ],
   "source": [
    "df.shape"
   ]
  },
  {
   "cell_type": "markdown",
   "id": "285075ba",
   "metadata": {},
   "source": [
    "### Hotel Reviews ID: datafiniti/hotel-reviews"
   ]
  },
  {
   "cell_type": "code",
   "execution_count": 21,
   "id": "a0fdfa60",
   "metadata": {},
   "outputs": [],
   "source": [
    "df_last = pd.read_csv('https://query.data.world/s/luduvvjmvb2wmk6joeqaabzpohaesg?dws=00000',encoding='latin1' )"
   ]
  },
  {
   "cell_type": "code",
   "execution_count": 22,
   "id": "78447e28",
   "metadata": {},
   "outputs": [
    {
     "data": {
      "text/plain": [
       "(10000, 25)"
      ]
     },
     "execution_count": 22,
     "metadata": {},
     "output_type": "execute_result"
    }
   ],
   "source": [
    "df_last.shape"
   ]
  },
  {
   "cell_type": "code",
   "execution_count": 23,
   "id": "8c3de171",
   "metadata": {},
   "outputs": [
    {
     "data": {
      "application/vnd.microsoft.datawrangler.viewer.v0+json": {
       "columns": [
        {
         "name": "index",
         "rawType": "int64",
         "type": "integer"
        },
        {
         "name": "ï»¿id",
         "rawType": "object",
         "type": "string"
        },
        {
         "name": "dateAdded",
         "rawType": "object",
         "type": "string"
        },
        {
         "name": "dateUpdated",
         "rawType": "object",
         "type": "string"
        },
        {
         "name": "address",
         "rawType": "object",
         "type": "string"
        },
        {
         "name": "categories",
         "rawType": "object",
         "type": "string"
        },
        {
         "name": "primaryCategories",
         "rawType": "object",
         "type": "string"
        },
        {
         "name": "city",
         "rawType": "object",
         "type": "string"
        },
        {
         "name": "country",
         "rawType": "object",
         "type": "string"
        },
        {
         "name": "keys",
         "rawType": "object",
         "type": "string"
        },
        {
         "name": "latitude",
         "rawType": "float64",
         "type": "float"
        },
        {
         "name": "longitude",
         "rawType": "float64",
         "type": "float"
        },
        {
         "name": "name",
         "rawType": "object",
         "type": "string"
        },
        {
         "name": "postalCode",
         "rawType": "object",
         "type": "string"
        },
        {
         "name": "province",
         "rawType": "object",
         "type": "string"
        },
        {
         "name": "reviews.date",
         "rawType": "object",
         "type": "string"
        },
        {
         "name": "reviews.dateSeen",
         "rawType": "object",
         "type": "string"
        },
        {
         "name": "reviews.rating",
         "rawType": "float64",
         "type": "float"
        },
        {
         "name": "reviews.sourceURLs",
         "rawType": "object",
         "type": "string"
        },
        {
         "name": "reviews.text",
         "rawType": "object",
         "type": "string"
        },
        {
         "name": "reviews.title",
         "rawType": "object",
         "type": "string"
        },
        {
         "name": "reviews.userCity",
         "rawType": "object",
         "type": "unknown"
        },
        {
         "name": "reviews.userProvince",
         "rawType": "object",
         "type": "unknown"
        },
        {
         "name": "reviews.username",
         "rawType": "object",
         "type": "string"
        },
        {
         "name": "sourceURLs",
         "rawType": "object",
         "type": "string"
        },
        {
         "name": "websites",
         "rawType": "object",
         "type": "string"
        }
       ],
       "ref": "254a2ccb-6396-46f7-82fc-6c8098320032",
       "rows": [
        [
         "7307",
         "AVwchf6wIN2L1WUfl4Ez",
         "2015-07-09T09:59:13Z",
         "2018-01-30T06:28:30Z",
         "401 Lenora St",
         "Hotel,Resort,Hotels Motels,Business Hotels",
         "Accommodation & Food Services",
         "Seattle",
         "US",
         "us/wa/seattle/401lenorast/-943527794",
         "47.613903",
         "-122.340904",
         "Warwick Seattle Hotel",
         "98121",
         "WA",
         "2015-06-12T05:00:00Z",
         "2015-07-08T00:00:00Z",
         "5.0",
         "http://www.tripadvisor.com/Hotel_Review-g60878-d100505-Reviews-or20-Warwick_Seattle_Hotel-Seattle_Washington.html%25252523REVIEWS",
         "Stayed two nights with two girlfriends in a room with 2 queen beds. Elkey on the front desk was very friendly on our arrival, and even sent a bottle of cava to our room to celebrate my friends' birthdays! Bellman (Argentinian, as I recall) was very helpful with directions and suggestions. Our room met our needs perfectly! Beds sooo comfy... More",
         "Girlfriends getaway...great locale, very comforable stay!",
         null,
         null,
         "KAS001",
         "https://foursquare.com/v/warwick-seattle-hotel/440b6aedf964a52078301fe3,https://foursquare.com/v/warwick-seattle-hotel/440b6aedf964a52078301fe3/menu,http://www.citysearch.com/profile/10796792/seattle_wa/warwick_seattle_hotel.html,http://www.tripadvisor.com/Hotel_Review-g60878-d100505-Reviews-or80-Warwick_Seattle_Hotel-Seattle_Washington.html%25252523REVIEWS",
         "http://www.warwickmelrosedallas.com"
        ],
        [
         "3279",
         "AWIYGr06IxWefVJwzU-7",
         "2018-03-12T01:20:57Z",
         "2018-05-28T16:18:29Z",
         "1516 Aero Dr",
         "Hotels,Hotel",
         "Accommodation & Food Services",
         "Linthicum Heights",
         "US",
         "us/md/linthicumheights/1516aerodr/7992643",
         "39.210072",
         "-76.677158",
         "Hilton Garden Inn BWI Airport",
         "21090",
         "MD",
         "2008-05-08T00:00:00.000Z",
         "2018-03-09T00:00:00Z",
         "2.0",
         "http://www.expedia.com/Hotels.h794942-p109.Hotel-Reviews",
         "Check in was quick. Room was clean. About 11pm we called to the front desk for a blanket. 15 minutes later, still not there. We called back to the front desk, to inquire as to the blankets location. We were then told they did not have available staff to bring it up. I went to the front desk to retrieve it. Surprise, 2 people at the desk. The next morning I called for some towels. 20 minutes later, called again. Another 20 minutes, we were sharing towels. They never showed. One of the adults in our party found bed bugs! I went down to the front desk and asked for a manager. He did not want to come out of his room, stating he didn't get back to his room until very late. After some insistance, he showed up. His answer was to give me a 10 gift card to Target. I like most of the Garden Inns we have stayed at. This one will never see me again.",
         "Bring your own towels and some bug spray",
         null,
         null,
         "A verified traveler",
         "http://www.expedia.com/Hotels.h794942-p103.Hotel-Reviews,http://www.expedia.com/Hotels.h794942-p96.Hotel-Reviews,http://www.expedia.com/Hotels.h794942-p54.Hotel-Reviews,http://www.expedia.com/Hotels.h794942-p12.Hotel-Reviews,http://www.expedia.com/Hotels.h794942-p4.Hotel-Reviews,http://www.expedia.com/Hotels.h794942-p33.Hotel-Reviews,http://www.expedia.com/Hotels.h794942-p75.Hotel-Reviews,http://www.expedia.com/Hotels.h794942-p115.Hotel-Reviews,http://www.expedia.com/Hotels.h794942-p17.Hotel-Reviews,http://www.expedia.com/Hotels.h794942-p38.Hotel-Reviews,http://www.expedia.com/Hotels.h794942-p59.Hotel-Reviews,http://www.expedia.com/Hotels.h794942-p82.Hotel-Reviews,http://www.expedia.com/Hotels.h794942-p7.Hotel-Reviews,http://www.expedia.com/Hotels.h794942-p61.Hotel-Reviews,http://www.expedia.com/Hotels.h794942-p40.Hotel-Reviews,http://www.expedia.com/Hotels.h794942-p117.Hotel-Reviews,http://www.expedia.com/Hotels.h794942-p106.Hotel-Reviews,http://www.expedia.com/Hotels.h794942-p87.Hotel-Reviews,http://www.expedia.com/Hotels.h794942-p45.Hotel-Reviews,http://www.expedia.com/Hotels.h794942-p29.Hotel-Reviews,http://www.expedia.com/Hotels.h794942-p66.Hotel-Reviews,http://www.expedia.com/Hotels.h794942-p101.Hotel-Reviews,http://www.expedia.com/Hotels.h794942-p93.Hotel-Reviews,http://www.expedia.com/Hotels.h794942-p72.Hotel-Reviews,http://www.expedia.com/Hotels.h794942-p51.Hotel-Reviews,http://www.expedia.com/Hotels.h794942-p30.Hotel-Reviews,http://www.expedia.com/Hotels.h794942-p112.Hotel-Reviews,http://www.expedia.com/Hotels.h794942-p2.Hotel-Reviews,http://www.expedia.com/Hotels.h794942-p24.Hotel-Reviews,http://www.expedia.com/Hotels.h794942-p98.Hotel-Reviews,http://www.expedia.com/Hotels.h794942-p77.Hotel-Reviews,http://www.expedia.com/Hotels.h794942-p56.Hotel-Reviews,http://www.expedia.com/Hotels.h794942-p22.Hotel-Reviews,http://www.expedia.com/Hotels.h794942-p118.Hotel-Reviews,http://www.expedia.com/Hotels.h794942.Hotel-Information?chkin=4/6/2018&chkout=4/7/2018%2526rm1%253Da2%2526status%253DdateCheck,http://www.expedia.com/Hotels.h794942-p35.Hotel-Reviews,http://www.expedia.com/Hotels.h794942-p14.Hotel-Reviews,http://www.expedia.com/Hotels.h794942-p57.Hotel-Reviews,http://www.expedia.com/Hotels.h794942-p36.Hotel-Reviews,http://www.expedia.com/Hotels.h794942-p105.Hotel-Reviews,http://www.expedia.com/Hotels.h794942-p99.Hotel-Reviews,http://www.expedia.com/Hotels.h794942-p78.Hotel-Reviews,http://www.expedia.com/Hotels.h794942-p86.Hotel-Reviews,http://www.expedia.com/Hotels.h794942-p65.Hotel-Reviews,http://www.expedia.com/Hotels.h794942-p44.Hotel-Reviews,http://www.expedia.com/Hotels.h794942-p23.Hotel-Reviews,http://www.expedia.com/Hotels.h794942-p84.Hotel-Reviews,http://www.expedia.com/Hotels.h794942-p63.Hotel-Reviews,http://www.expedia.com/Hotels.h794942-p21.Hotel-Reviews,http://www.expedia.com/Hotels.h794942-p92.Hotel-Reviews,http://www.expedia.com/Hotels.h794942-p110.Hotel-Reviews,http://www.expedia.com/Hotels.h794942-p104.Hotel-Reviews,http://www.expedia.com/Hotels.h794942-p42.Hotel-Reviews,http://www.expedia.com/Hotels.h794942-p15.Hotel-Reviews,http://www.expedia.com/Hotels.h794942-p37.Hotel-Reviews,http://www.expedia.com/Hotels.h794942-p16.Hotel-Reviews,http://www.expedia.com/Hotels.h794942-p79.Hotel-Reviews,http://www.expedia.com/Hotels.h794942-p58.Hotel-Reviews,http://www.expedia.com/Hotels.h794942-p9.Hotel-Reviews,http://www.expedia.com/Hotels.h794942-p119.Hotel-Reviews,http://www.expedia.com/Hotels.h794942-p64.Hotel-Reviews,http://www.expedia.com/Hotels.h794942-p43.Hotel-Reviews,http://www.expedia.com/Hotels.h794942-p70.Hotel-Reviews,http://www.expedia.com/Hotels.h794942-p85.Hotel-Reviews,http://www.expedia.com/Hotels.h794942.Hotel-Information,http://www.expedia.com/Hotels.h794942-p91.Hotel-Reviews,http://www.expedia.com/Hotels.h794942-p111.Hotel-Reviews,http://www.expedia.com/Hotels.h794942-p116.Hotel-Reviews,http://www.expedia.com/Hotels.h794942.Hotel-Reviews,http://www.expedia.com/Hotels.h794942-p62.Hotel-Reviews,http://www.expedia.com/Hotels.h794942-p83.Hotel-Reviews,http://www.expedia.com/Hotels.h794942-p88.Hotel-Reviews,http://www.expedia.com/Hotels.h794942-p41.Hotel-Reviews,http://www.expedia.com/Hotels.h794942-p20.Hotel-Reviews,http://www.expedia.com/Hotels.h794942-p3.Hotel-Reviews,http://www.expedia.com/Hotels.h794942-p67.Hotel-Reviews,http://www.expedia.com/Hotels.h794942-p8.Hotel-Reviews,http://www.expedia.com/Hotels.h794942-p46.Hotel-Reviews,https://foursquare.com/v/hilton-garden-inn-bwi-airport/4ad4c013f964a5202def20e3,http://www.expedia.com/Hotels.h794942-p90.Hotel-Reviews,http://www.expedia.com/Hotels.h794942-p25.Hotel-Reviews,http://www.expedia.com/Hotels.h794942-p71.Hotel-Reviews,http://www.expedia.com/Hotels.h794942-p50.Hotel-Reviews,http://www.expedia.com/Hotels.h794942-p107.Hotel-Reviews,http://www.expedia.com/Hotels.h794942-p55.Hotel-Reviews,http://www.expedia.com/Hotels.h794942-p13.Hotel-Reviews,http://www.expedia.com/Hotels.h794942-p97.Hotel-Reviews,http://www.expedia.com/Hotels.h794942-p76.Hotel-Reviews,http://www.expedia.com/Hotels.h794942-p49.Hotel-Reviews,http://www.expedia.com/Hotels.h794942-p28.Hotel-Reviews,http://www.expedia.com/Hotels.h794942-p102.Hotel-Reviews,http://www.expedia.com/Hotels.h794942-p34.Hotel-Reviews,http://www.expedia.com/Hotels.h794942-p39.Hotel-Reviews,http://www.expedia.com/Hotels.h794942-p18.Hotel-Reviews,http://www.expedia.com/Hotels.h794942-p19.Hotel-Reviews,http://www.expedia.com/Hotels.h794942-p48.Hotel-Reviews,http://www.expedia.com/Hotels.h794942-p27.Hotel-Reviews,http://www.expedia.com/Hotels.h794942-p80.Hotel-Reviews,http://www.expedia.com/Hotels.h794942-p69.Hotel-Reviews,http://www.expedia.com/Hotels.h794942-p6.Hotel-Reviews,http://www.expedia.com/Hotels.h794942-p60.Hotel-Reviews,http://www.expedia.com/Hotels.h794942-p94.Hotel-Reviews,http://www.expedia.com/Hotels.h794942-p31.Hotel-Reviews,http://www.expedia.com/Hotels.h794942-p10.Hotel-Reviews,http://www.expedia.com/Hotels.h794942-p100.Hotel-Reviews,http://www.expedia.com/Hotels.h794942-p73.Hotel-Reviews,http://www.expedia.com/Hotels.h794942-p52.Hotel-Reviews,http://www.expedia.com/Hotels.h794942-p121.Hotel-Reviews,http://www.expedia.com/Hotels.h794942-p113.Hotel-Reviews,http://www.expedia.com/Hotels.h794942-p68.Hotel-Reviews,http://www.expedia.com/Hotels.h794942-p47.Hotel-Reviews,http://www.expedia.com/Hotels.h794942-p26.Hotel-Reviews,http://www.expedia.com/Hotels.h794942-p109.Hotel-Reviews,http://www.expedia.com/Hotels.h794942-p89.Hotel-Reviews,http://www.expedia.com/Hotels.h794942-p5.Hotel-Reviews,http://www.expedia.com/Hotels.h794942-p95.Hotel-Reviews,http://www.expedia.com/Hotels.h794942-p81.Hotel-Reviews,http://www.expedia.com/Hotels.h794942-p114.Hotel-Reviews,http://www.expedia.com/Hotels.h794942-p74.Hotel-Reviews,http://www.expedia.com/Hotels.h794942-p32.Hotel-Reviews,http://www.expedia.com/Hotels.h794942-p11.Hotel-Reviews,http://www.expedia.com/Hotels.h794942-p53.Hotel-Reviews,http://www.expedia.com/Hotels.h794942-p120.Hotel-Reviews,http://www.expedia.com/Hotels.h794942-p108.Hotel-Reviews",
         "http://hiltongardeninn3.hilton.com/en/hotels/maryland/hilton-garden-inn-bwi-airport-BWIAHGI/index.html"
        ]
       ],
       "shape": {
        "columns": 25,
        "rows": 2
       }
      },
      "text/html": [
       "<div>\n",
       "<style scoped>\n",
       "    .dataframe tbody tr th:only-of-type {\n",
       "        vertical-align: middle;\n",
       "    }\n",
       "\n",
       "    .dataframe tbody tr th {\n",
       "        vertical-align: top;\n",
       "    }\n",
       "\n",
       "    .dataframe thead th {\n",
       "        text-align: right;\n",
       "    }\n",
       "</style>\n",
       "<table border=\"1\" class=\"dataframe\">\n",
       "  <thead>\n",
       "    <tr style=\"text-align: right;\">\n",
       "      <th></th>\n",
       "      <th>ï»¿id</th>\n",
       "      <th>dateAdded</th>\n",
       "      <th>dateUpdated</th>\n",
       "      <th>address</th>\n",
       "      <th>categories</th>\n",
       "      <th>primaryCategories</th>\n",
       "      <th>city</th>\n",
       "      <th>country</th>\n",
       "      <th>keys</th>\n",
       "      <th>latitude</th>\n",
       "      <th>...</th>\n",
       "      <th>reviews.dateSeen</th>\n",
       "      <th>reviews.rating</th>\n",
       "      <th>reviews.sourceURLs</th>\n",
       "      <th>reviews.text</th>\n",
       "      <th>reviews.title</th>\n",
       "      <th>reviews.userCity</th>\n",
       "      <th>reviews.userProvince</th>\n",
       "      <th>reviews.username</th>\n",
       "      <th>sourceURLs</th>\n",
       "      <th>websites</th>\n",
       "    </tr>\n",
       "  </thead>\n",
       "  <tbody>\n",
       "    <tr>\n",
       "      <th>7307</th>\n",
       "      <td>AVwchf6wIN2L1WUfl4Ez</td>\n",
       "      <td>2015-07-09T09:59:13Z</td>\n",
       "      <td>2018-01-30T06:28:30Z</td>\n",
       "      <td>401 Lenora St</td>\n",
       "      <td>Hotel,Resort,Hotels Motels,Business Hotels</td>\n",
       "      <td>Accommodation &amp; Food Services</td>\n",
       "      <td>Seattle</td>\n",
       "      <td>US</td>\n",
       "      <td>us/wa/seattle/401lenorast/-943527794</td>\n",
       "      <td>47.613903</td>\n",
       "      <td>...</td>\n",
       "      <td>2015-07-08T00:00:00Z</td>\n",
       "      <td>5.0</td>\n",
       "      <td>http://www.tripadvisor.com/Hotel_Review-g60878...</td>\n",
       "      <td>Stayed two nights with two girlfriends in a ro...</td>\n",
       "      <td>Girlfriends getaway...great locale, very comfo...</td>\n",
       "      <td>NaN</td>\n",
       "      <td>NaN</td>\n",
       "      <td>KAS001</td>\n",
       "      <td>https://foursquare.com/v/warwick-seattle-hotel...</td>\n",
       "      <td>http://www.warwickmelrosedallas.com</td>\n",
       "    </tr>\n",
       "    <tr>\n",
       "      <th>3279</th>\n",
       "      <td>AWIYGr06IxWefVJwzU-7</td>\n",
       "      <td>2018-03-12T01:20:57Z</td>\n",
       "      <td>2018-05-28T16:18:29Z</td>\n",
       "      <td>1516 Aero Dr</td>\n",
       "      <td>Hotels,Hotel</td>\n",
       "      <td>Accommodation &amp; Food Services</td>\n",
       "      <td>Linthicum Heights</td>\n",
       "      <td>US</td>\n",
       "      <td>us/md/linthicumheights/1516aerodr/7992643</td>\n",
       "      <td>39.210072</td>\n",
       "      <td>...</td>\n",
       "      <td>2018-03-09T00:00:00Z</td>\n",
       "      <td>2.0</td>\n",
       "      <td>http://www.expedia.com/Hotels.h794942-p109.Hot...</td>\n",
       "      <td>Check in was quick. Room was clean. About 11pm...</td>\n",
       "      <td>Bring your own towels and some bug spray</td>\n",
       "      <td>NaN</td>\n",
       "      <td>NaN</td>\n",
       "      <td>A verified traveler</td>\n",
       "      <td>http://www.expedia.com/Hotels.h794942-p103.Hot...</td>\n",
       "      <td>http://hiltongardeninn3.hilton.com/en/hotels/m...</td>\n",
       "    </tr>\n",
       "  </tbody>\n",
       "</table>\n",
       "<p>2 rows × 25 columns</p>\n",
       "</div>"
      ],
      "text/plain": [
       "                     ï»¿id             dateAdded           dateUpdated  \\\n",
       "7307  AVwchf6wIN2L1WUfl4Ez  2015-07-09T09:59:13Z  2018-01-30T06:28:30Z   \n",
       "3279  AWIYGr06IxWefVJwzU-7  2018-03-12T01:20:57Z  2018-05-28T16:18:29Z   \n",
       "\n",
       "            address                                  categories  \\\n",
       "7307  401 Lenora St  Hotel,Resort,Hotels Motels,Business Hotels   \n",
       "3279   1516 Aero Dr                                Hotels,Hotel   \n",
       "\n",
       "                  primaryCategories               city country  \\\n",
       "7307  Accommodation & Food Services            Seattle      US   \n",
       "3279  Accommodation & Food Services  Linthicum Heights      US   \n",
       "\n",
       "                                           keys   latitude  ...  \\\n",
       "7307       us/wa/seattle/401lenorast/-943527794  47.613903  ...   \n",
       "3279  us/md/linthicumheights/1516aerodr/7992643  39.210072  ...   \n",
       "\n",
       "          reviews.dateSeen reviews.rating  \\\n",
       "7307  2015-07-08T00:00:00Z            5.0   \n",
       "3279  2018-03-09T00:00:00Z            2.0   \n",
       "\n",
       "                                     reviews.sourceURLs  \\\n",
       "7307  http://www.tripadvisor.com/Hotel_Review-g60878...   \n",
       "3279  http://www.expedia.com/Hotels.h794942-p109.Hot...   \n",
       "\n",
       "                                           reviews.text  \\\n",
       "7307  Stayed two nights with two girlfriends in a ro...   \n",
       "3279  Check in was quick. Room was clean. About 11pm...   \n",
       "\n",
       "                                          reviews.title reviews.userCity  \\\n",
       "7307  Girlfriends getaway...great locale, very comfo...              NaN   \n",
       "3279           Bring your own towels and some bug spray              NaN   \n",
       "\n",
       "      reviews.userProvince     reviews.username  \\\n",
       "7307                   NaN               KAS001   \n",
       "3279                   NaN  A verified traveler   \n",
       "\n",
       "                                             sourceURLs  \\\n",
       "7307  https://foursquare.com/v/warwick-seattle-hotel...   \n",
       "3279  http://www.expedia.com/Hotels.h794942-p103.Hot...   \n",
       "\n",
       "                                               websites  \n",
       "7307                http://www.warwickmelrosedallas.com  \n",
       "3279  http://hiltongardeninn3.hilton.com/en/hotels/m...  \n",
       "\n",
       "[2 rows x 25 columns]"
      ]
     },
     "execution_count": 23,
     "metadata": {},
     "output_type": "execute_result"
    }
   ],
   "source": [
    "df_last.sample(2)"
   ]
  }
 ],
 "metadata": {
  "kernelspec": {
   "display_name": "myenv (3.13.5)",
   "language": "python",
   "name": "python3"
  },
  "language_info": {
   "codemirror_mode": {
    "name": "ipython",
    "version": 3
   },
   "file_extension": ".py",
   "mimetype": "text/x-python",
   "name": "python",
   "nbconvert_exporter": "python",
   "pygments_lexer": "ipython3",
   "version": "3.13.5"
  }
 },
 "nbformat": 4,
 "nbformat_minor": 5
}
